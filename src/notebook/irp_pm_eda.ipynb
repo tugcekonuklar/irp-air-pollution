{
 "cells": [
  {
   "cell_type": "markdown",
   "metadata": {
    "jupyter": {
     "outputs_hidden": false
    },
    "pycharm": {
     "name": "#%% md\n"
    }
   },
   "source": [
    "# Postdam PM2.5 Forecasting \n",
    "\n",
    "Between 2013 and 2023, data collected by DEBB021 was used. \n",
    "\n",
    "To increase the accuracy of PM2.5 data estimation, NO2, O3, SO2, PM10 pollutant gas data accepted by the EEA was added.\n"
   ]
  },
  {
   "cell_type": "code",
   "execution_count": 2,
   "metadata": {
    "pycharm": {
     "is_executing": true,
     "name": "#%%\n"
    },
    "tags": []
   },
   "outputs": [],
   "source": [
    "# imports\n",
    "import sys\n",
    "import os\n",
    "sys.path.append(os.path.dirname(os.getcwd()))\n",
    "import pandas as pd\n",
    "import eda as eda\n",
    "import model_base as mb"
   ]
  },
  {
   "cell_type": "markdown",
   "metadata": {
    "pycharm": {
     "name": "#%% md\n"
    }
   },
   "source": [
    "## Data Exploration\n",
    "\n",
    "* Load Data\n",
    "* Merge\n",
    "* Filter and Clean\n"
   ]
  },
  {
   "cell_type": "code",
   "execution_count": 3,
   "metadata": {
    "pycharm": {
     "name": "#%%\n"
    },
    "tags": []
   },
   "outputs": [
    {
     "data": {
      "text/html": [
       "<div>\n",
       "<style scoped>\n",
       "    .dataframe tbody tr th:only-of-type {\n",
       "        vertical-align: middle;\n",
       "    }\n",
       "\n",
       "    .dataframe tbody tr th {\n",
       "        vertical-align: top;\n",
       "    }\n",
       "\n",
       "    .dataframe thead th {\n",
       "        text-align: right;\n",
       "    }\n",
       "</style>\n",
       "<table border=\"1\" class=\"dataframe\">\n",
       "  <thead>\n",
       "    <tr style=\"text-align: right;\">\n",
       "      <th></th>\n",
       "      <th>Samplingpoint</th>\n",
       "      <th>Pollutant</th>\n",
       "      <th>Start</th>\n",
       "      <th>End</th>\n",
       "      <th>Value</th>\n",
       "      <th>Unit</th>\n",
       "      <th>AggType</th>\n",
       "      <th>Validity</th>\n",
       "      <th>Verification</th>\n",
       "      <th>ResultTime</th>\n",
       "      <th>DataCapture</th>\n",
       "      <th>FkObservationLog</th>\n",
       "    </tr>\n",
       "  </thead>\n",
       "  <tbody>\n",
       "    <tr>\n",
       "      <th>0</th>\n",
       "      <td>DE/SPO.DE_DEBB021_PM2_dataGroup1</td>\n",
       "      <td>6001</td>\n",
       "      <td>2013-01-01 00:00:00</td>\n",
       "      <td>2013-01-01 01:00:00</td>\n",
       "      <td>71.04</td>\n",
       "      <td>ug.m-3</td>\n",
       "      <td>hour</td>\n",
       "      <td>1</td>\n",
       "      <td>1</td>\n",
       "      <td>2014-09-23 12:18:11</td>\n",
       "      <td>NaN</td>\n",
       "      <td>dcc86bec-211d-4d9f-b0fb-6e37766b0f90</td>\n",
       "    </tr>\n",
       "    <tr>\n",
       "      <th>1</th>\n",
       "      <td>DE/SPO.DE_DEBB021_PM2_dataGroup1</td>\n",
       "      <td>6001</td>\n",
       "      <td>2013-01-01 01:00:00</td>\n",
       "      <td>2013-01-01 02:00:00</td>\n",
       "      <td>20.52</td>\n",
       "      <td>ug.m-3</td>\n",
       "      <td>hour</td>\n",
       "      <td>1</td>\n",
       "      <td>1</td>\n",
       "      <td>2014-09-23 12:18:11</td>\n",
       "      <td>NaN</td>\n",
       "      <td>dcc86bec-211d-4d9f-b0fb-6e37766b0f90</td>\n",
       "    </tr>\n",
       "    <tr>\n",
       "      <th>2</th>\n",
       "      <td>DE/SPO.DE_DEBB021_PM2_dataGroup1</td>\n",
       "      <td>6001</td>\n",
       "      <td>2013-01-01 02:00:00</td>\n",
       "      <td>2013-01-01 03:00:00</td>\n",
       "      <td>9.56</td>\n",
       "      <td>ug.m-3</td>\n",
       "      <td>hour</td>\n",
       "      <td>1</td>\n",
       "      <td>1</td>\n",
       "      <td>2014-09-23 12:18:11</td>\n",
       "      <td>NaN</td>\n",
       "      <td>dcc86bec-211d-4d9f-b0fb-6e37766b0f90</td>\n",
       "    </tr>\n",
       "    <tr>\n",
       "      <th>3</th>\n",
       "      <td>DE/SPO.DE_DEBB021_PM2_dataGroup1</td>\n",
       "      <td>6001</td>\n",
       "      <td>2013-01-01 03:00:00</td>\n",
       "      <td>2013-01-01 04:00:00</td>\n",
       "      <td>9.45</td>\n",
       "      <td>ug.m-3</td>\n",
       "      <td>hour</td>\n",
       "      <td>1</td>\n",
       "      <td>1</td>\n",
       "      <td>2014-09-23 12:18:11</td>\n",
       "      <td>NaN</td>\n",
       "      <td>dcc86bec-211d-4d9f-b0fb-6e37766b0f90</td>\n",
       "    </tr>\n",
       "    <tr>\n",
       "      <th>4</th>\n",
       "      <td>DE/SPO.DE_DEBB021_PM2_dataGroup1</td>\n",
       "      <td>6001</td>\n",
       "      <td>2013-01-01 04:00:00</td>\n",
       "      <td>2013-01-01 05:00:00</td>\n",
       "      <td>13.02</td>\n",
       "      <td>ug.m-3</td>\n",
       "      <td>hour</td>\n",
       "      <td>1</td>\n",
       "      <td>1</td>\n",
       "      <td>2014-09-23 12:18:11</td>\n",
       "      <td>NaN</td>\n",
       "      <td>dcc86bec-211d-4d9f-b0fb-6e37766b0f90</td>\n",
       "    </tr>\n",
       "  </tbody>\n",
       "</table>\n",
       "</div>"
      ],
      "text/plain": [
       "                      Samplingpoint  Pollutant                Start  \\\n",
       "0  DE/SPO.DE_DEBB021_PM2_dataGroup1       6001  2013-01-01 00:00:00   \n",
       "1  DE/SPO.DE_DEBB021_PM2_dataGroup1       6001  2013-01-01 01:00:00   \n",
       "2  DE/SPO.DE_DEBB021_PM2_dataGroup1       6001  2013-01-01 02:00:00   \n",
       "3  DE/SPO.DE_DEBB021_PM2_dataGroup1       6001  2013-01-01 03:00:00   \n",
       "4  DE/SPO.DE_DEBB021_PM2_dataGroup1       6001  2013-01-01 04:00:00   \n",
       "\n",
       "                   End  Value    Unit AggType  Validity  Verification  \\\n",
       "0  2013-01-01 01:00:00  71.04  ug.m-3    hour         1             1   \n",
       "1  2013-01-01 02:00:00  20.52  ug.m-3    hour         1             1   \n",
       "2  2013-01-01 03:00:00   9.56  ug.m-3    hour         1             1   \n",
       "3  2013-01-01 04:00:00   9.45  ug.m-3    hour         1             1   \n",
       "4  2013-01-01 05:00:00  13.02  ug.m-3    hour         1             1   \n",
       "\n",
       "            ResultTime  DataCapture                      FkObservationLog  \n",
       "0  2014-09-23 12:18:11          NaN  dcc86bec-211d-4d9f-b0fb-6e37766b0f90  \n",
       "1  2014-09-23 12:18:11          NaN  dcc86bec-211d-4d9f-b0fb-6e37766b0f90  \n",
       "2  2014-09-23 12:18:11          NaN  dcc86bec-211d-4d9f-b0fb-6e37766b0f90  \n",
       "3  2014-09-23 12:18:11          NaN  dcc86bec-211d-4d9f-b0fb-6e37766b0f90  \n",
       "4  2014-09-23 12:18:11          NaN  dcc86bec-211d-4d9f-b0fb-6e37766b0f90  "
      ]
     },
     "execution_count": 3,
     "metadata": {},
     "output_type": "execute_result"
    }
   ],
   "source": [
    "df_pm25 = pd.read_csv('../data/PM2.5_DE_DEBB021.csv')\n",
    "df_pm10 = pd.read_csv('../data/PM10_DE_DEBB021.csv')\n",
    "df_no2 = pd.read_csv('../data/NO2_DE_DEBB021.csv')\n",
    "df_o3 = pd.read_csv('../data/O3_DE_DEBB021.csv')\n",
    "df_so2 = pd.read_csv('../data/SO2_DE_DEBB021.csv')\n",
    "\n",
    "df_pm25.head()"
   ]
  },
  {
   "cell_type": "code",
   "execution_count": 4,
   "metadata": {
    "pycharm": {
     "name": "#%%\n"
    },
    "tags": []
   },
   "outputs": [
    {
     "data": {
      "text/html": [
       "<div>\n",
       "<style scoped>\n",
       "    .dataframe tbody tr th:only-of-type {\n",
       "        vertical-align: middle;\n",
       "    }\n",
       "\n",
       "    .dataframe tbody tr th {\n",
       "        vertical-align: top;\n",
       "    }\n",
       "\n",
       "    .dataframe thead th {\n",
       "        text-align: right;\n",
       "    }\n",
       "</style>\n",
       "<table border=\"1\" class=\"dataframe\">\n",
       "  <thead>\n",
       "    <tr style=\"text-align: right;\">\n",
       "      <th></th>\n",
       "      <th>count</th>\n",
       "      <th>mean</th>\n",
       "      <th>std</th>\n",
       "      <th>min</th>\n",
       "      <th>25%</th>\n",
       "      <th>50%</th>\n",
       "      <th>75%</th>\n",
       "      <th>max</th>\n",
       "    </tr>\n",
       "  </thead>\n",
       "  <tbody>\n",
       "    <tr>\n",
       "      <th>Pollutant</th>\n",
       "      <td>87648.0</td>\n",
       "      <td>6001.000000</td>\n",
       "      <td>0.000000</td>\n",
       "      <td>6001.0</td>\n",
       "      <td>6001.0</td>\n",
       "      <td>6001.0</td>\n",
       "      <td>6001.0</td>\n",
       "      <td>6001.0</td>\n",
       "    </tr>\n",
       "    <tr>\n",
       "      <th>Value</th>\n",
       "      <td>87648.0</td>\n",
       "      <td>10.192952</td>\n",
       "      <td>54.500614</td>\n",
       "      <td>-999.0</td>\n",
       "      <td>6.0</td>\n",
       "      <td>10.0</td>\n",
       "      <td>17.0</td>\n",
       "      <td>194.0</td>\n",
       "    </tr>\n",
       "    <tr>\n",
       "      <th>Validity</th>\n",
       "      <td>87648.0</td>\n",
       "      <td>1.005545</td>\n",
       "      <td>0.149514</td>\n",
       "      <td>-1.0</td>\n",
       "      <td>1.0</td>\n",
       "      <td>1.0</td>\n",
       "      <td>1.0</td>\n",
       "      <td>2.0</td>\n",
       "    </tr>\n",
       "    <tr>\n",
       "      <th>Verification</th>\n",
       "      <td>87648.0</td>\n",
       "      <td>1.000011</td>\n",
       "      <td>0.003378</td>\n",
       "      <td>1.0</td>\n",
       "      <td>1.0</td>\n",
       "      <td>1.0</td>\n",
       "      <td>1.0</td>\n",
       "      <td>2.0</td>\n",
       "    </tr>\n",
       "    <tr>\n",
       "      <th>DataCapture</th>\n",
       "      <td>0.0</td>\n",
       "      <td>NaN</td>\n",
       "      <td>NaN</td>\n",
       "      <td>NaN</td>\n",
       "      <td>NaN</td>\n",
       "      <td>NaN</td>\n",
       "      <td>NaN</td>\n",
       "      <td>NaN</td>\n",
       "    </tr>\n",
       "  </tbody>\n",
       "</table>\n",
       "</div>"
      ],
      "text/plain": [
       "                count         mean        std     min     25%     50%     75%  \\\n",
       "Pollutant     87648.0  6001.000000   0.000000  6001.0  6001.0  6001.0  6001.0   \n",
       "Value         87648.0    10.192952  54.500614  -999.0     6.0    10.0    17.0   \n",
       "Validity      87648.0     1.005545   0.149514    -1.0     1.0     1.0     1.0   \n",
       "Verification  87648.0     1.000011   0.003378     1.0     1.0     1.0     1.0   \n",
       "DataCapture       0.0          NaN        NaN     NaN     NaN     NaN     NaN   \n",
       "\n",
       "                 max  \n",
       "Pollutant     6001.0  \n",
       "Value          194.0  \n",
       "Validity         2.0  \n",
       "Verification     2.0  \n",
       "DataCapture      NaN  "
      ]
     },
     "execution_count": 4,
     "metadata": {},
     "output_type": "execute_result"
    }
   ],
   "source": [
    "df_pm25.describe().transpose()"
   ]
  },
  {
   "cell_type": "code",
   "execution_count": 5,
   "metadata": {
    "collapsed": false,
    "jupyter": {
     "outputs_hidden": false
    },
    "pycharm": {
     "name": "#%%\n"
    }
   },
   "outputs": [
    {
     "data": {
      "text/html": [
       "<div>\n",
       "<style scoped>\n",
       "    .dataframe tbody tr th:only-of-type {\n",
       "        vertical-align: middle;\n",
       "    }\n",
       "\n",
       "    .dataframe tbody tr th {\n",
       "        vertical-align: top;\n",
       "    }\n",
       "\n",
       "    .dataframe thead th {\n",
       "        text-align: right;\n",
       "    }\n",
       "</style>\n",
       "<table border=\"1\" class=\"dataframe\">\n",
       "  <thead>\n",
       "    <tr style=\"text-align: right;\">\n",
       "      <th></th>\n",
       "      <th>count</th>\n",
       "      <th>mean</th>\n",
       "      <th>std</th>\n",
       "      <th>min</th>\n",
       "      <th>25%</th>\n",
       "      <th>50%</th>\n",
       "      <th>75%</th>\n",
       "      <th>max</th>\n",
       "    </tr>\n",
       "  </thead>\n",
       "  <tbody>\n",
       "    <tr>\n",
       "      <th>Pollutant</th>\n",
       "      <td>87648.0</td>\n",
       "      <td>5.000000</td>\n",
       "      <td>0.000000</td>\n",
       "      <td>5.0</td>\n",
       "      <td>5.00</td>\n",
       "      <td>5.00000</td>\n",
       "      <td>5.0</td>\n",
       "      <td>5.0</td>\n",
       "    </tr>\n",
       "    <tr>\n",
       "      <th>Value</th>\n",
       "      <td>87648.0</td>\n",
       "      <td>14.848907</td>\n",
       "      <td>56.695262</td>\n",
       "      <td>-999.0</td>\n",
       "      <td>9.26</td>\n",
       "      <td>14.84908</td>\n",
       "      <td>23.2</td>\n",
       "      <td>705.3</td>\n",
       "    </tr>\n",
       "    <tr>\n",
       "      <th>Validity</th>\n",
       "      <td>87648.0</td>\n",
       "      <td>0.997456</td>\n",
       "      <td>0.123482</td>\n",
       "      <td>-1.0</td>\n",
       "      <td>1.00</td>\n",
       "      <td>1.00000</td>\n",
       "      <td>1.0</td>\n",
       "      <td>2.0</td>\n",
       "    </tr>\n",
       "    <tr>\n",
       "      <th>Verification</th>\n",
       "      <td>87648.0</td>\n",
       "      <td>1.000011</td>\n",
       "      <td>0.003378</td>\n",
       "      <td>1.0</td>\n",
       "      <td>1.00</td>\n",
       "      <td>1.00000</td>\n",
       "      <td>1.0</td>\n",
       "      <td>2.0</td>\n",
       "    </tr>\n",
       "    <tr>\n",
       "      <th>DataCapture</th>\n",
       "      <td>0.0</td>\n",
       "      <td>NaN</td>\n",
       "      <td>NaN</td>\n",
       "      <td>NaN</td>\n",
       "      <td>NaN</td>\n",
       "      <td>NaN</td>\n",
       "      <td>NaN</td>\n",
       "      <td>NaN</td>\n",
       "    </tr>\n",
       "  </tbody>\n",
       "</table>\n",
       "</div>"
      ],
      "text/plain": [
       "                count       mean        std    min   25%       50%   75%  \\\n",
       "Pollutant     87648.0   5.000000   0.000000    5.0  5.00   5.00000   5.0   \n",
       "Value         87648.0  14.848907  56.695262 -999.0  9.26  14.84908  23.2   \n",
       "Validity      87648.0   0.997456   0.123482   -1.0  1.00   1.00000   1.0   \n",
       "Verification  87648.0   1.000011   0.003378    1.0  1.00   1.00000   1.0   \n",
       "DataCapture       0.0        NaN        NaN    NaN   NaN       NaN   NaN   \n",
       "\n",
       "                max  \n",
       "Pollutant       5.0  \n",
       "Value         705.3  \n",
       "Validity        2.0  \n",
       "Verification    2.0  \n",
       "DataCapture     NaN  "
      ]
     },
     "execution_count": 5,
     "metadata": {},
     "output_type": "execute_result"
    }
   ],
   "source": [
    "df_pm10.describe().transpose()"
   ]
  },
  {
   "cell_type": "code",
   "execution_count": 6,
   "metadata": {
    "collapsed": false,
    "jupyter": {
     "outputs_hidden": false
    },
    "pycharm": {
     "name": "#%%\n"
    }
   },
   "outputs": [
    {
     "data": {
      "text/html": [
       "<div>\n",
       "<style scoped>\n",
       "    .dataframe tbody tr th:only-of-type {\n",
       "        vertical-align: middle;\n",
       "    }\n",
       "\n",
       "    .dataframe tbody tr th {\n",
       "        vertical-align: top;\n",
       "    }\n",
       "\n",
       "    .dataframe thead th {\n",
       "        text-align: right;\n",
       "    }\n",
       "</style>\n",
       "<table border=\"1\" class=\"dataframe\">\n",
       "  <thead>\n",
       "    <tr style=\"text-align: right;\">\n",
       "      <th></th>\n",
       "      <th>count</th>\n",
       "      <th>mean</th>\n",
       "      <th>std</th>\n",
       "      <th>min</th>\n",
       "      <th>25%</th>\n",
       "      <th>50%</th>\n",
       "      <th>75%</th>\n",
       "      <th>max</th>\n",
       "    </tr>\n",
       "  </thead>\n",
       "  <tbody>\n",
       "    <tr>\n",
       "      <th>Pollutant</th>\n",
       "      <td>87648.0</td>\n",
       "      <td>8.000000</td>\n",
       "      <td>0.000000</td>\n",
       "      <td>8.0</td>\n",
       "      <td>8.00</td>\n",
       "      <td>8.00</td>\n",
       "      <td>8.000000</td>\n",
       "      <td>8.00</td>\n",
       "    </tr>\n",
       "    <tr>\n",
       "      <th>Value</th>\n",
       "      <td>87648.0</td>\n",
       "      <td>13.725483</td>\n",
       "      <td>51.692710</td>\n",
       "      <td>-999.0</td>\n",
       "      <td>7.86</td>\n",
       "      <td>12.92</td>\n",
       "      <td>21.194304</td>\n",
       "      <td>134.09</td>\n",
       "    </tr>\n",
       "    <tr>\n",
       "      <th>Validity</th>\n",
       "      <td>87648.0</td>\n",
       "      <td>1.029310</td>\n",
       "      <td>0.207938</td>\n",
       "      <td>-1.0</td>\n",
       "      <td>1.00</td>\n",
       "      <td>1.00</td>\n",
       "      <td>1.000000</td>\n",
       "      <td>2.00</td>\n",
       "    </tr>\n",
       "    <tr>\n",
       "      <th>Verification</th>\n",
       "      <td>87648.0</td>\n",
       "      <td>1.000011</td>\n",
       "      <td>0.003378</td>\n",
       "      <td>1.0</td>\n",
       "      <td>1.00</td>\n",
       "      <td>1.00</td>\n",
       "      <td>1.000000</td>\n",
       "      <td>2.00</td>\n",
       "    </tr>\n",
       "    <tr>\n",
       "      <th>DataCapture</th>\n",
       "      <td>0.0</td>\n",
       "      <td>NaN</td>\n",
       "      <td>NaN</td>\n",
       "      <td>NaN</td>\n",
       "      <td>NaN</td>\n",
       "      <td>NaN</td>\n",
       "      <td>NaN</td>\n",
       "      <td>NaN</td>\n",
       "    </tr>\n",
       "  </tbody>\n",
       "</table>\n",
       "</div>"
      ],
      "text/plain": [
       "                count       mean        std    min   25%    50%        75%  \\\n",
       "Pollutant     87648.0   8.000000   0.000000    8.0  8.00   8.00   8.000000   \n",
       "Value         87648.0  13.725483  51.692710 -999.0  7.86  12.92  21.194304   \n",
       "Validity      87648.0   1.029310   0.207938   -1.0  1.00   1.00   1.000000   \n",
       "Verification  87648.0   1.000011   0.003378    1.0  1.00   1.00   1.000000   \n",
       "DataCapture       0.0        NaN        NaN    NaN   NaN    NaN        NaN   \n",
       "\n",
       "                 max  \n",
       "Pollutant       8.00  \n",
       "Value         134.09  \n",
       "Validity        2.00  \n",
       "Verification    2.00  \n",
       "DataCapture      NaN  "
      ]
     },
     "execution_count": 6,
     "metadata": {},
     "output_type": "execute_result"
    }
   ],
   "source": [
    "df_no2.describe().transpose()"
   ]
  },
  {
   "cell_type": "code",
   "execution_count": 7,
   "metadata": {
    "collapsed": false,
    "jupyter": {
     "outputs_hidden": false
    },
    "pycharm": {
     "name": "#%%\n"
    }
   },
   "outputs": [
    {
     "data": {
      "text/html": [
       "<div>\n",
       "<style scoped>\n",
       "    .dataframe tbody tr th:only-of-type {\n",
       "        vertical-align: middle;\n",
       "    }\n",
       "\n",
       "    .dataframe tbody tr th {\n",
       "        vertical-align: top;\n",
       "    }\n",
       "\n",
       "    .dataframe thead th {\n",
       "        text-align: right;\n",
       "    }\n",
       "</style>\n",
       "<table border=\"1\" class=\"dataframe\">\n",
       "  <thead>\n",
       "    <tr style=\"text-align: right;\">\n",
       "      <th></th>\n",
       "      <th>count</th>\n",
       "      <th>mean</th>\n",
       "      <th>std</th>\n",
       "      <th>min</th>\n",
       "      <th>25%</th>\n",
       "      <th>50%</th>\n",
       "      <th>75%</th>\n",
       "      <th>max</th>\n",
       "    </tr>\n",
       "  </thead>\n",
       "  <tbody>\n",
       "    <tr>\n",
       "      <th>Pollutant</th>\n",
       "      <td>87648.0</td>\n",
       "      <td>7.000000</td>\n",
       "      <td>0.000000</td>\n",
       "      <td>7.0</td>\n",
       "      <td>7.00</td>\n",
       "      <td>7.00</td>\n",
       "      <td>7.0</td>\n",
       "      <td>7.00</td>\n",
       "    </tr>\n",
       "    <tr>\n",
       "      <th>Value</th>\n",
       "      <td>87648.0</td>\n",
       "      <td>47.729893</td>\n",
       "      <td>66.412839</td>\n",
       "      <td>-999.0</td>\n",
       "      <td>29.03</td>\n",
       "      <td>49.93</td>\n",
       "      <td>69.9</td>\n",
       "      <td>189.88</td>\n",
       "    </tr>\n",
       "    <tr>\n",
       "      <th>Validity</th>\n",
       "      <td>87648.0</td>\n",
       "      <td>1.031124</td>\n",
       "      <td>0.222552</td>\n",
       "      <td>-1.0</td>\n",
       "      <td>1.00</td>\n",
       "      <td>1.00</td>\n",
       "      <td>1.0</td>\n",
       "      <td>2.00</td>\n",
       "    </tr>\n",
       "    <tr>\n",
       "      <th>Verification</th>\n",
       "      <td>87648.0</td>\n",
       "      <td>1.000011</td>\n",
       "      <td>0.003378</td>\n",
       "      <td>1.0</td>\n",
       "      <td>1.00</td>\n",
       "      <td>1.00</td>\n",
       "      <td>1.0</td>\n",
       "      <td>2.00</td>\n",
       "    </tr>\n",
       "    <tr>\n",
       "      <th>DataCapture</th>\n",
       "      <td>0.0</td>\n",
       "      <td>NaN</td>\n",
       "      <td>NaN</td>\n",
       "      <td>NaN</td>\n",
       "      <td>NaN</td>\n",
       "      <td>NaN</td>\n",
       "      <td>NaN</td>\n",
       "      <td>NaN</td>\n",
       "    </tr>\n",
       "  </tbody>\n",
       "</table>\n",
       "</div>"
      ],
      "text/plain": [
       "                count       mean        std    min    25%    50%   75%     max\n",
       "Pollutant     87648.0   7.000000   0.000000    7.0   7.00   7.00   7.0    7.00\n",
       "Value         87648.0  47.729893  66.412839 -999.0  29.03  49.93  69.9  189.88\n",
       "Validity      87648.0   1.031124   0.222552   -1.0   1.00   1.00   1.0    2.00\n",
       "Verification  87648.0   1.000011   0.003378    1.0   1.00   1.00   1.0    2.00\n",
       "DataCapture       0.0        NaN        NaN    NaN    NaN    NaN   NaN     NaN"
      ]
     },
     "execution_count": 7,
     "metadata": {},
     "output_type": "execute_result"
    }
   ],
   "source": [
    "df_o3.describe().transpose()"
   ]
  },
  {
   "cell_type": "code",
   "execution_count": 8,
   "metadata": {
    "collapsed": false,
    "jupyter": {
     "outputs_hidden": false
    },
    "pycharm": {
     "name": "#%%\n"
    }
   },
   "outputs": [
    {
     "data": {
      "text/html": [
       "<div>\n",
       "<style scoped>\n",
       "    .dataframe tbody tr th:only-of-type {\n",
       "        vertical-align: middle;\n",
       "    }\n",
       "\n",
       "    .dataframe tbody tr th {\n",
       "        vertical-align: top;\n",
       "    }\n",
       "\n",
       "    .dataframe thead th {\n",
       "        text-align: right;\n",
       "    }\n",
       "</style>\n",
       "<table border=\"1\" class=\"dataframe\">\n",
       "  <thead>\n",
       "    <tr style=\"text-align: right;\">\n",
       "      <th></th>\n",
       "      <th>count</th>\n",
       "      <th>mean</th>\n",
       "      <th>std</th>\n",
       "      <th>min</th>\n",
       "      <th>25%</th>\n",
       "      <th>50%</th>\n",
       "      <th>75%</th>\n",
       "      <th>max</th>\n",
       "    </tr>\n",
       "  </thead>\n",
       "  <tbody>\n",
       "    <tr>\n",
       "      <th>Pollutant</th>\n",
       "      <td>87648.0</td>\n",
       "      <td>1.000000</td>\n",
       "      <td>0.000000</td>\n",
       "      <td>1.0</td>\n",
       "      <td>1.0</td>\n",
       "      <td>1.00</td>\n",
       "      <td>1.00</td>\n",
       "      <td>1.00</td>\n",
       "    </tr>\n",
       "    <tr>\n",
       "      <th>Value</th>\n",
       "      <td>87648.0</td>\n",
       "      <td>-1.665583</td>\n",
       "      <td>58.170432</td>\n",
       "      <td>-999.0</td>\n",
       "      <td>1.3</td>\n",
       "      <td>1.33</td>\n",
       "      <td>1.33</td>\n",
       "      <td>23.55</td>\n",
       "    </tr>\n",
       "    <tr>\n",
       "      <th>Validity</th>\n",
       "      <td>87648.0</td>\n",
       "      <td>1.652439</td>\n",
       "      <td>0.497088</td>\n",
       "      <td>-1.0</td>\n",
       "      <td>1.0</td>\n",
       "      <td>2.00</td>\n",
       "      <td>2.00</td>\n",
       "      <td>2.00</td>\n",
       "    </tr>\n",
       "    <tr>\n",
       "      <th>Verification</th>\n",
       "      <td>87648.0</td>\n",
       "      <td>1.000011</td>\n",
       "      <td>0.003378</td>\n",
       "      <td>1.0</td>\n",
       "      <td>1.0</td>\n",
       "      <td>1.00</td>\n",
       "      <td>1.00</td>\n",
       "      <td>2.00</td>\n",
       "    </tr>\n",
       "    <tr>\n",
       "      <th>DataCapture</th>\n",
       "      <td>0.0</td>\n",
       "      <td>NaN</td>\n",
       "      <td>NaN</td>\n",
       "      <td>NaN</td>\n",
       "      <td>NaN</td>\n",
       "      <td>NaN</td>\n",
       "      <td>NaN</td>\n",
       "      <td>NaN</td>\n",
       "    </tr>\n",
       "  </tbody>\n",
       "</table>\n",
       "</div>"
      ],
      "text/plain": [
       "                count      mean        std    min  25%   50%   75%    max\n",
       "Pollutant     87648.0  1.000000   0.000000    1.0  1.0  1.00  1.00   1.00\n",
       "Value         87648.0 -1.665583  58.170432 -999.0  1.3  1.33  1.33  23.55\n",
       "Validity      87648.0  1.652439   0.497088   -1.0  1.0  2.00  2.00   2.00\n",
       "Verification  87648.0  1.000011   0.003378    1.0  1.0  1.00  1.00   2.00\n",
       "DataCapture       0.0       NaN        NaN    NaN  NaN   NaN   NaN    NaN"
      ]
     },
     "execution_count": 8,
     "metadata": {},
     "output_type": "execute_result"
    }
   ],
   "source": [
    "df_so2.describe().transpose()"
   ]
  },
  {
   "cell_type": "code",
   "execution_count": 9,
   "metadata": {
    "collapsed": false,
    "jupyter": {
     "outputs_hidden": false
    },
    "pycharm": {
     "name": "#%%\n"
    }
   },
   "outputs": [
    {
     "data": {
      "text/html": [
       "<div>\n",
       "<style scoped>\n",
       "    .dataframe tbody tr th:only-of-type {\n",
       "        vertical-align: middle;\n",
       "    }\n",
       "\n",
       "    .dataframe tbody tr th {\n",
       "        vertical-align: top;\n",
       "    }\n",
       "\n",
       "    .dataframe thead th {\n",
       "        text-align: right;\n",
       "    }\n",
       "</style>\n",
       "<table border=\"1\" class=\"dataframe\">\n",
       "  <thead>\n",
       "    <tr style=\"text-align: right;\">\n",
       "      <th></th>\n",
       "      <th>Start</th>\n",
       "      <th>End</th>\n",
       "      <th>PM2.5-Pollutant</th>\n",
       "      <th>PM2.5-Value</th>\n",
       "      <th>PM2.5-Unit</th>\n",
       "      <th>PM2.5-Validity</th>\n",
       "      <th>PM2.5-Verification</th>\n",
       "    </tr>\n",
       "  </thead>\n",
       "  <tbody>\n",
       "    <tr>\n",
       "      <th>0</th>\n",
       "      <td>2013-01-01 00:00:00</td>\n",
       "      <td>2013-01-01 01:00:00</td>\n",
       "      <td>6001</td>\n",
       "      <td>71.04</td>\n",
       "      <td>ug.m-3</td>\n",
       "      <td>1</td>\n",
       "      <td>1</td>\n",
       "    </tr>\n",
       "    <tr>\n",
       "      <th>1</th>\n",
       "      <td>2013-01-01 01:00:00</td>\n",
       "      <td>2013-01-01 02:00:00</td>\n",
       "      <td>6001</td>\n",
       "      <td>20.52</td>\n",
       "      <td>ug.m-3</td>\n",
       "      <td>1</td>\n",
       "      <td>1</td>\n",
       "    </tr>\n",
       "    <tr>\n",
       "      <th>2</th>\n",
       "      <td>2013-01-01 02:00:00</td>\n",
       "      <td>2013-01-01 03:00:00</td>\n",
       "      <td>6001</td>\n",
       "      <td>9.56</td>\n",
       "      <td>ug.m-3</td>\n",
       "      <td>1</td>\n",
       "      <td>1</td>\n",
       "    </tr>\n",
       "    <tr>\n",
       "      <th>3</th>\n",
       "      <td>2013-01-01 03:00:00</td>\n",
       "      <td>2013-01-01 04:00:00</td>\n",
       "      <td>6001</td>\n",
       "      <td>9.45</td>\n",
       "      <td>ug.m-3</td>\n",
       "      <td>1</td>\n",
       "      <td>1</td>\n",
       "    </tr>\n",
       "    <tr>\n",
       "      <th>4</th>\n",
       "      <td>2013-01-01 04:00:00</td>\n",
       "      <td>2013-01-01 05:00:00</td>\n",
       "      <td>6001</td>\n",
       "      <td>13.02</td>\n",
       "      <td>ug.m-3</td>\n",
       "      <td>1</td>\n",
       "      <td>1</td>\n",
       "    </tr>\n",
       "  </tbody>\n",
       "</table>\n",
       "</div>"
      ],
      "text/plain": [
       "                 Start                  End  PM2.5-Pollutant  PM2.5-Value  \\\n",
       "0  2013-01-01 00:00:00  2013-01-01 01:00:00             6001        71.04   \n",
       "1  2013-01-01 01:00:00  2013-01-01 02:00:00             6001        20.52   \n",
       "2  2013-01-01 02:00:00  2013-01-01 03:00:00             6001         9.56   \n",
       "3  2013-01-01 03:00:00  2013-01-01 04:00:00             6001         9.45   \n",
       "4  2013-01-01 04:00:00  2013-01-01 05:00:00             6001        13.02   \n",
       "\n",
       "  PM2.5-Unit  PM2.5-Validity  PM2.5-Verification  \n",
       "0     ug.m-3               1                   1  \n",
       "1     ug.m-3               1                   1  \n",
       "2     ug.m-3               1                   1  \n",
       "3     ug.m-3               1                   1  \n",
       "4     ug.m-3               1                   1  "
      ]
     },
     "execution_count": 9,
     "metadata": {},
     "output_type": "execute_result"
    }
   ],
   "source": [
    "# Rename the columns for merging and delete unused columns\n",
    "\n",
    "df_pm25 = eda.rename_df_columns(df_pm25, 'PM2.5')\n",
    "df_pm25 = eda.drop_unused_df_columns(df_pm25)\n",
    "df_pm25 = df_pm25[\n",
    "    ['Start', 'End', 'PM2.5-Pollutant', 'PM2.5-Value', 'PM2.5-Unit', 'PM2.5-Validity', 'PM2.5-Verification']]\n",
    "df_pm25.head()"
   ]
  },
  {
   "cell_type": "code",
   "execution_count": 10,
   "metadata": {
    "collapsed": false,
    "jupyter": {
     "outputs_hidden": false
    },
    "pycharm": {
     "name": "#%%\n"
    }
   },
   "outputs": [
    {
     "data": {
      "text/html": [
       "<div>\n",
       "<style scoped>\n",
       "    .dataframe tbody tr th:only-of-type {\n",
       "        vertical-align: middle;\n",
       "    }\n",
       "\n",
       "    .dataframe tbody tr th {\n",
       "        vertical-align: top;\n",
       "    }\n",
       "\n",
       "    .dataframe thead th {\n",
       "        text-align: right;\n",
       "    }\n",
       "</style>\n",
       "<table border=\"1\" class=\"dataframe\">\n",
       "  <thead>\n",
       "    <tr style=\"text-align: right;\">\n",
       "      <th></th>\n",
       "      <th>PM10-Pollutant</th>\n",
       "      <th>Start</th>\n",
       "      <th>End</th>\n",
       "      <th>PM10-Value</th>\n",
       "      <th>PM10-Unit</th>\n",
       "      <th>PM10-Validity</th>\n",
       "      <th>PM10-Verification</th>\n",
       "    </tr>\n",
       "  </thead>\n",
       "  <tbody>\n",
       "    <tr>\n",
       "      <th>0</th>\n",
       "      <td>5</td>\n",
       "      <td>2013-01-01 00:00:00</td>\n",
       "      <td>2013-01-01 01:00:00</td>\n",
       "      <td>88.96</td>\n",
       "      <td>ug.m-3</td>\n",
       "      <td>1</td>\n",
       "      <td>1</td>\n",
       "    </tr>\n",
       "    <tr>\n",
       "      <th>1</th>\n",
       "      <td>5</td>\n",
       "      <td>2013-01-01 01:00:00</td>\n",
       "      <td>2013-01-01 02:00:00</td>\n",
       "      <td>25.17</td>\n",
       "      <td>ug.m-3</td>\n",
       "      <td>1</td>\n",
       "      <td>1</td>\n",
       "    </tr>\n",
       "    <tr>\n",
       "      <th>2</th>\n",
       "      <td>5</td>\n",
       "      <td>2013-01-01 02:00:00</td>\n",
       "      <td>2013-01-01 03:00:00</td>\n",
       "      <td>11.97</td>\n",
       "      <td>ug.m-3</td>\n",
       "      <td>1</td>\n",
       "      <td>1</td>\n",
       "    </tr>\n",
       "    <tr>\n",
       "      <th>3</th>\n",
       "      <td>5</td>\n",
       "      <td>2013-01-01 03:00:00</td>\n",
       "      <td>2013-01-01 04:00:00</td>\n",
       "      <td>11.73</td>\n",
       "      <td>ug.m-3</td>\n",
       "      <td>1</td>\n",
       "      <td>1</td>\n",
       "    </tr>\n",
       "    <tr>\n",
       "      <th>4</th>\n",
       "      <td>5</td>\n",
       "      <td>2013-01-01 04:00:00</td>\n",
       "      <td>2013-01-01 05:00:00</td>\n",
       "      <td>15.88</td>\n",
       "      <td>ug.m-3</td>\n",
       "      <td>1</td>\n",
       "      <td>1</td>\n",
       "    </tr>\n",
       "  </tbody>\n",
       "</table>\n",
       "</div>"
      ],
      "text/plain": [
       "   PM10-Pollutant                Start                  End  PM10-Value  \\\n",
       "0               5  2013-01-01 00:00:00  2013-01-01 01:00:00       88.96   \n",
       "1               5  2013-01-01 01:00:00  2013-01-01 02:00:00       25.17   \n",
       "2               5  2013-01-01 02:00:00  2013-01-01 03:00:00       11.97   \n",
       "3               5  2013-01-01 03:00:00  2013-01-01 04:00:00       11.73   \n",
       "4               5  2013-01-01 04:00:00  2013-01-01 05:00:00       15.88   \n",
       "\n",
       "  PM10-Unit  PM10-Validity  PM10-Verification  \n",
       "0    ug.m-3              1                  1  \n",
       "1    ug.m-3              1                  1  \n",
       "2    ug.m-3              1                  1  \n",
       "3    ug.m-3              1                  1  \n",
       "4    ug.m-3              1                  1  "
      ]
     },
     "execution_count": 10,
     "metadata": {},
     "output_type": "execute_result"
    }
   ],
   "source": [
    "df_pm10 = eda.rename_df_columns(df_pm10, 'PM10')\n",
    "df_pm10 = eda.drop_unused_df_columns(df_pm10)\n",
    "df_pm10.head()"
   ]
  },
  {
   "cell_type": "code",
   "execution_count": 11,
   "metadata": {
    "collapsed": false,
    "jupyter": {
     "outputs_hidden": false
    },
    "pycharm": {
     "name": "#%%\n"
    }
   },
   "outputs": [
    {
     "data": {
      "text/html": [
       "<div>\n",
       "<style scoped>\n",
       "    .dataframe tbody tr th:only-of-type {\n",
       "        vertical-align: middle;\n",
       "    }\n",
       "\n",
       "    .dataframe tbody tr th {\n",
       "        vertical-align: top;\n",
       "    }\n",
       "\n",
       "    .dataframe thead th {\n",
       "        text-align: right;\n",
       "    }\n",
       "</style>\n",
       "<table border=\"1\" class=\"dataframe\">\n",
       "  <thead>\n",
       "    <tr style=\"text-align: right;\">\n",
       "      <th></th>\n",
       "      <th>NO2-Pollutant</th>\n",
       "      <th>Start</th>\n",
       "      <th>End</th>\n",
       "      <th>NO2-Value</th>\n",
       "      <th>NO2-Unit</th>\n",
       "      <th>NO2-Validity</th>\n",
       "      <th>NO2-Verification</th>\n",
       "    </tr>\n",
       "  </thead>\n",
       "  <tbody>\n",
       "    <tr>\n",
       "      <th>0</th>\n",
       "      <td>8</td>\n",
       "      <td>2013-01-01 00:00:00</td>\n",
       "      <td>2013-01-01 01:00:00</td>\n",
       "      <td>22.61</td>\n",
       "      <td>ug.m-3</td>\n",
       "      <td>1</td>\n",
       "      <td>1</td>\n",
       "    </tr>\n",
       "    <tr>\n",
       "      <th>1</th>\n",
       "      <td>8</td>\n",
       "      <td>2013-01-01 01:00:00</td>\n",
       "      <td>2013-01-01 02:00:00</td>\n",
       "      <td>9.39</td>\n",
       "      <td>ug.m-3</td>\n",
       "      <td>1</td>\n",
       "      <td>1</td>\n",
       "    </tr>\n",
       "    <tr>\n",
       "      <th>2</th>\n",
       "      <td>8</td>\n",
       "      <td>2013-01-01 02:00:00</td>\n",
       "      <td>2013-01-01 03:00:00</td>\n",
       "      <td>6.13</td>\n",
       "      <td>ug.m-3</td>\n",
       "      <td>1</td>\n",
       "      <td>1</td>\n",
       "    </tr>\n",
       "    <tr>\n",
       "      <th>3</th>\n",
       "      <td>8</td>\n",
       "      <td>2013-01-01 03:00:00</td>\n",
       "      <td>2013-01-01 04:00:00</td>\n",
       "      <td>5.61</td>\n",
       "      <td>ug.m-3</td>\n",
       "      <td>1</td>\n",
       "      <td>1</td>\n",
       "    </tr>\n",
       "    <tr>\n",
       "      <th>4</th>\n",
       "      <td>8</td>\n",
       "      <td>2013-01-01 04:00:00</td>\n",
       "      <td>2013-01-01 05:00:00</td>\n",
       "      <td>5.29</td>\n",
       "      <td>ug.m-3</td>\n",
       "      <td>1</td>\n",
       "      <td>1</td>\n",
       "    </tr>\n",
       "  </tbody>\n",
       "</table>\n",
       "</div>"
      ],
      "text/plain": [
       "   NO2-Pollutant                Start                  End  NO2-Value  \\\n",
       "0              8  2013-01-01 00:00:00  2013-01-01 01:00:00      22.61   \n",
       "1              8  2013-01-01 01:00:00  2013-01-01 02:00:00       9.39   \n",
       "2              8  2013-01-01 02:00:00  2013-01-01 03:00:00       6.13   \n",
       "3              8  2013-01-01 03:00:00  2013-01-01 04:00:00       5.61   \n",
       "4              8  2013-01-01 04:00:00  2013-01-01 05:00:00       5.29   \n",
       "\n",
       "  NO2-Unit  NO2-Validity  NO2-Verification  \n",
       "0   ug.m-3             1                 1  \n",
       "1   ug.m-3             1                 1  \n",
       "2   ug.m-3             1                 1  \n",
       "3   ug.m-3             1                 1  \n",
       "4   ug.m-3             1                 1  "
      ]
     },
     "execution_count": 11,
     "metadata": {},
     "output_type": "execute_result"
    }
   ],
   "source": [
    "df_no2 = eda.rename_df_columns(df_no2, 'NO2')\n",
    "df_no2 = eda.drop_unused_df_columns(df_no2)\n",
    "df_no2.head()"
   ]
  },
  {
   "cell_type": "code",
   "execution_count": 12,
   "metadata": {
    "collapsed": false,
    "jupyter": {
     "outputs_hidden": false
    },
    "pycharm": {
     "name": "#%%\n"
    }
   },
   "outputs": [
    {
     "data": {
      "text/html": [
       "<div>\n",
       "<style scoped>\n",
       "    .dataframe tbody tr th:only-of-type {\n",
       "        vertical-align: middle;\n",
       "    }\n",
       "\n",
       "    .dataframe tbody tr th {\n",
       "        vertical-align: top;\n",
       "    }\n",
       "\n",
       "    .dataframe thead th {\n",
       "        text-align: right;\n",
       "    }\n",
       "</style>\n",
       "<table border=\"1\" class=\"dataframe\">\n",
       "  <thead>\n",
       "    <tr style=\"text-align: right;\">\n",
       "      <th></th>\n",
       "      <th>O3-Pollutant</th>\n",
       "      <th>Start</th>\n",
       "      <th>End</th>\n",
       "      <th>O3-Value</th>\n",
       "      <th>O3-Unit</th>\n",
       "      <th>O3-Validity</th>\n",
       "      <th>O3-Verification</th>\n",
       "    </tr>\n",
       "  </thead>\n",
       "  <tbody>\n",
       "    <tr>\n",
       "      <th>0</th>\n",
       "      <td>7</td>\n",
       "      <td>2013-01-01 00:00:00</td>\n",
       "      <td>2013-01-01 01:00:00</td>\n",
       "      <td>43.17</td>\n",
       "      <td>ug.m-3</td>\n",
       "      <td>1</td>\n",
       "      <td>1</td>\n",
       "    </tr>\n",
       "    <tr>\n",
       "      <th>1</th>\n",
       "      <td>7</td>\n",
       "      <td>2013-01-01 01:00:00</td>\n",
       "      <td>2013-01-01 02:00:00</td>\n",
       "      <td>57.15</td>\n",
       "      <td>ug.m-3</td>\n",
       "      <td>1</td>\n",
       "      <td>1</td>\n",
       "    </tr>\n",
       "    <tr>\n",
       "      <th>2</th>\n",
       "      <td>7</td>\n",
       "      <td>2013-01-01 02:00:00</td>\n",
       "      <td>2013-01-01 03:00:00</td>\n",
       "      <td>63.31</td>\n",
       "      <td>ug.m-3</td>\n",
       "      <td>1</td>\n",
       "      <td>1</td>\n",
       "    </tr>\n",
       "    <tr>\n",
       "      <th>3</th>\n",
       "      <td>7</td>\n",
       "      <td>2013-01-01 03:00:00</td>\n",
       "      <td>2013-01-01 04:00:00</td>\n",
       "      <td>63.18</td>\n",
       "      <td>ug.m-3</td>\n",
       "      <td>1</td>\n",
       "      <td>1</td>\n",
       "    </tr>\n",
       "    <tr>\n",
       "      <th>4</th>\n",
       "      <td>7</td>\n",
       "      <td>2013-01-01 04:00:00</td>\n",
       "      <td>2013-01-01 05:00:00</td>\n",
       "      <td>61.70</td>\n",
       "      <td>ug.m-3</td>\n",
       "      <td>1</td>\n",
       "      <td>1</td>\n",
       "    </tr>\n",
       "  </tbody>\n",
       "</table>\n",
       "</div>"
      ],
      "text/plain": [
       "   O3-Pollutant                Start                  End  O3-Value O3-Unit  \\\n",
       "0             7  2013-01-01 00:00:00  2013-01-01 01:00:00     43.17  ug.m-3   \n",
       "1             7  2013-01-01 01:00:00  2013-01-01 02:00:00     57.15  ug.m-3   \n",
       "2             7  2013-01-01 02:00:00  2013-01-01 03:00:00     63.31  ug.m-3   \n",
       "3             7  2013-01-01 03:00:00  2013-01-01 04:00:00     63.18  ug.m-3   \n",
       "4             7  2013-01-01 04:00:00  2013-01-01 05:00:00     61.70  ug.m-3   \n",
       "\n",
       "   O3-Validity  O3-Verification  \n",
       "0            1                1  \n",
       "1            1                1  \n",
       "2            1                1  \n",
       "3            1                1  \n",
       "4            1                1  "
      ]
     },
     "execution_count": 12,
     "metadata": {},
     "output_type": "execute_result"
    }
   ],
   "source": [
    "df_o3 = eda.rename_df_columns(df_o3, 'O3')\n",
    "df_o3 = eda.drop_unused_df_columns(df_o3)\n",
    "df_o3.head()"
   ]
  },
  {
   "cell_type": "code",
   "execution_count": 13,
   "metadata": {
    "collapsed": false,
    "jupyter": {
     "outputs_hidden": false
    },
    "pycharm": {
     "name": "#%%\n"
    }
   },
   "outputs": [
    {
     "data": {
      "text/html": [
       "<div>\n",
       "<style scoped>\n",
       "    .dataframe tbody tr th:only-of-type {\n",
       "        vertical-align: middle;\n",
       "    }\n",
       "\n",
       "    .dataframe tbody tr th {\n",
       "        vertical-align: top;\n",
       "    }\n",
       "\n",
       "    .dataframe thead th {\n",
       "        text-align: right;\n",
       "    }\n",
       "</style>\n",
       "<table border=\"1\" class=\"dataframe\">\n",
       "  <thead>\n",
       "    <tr style=\"text-align: right;\">\n",
       "      <th></th>\n",
       "      <th>SO2-Pollutant</th>\n",
       "      <th>Start</th>\n",
       "      <th>End</th>\n",
       "      <th>SO2-Value</th>\n",
       "      <th>SO2-Unit</th>\n",
       "      <th>SO2-Validity</th>\n",
       "      <th>SO2-Verification</th>\n",
       "    </tr>\n",
       "  </thead>\n",
       "  <tbody>\n",
       "    <tr>\n",
       "      <th>0</th>\n",
       "      <td>1</td>\n",
       "      <td>2013-01-01 00:00:00</td>\n",
       "      <td>2013-01-01 01:00:00</td>\n",
       "      <td>12.18</td>\n",
       "      <td>ug.m-3</td>\n",
       "      <td>1</td>\n",
       "      <td>1</td>\n",
       "    </tr>\n",
       "    <tr>\n",
       "      <th>1</th>\n",
       "      <td>1</td>\n",
       "      <td>2013-01-01 01:00:00</td>\n",
       "      <td>2013-01-01 02:00:00</td>\n",
       "      <td>4.65</td>\n",
       "      <td>ug.m-3</td>\n",
       "      <td>1</td>\n",
       "      <td>1</td>\n",
       "    </tr>\n",
       "    <tr>\n",
       "      <th>2</th>\n",
       "      <td>1</td>\n",
       "      <td>2013-01-01 02:00:00</td>\n",
       "      <td>2013-01-01 03:00:00</td>\n",
       "      <td>1.33</td>\n",
       "      <td>ug.m-3</td>\n",
       "      <td>1</td>\n",
       "      <td>1</td>\n",
       "    </tr>\n",
       "    <tr>\n",
       "      <th>3</th>\n",
       "      <td>1</td>\n",
       "      <td>2013-01-01 03:00:00</td>\n",
       "      <td>2013-01-01 04:00:00</td>\n",
       "      <td>1.33</td>\n",
       "      <td>ug.m-3</td>\n",
       "      <td>1</td>\n",
       "      <td>1</td>\n",
       "    </tr>\n",
       "    <tr>\n",
       "      <th>4</th>\n",
       "      <td>1</td>\n",
       "      <td>2013-01-01 04:00:00</td>\n",
       "      <td>2013-01-01 05:00:00</td>\n",
       "      <td>1.33</td>\n",
       "      <td>ug.m-3</td>\n",
       "      <td>1</td>\n",
       "      <td>1</td>\n",
       "    </tr>\n",
       "  </tbody>\n",
       "</table>\n",
       "</div>"
      ],
      "text/plain": [
       "   SO2-Pollutant                Start                  End  SO2-Value  \\\n",
       "0              1  2013-01-01 00:00:00  2013-01-01 01:00:00      12.18   \n",
       "1              1  2013-01-01 01:00:00  2013-01-01 02:00:00       4.65   \n",
       "2              1  2013-01-01 02:00:00  2013-01-01 03:00:00       1.33   \n",
       "3              1  2013-01-01 03:00:00  2013-01-01 04:00:00       1.33   \n",
       "4              1  2013-01-01 04:00:00  2013-01-01 05:00:00       1.33   \n",
       "\n",
       "  SO2-Unit  SO2-Validity  SO2-Verification  \n",
       "0   ug.m-3             1                 1  \n",
       "1   ug.m-3             1                 1  \n",
       "2   ug.m-3             1                 1  \n",
       "3   ug.m-3             1                 1  \n",
       "4   ug.m-3             1                 1  "
      ]
     },
     "execution_count": 13,
     "metadata": {},
     "output_type": "execute_result"
    }
   ],
   "source": [
    "df_so2 = eda.rename_df_columns(df_so2, 'SO2')\n",
    "df_so2 = eda.drop_unused_df_columns(df_so2)\n",
    "df_so2.head()"
   ]
  },
  {
   "cell_type": "code",
   "execution_count": 14,
   "metadata": {
    "collapsed": false,
    "jupyter": {
     "outputs_hidden": false
    },
    "pycharm": {
     "name": "#%%\n"
    }
   },
   "outputs": [],
   "source": [
    "# Use merge to combine DataFrames on start_time and end_time\n",
    "df_merged = eda.merge_dataframes_on_columns([df_pm25, df_pm10, df_no2, df_o3, df_so2])"
   ]
  },
  {
   "cell_type": "code",
   "execution_count": 15,
   "metadata": {
    "pycharm": {
     "name": "#%%\n"
    }
   },
   "outputs": [
    {
     "data": {
      "text/html": [
       "<div>\n",
       "<style scoped>\n",
       "    .dataframe tbody tr th:only-of-type {\n",
       "        vertical-align: middle;\n",
       "    }\n",
       "\n",
       "    .dataframe tbody tr th {\n",
       "        vertical-align: top;\n",
       "    }\n",
       "\n",
       "    .dataframe thead th {\n",
       "        text-align: right;\n",
       "    }\n",
       "</style>\n",
       "<table border=\"1\" class=\"dataframe\">\n",
       "  <thead>\n",
       "    <tr style=\"text-align: right;\">\n",
       "      <th></th>\n",
       "      <th>Start</th>\n",
       "      <th>End</th>\n",
       "      <th>PM2.5-Pollutant</th>\n",
       "      <th>PM2.5-Value</th>\n",
       "      <th>PM2.5-Unit</th>\n",
       "      <th>PM2.5-Validity</th>\n",
       "      <th>PM2.5-Verification</th>\n",
       "      <th>PM10-Pollutant</th>\n",
       "      <th>PM10-Value</th>\n",
       "      <th>PM10-Unit</th>\n",
       "      <th>...</th>\n",
       "      <th>O3-Pollutant</th>\n",
       "      <th>O3-Value</th>\n",
       "      <th>O3-Unit</th>\n",
       "      <th>O3-Validity</th>\n",
       "      <th>O3-Verification</th>\n",
       "      <th>SO2-Pollutant</th>\n",
       "      <th>SO2-Value</th>\n",
       "      <th>SO2-Unit</th>\n",
       "      <th>SO2-Validity</th>\n",
       "      <th>SO2-Verification</th>\n",
       "    </tr>\n",
       "  </thead>\n",
       "  <tbody>\n",
       "    <tr>\n",
       "      <th>0</th>\n",
       "      <td>2013-01-01 00:00:00</td>\n",
       "      <td>2013-01-01 01:00:00</td>\n",
       "      <td>6001</td>\n",
       "      <td>71.04</td>\n",
       "      <td>ug.m-3</td>\n",
       "      <td>1</td>\n",
       "      <td>1</td>\n",
       "      <td>5</td>\n",
       "      <td>88.96</td>\n",
       "      <td>ug.m-3</td>\n",
       "      <td>...</td>\n",
       "      <td>7</td>\n",
       "      <td>43.17</td>\n",
       "      <td>ug.m-3</td>\n",
       "      <td>1</td>\n",
       "      <td>1</td>\n",
       "      <td>1</td>\n",
       "      <td>12.18</td>\n",
       "      <td>ug.m-3</td>\n",
       "      <td>1</td>\n",
       "      <td>1</td>\n",
       "    </tr>\n",
       "    <tr>\n",
       "      <th>1</th>\n",
       "      <td>2013-01-01 01:00:00</td>\n",
       "      <td>2013-01-01 02:00:00</td>\n",
       "      <td>6001</td>\n",
       "      <td>20.52</td>\n",
       "      <td>ug.m-3</td>\n",
       "      <td>1</td>\n",
       "      <td>1</td>\n",
       "      <td>5</td>\n",
       "      <td>25.17</td>\n",
       "      <td>ug.m-3</td>\n",
       "      <td>...</td>\n",
       "      <td>7</td>\n",
       "      <td>57.15</td>\n",
       "      <td>ug.m-3</td>\n",
       "      <td>1</td>\n",
       "      <td>1</td>\n",
       "      <td>1</td>\n",
       "      <td>4.65</td>\n",
       "      <td>ug.m-3</td>\n",
       "      <td>1</td>\n",
       "      <td>1</td>\n",
       "    </tr>\n",
       "    <tr>\n",
       "      <th>2</th>\n",
       "      <td>2013-01-01 02:00:00</td>\n",
       "      <td>2013-01-01 03:00:00</td>\n",
       "      <td>6001</td>\n",
       "      <td>9.56</td>\n",
       "      <td>ug.m-3</td>\n",
       "      <td>1</td>\n",
       "      <td>1</td>\n",
       "      <td>5</td>\n",
       "      <td>11.97</td>\n",
       "      <td>ug.m-3</td>\n",
       "      <td>...</td>\n",
       "      <td>7</td>\n",
       "      <td>63.31</td>\n",
       "      <td>ug.m-3</td>\n",
       "      <td>1</td>\n",
       "      <td>1</td>\n",
       "      <td>1</td>\n",
       "      <td>1.33</td>\n",
       "      <td>ug.m-3</td>\n",
       "      <td>1</td>\n",
       "      <td>1</td>\n",
       "    </tr>\n",
       "    <tr>\n",
       "      <th>3</th>\n",
       "      <td>2013-01-01 03:00:00</td>\n",
       "      <td>2013-01-01 04:00:00</td>\n",
       "      <td>6001</td>\n",
       "      <td>9.45</td>\n",
       "      <td>ug.m-3</td>\n",
       "      <td>1</td>\n",
       "      <td>1</td>\n",
       "      <td>5</td>\n",
       "      <td>11.73</td>\n",
       "      <td>ug.m-3</td>\n",
       "      <td>...</td>\n",
       "      <td>7</td>\n",
       "      <td>63.18</td>\n",
       "      <td>ug.m-3</td>\n",
       "      <td>1</td>\n",
       "      <td>1</td>\n",
       "      <td>1</td>\n",
       "      <td>1.33</td>\n",
       "      <td>ug.m-3</td>\n",
       "      <td>1</td>\n",
       "      <td>1</td>\n",
       "    </tr>\n",
       "    <tr>\n",
       "      <th>4</th>\n",
       "      <td>2013-01-01 04:00:00</td>\n",
       "      <td>2013-01-01 05:00:00</td>\n",
       "      <td>6001</td>\n",
       "      <td>13.02</td>\n",
       "      <td>ug.m-3</td>\n",
       "      <td>1</td>\n",
       "      <td>1</td>\n",
       "      <td>5</td>\n",
       "      <td>15.88</td>\n",
       "      <td>ug.m-3</td>\n",
       "      <td>...</td>\n",
       "      <td>7</td>\n",
       "      <td>61.70</td>\n",
       "      <td>ug.m-3</td>\n",
       "      <td>1</td>\n",
       "      <td>1</td>\n",
       "      <td>1</td>\n",
       "      <td>1.33</td>\n",
       "      <td>ug.m-3</td>\n",
       "      <td>1</td>\n",
       "      <td>1</td>\n",
       "    </tr>\n",
       "  </tbody>\n",
       "</table>\n",
       "<p>5 rows × 27 columns</p>\n",
       "</div>"
      ],
      "text/plain": [
       "                 Start                  End  PM2.5-Pollutant  PM2.5-Value  \\\n",
       "0  2013-01-01 00:00:00  2013-01-01 01:00:00             6001        71.04   \n",
       "1  2013-01-01 01:00:00  2013-01-01 02:00:00             6001        20.52   \n",
       "2  2013-01-01 02:00:00  2013-01-01 03:00:00             6001         9.56   \n",
       "3  2013-01-01 03:00:00  2013-01-01 04:00:00             6001         9.45   \n",
       "4  2013-01-01 04:00:00  2013-01-01 05:00:00             6001        13.02   \n",
       "\n",
       "  PM2.5-Unit  PM2.5-Validity  PM2.5-Verification  PM10-Pollutant  PM10-Value  \\\n",
       "0     ug.m-3               1                   1               5       88.96   \n",
       "1     ug.m-3               1                   1               5       25.17   \n",
       "2     ug.m-3               1                   1               5       11.97   \n",
       "3     ug.m-3               1                   1               5       11.73   \n",
       "4     ug.m-3               1                   1               5       15.88   \n",
       "\n",
       "  PM10-Unit  ...  O3-Pollutant  O3-Value  O3-Unit  O3-Validity  \\\n",
       "0    ug.m-3  ...             7     43.17   ug.m-3            1   \n",
       "1    ug.m-3  ...             7     57.15   ug.m-3            1   \n",
       "2    ug.m-3  ...             7     63.31   ug.m-3            1   \n",
       "3    ug.m-3  ...             7     63.18   ug.m-3            1   \n",
       "4    ug.m-3  ...             7     61.70   ug.m-3            1   \n",
       "\n",
       "  O3-Verification  SO2-Pollutant  SO2-Value  SO2-Unit  SO2-Validity  \\\n",
       "0               1              1      12.18    ug.m-3             1   \n",
       "1               1              1       4.65    ug.m-3             1   \n",
       "2               1              1       1.33    ug.m-3             1   \n",
       "3               1              1       1.33    ug.m-3             1   \n",
       "4               1              1       1.33    ug.m-3             1   \n",
       "\n",
       "  SO2-Verification  \n",
       "0                1  \n",
       "1                1  \n",
       "2                1  \n",
       "3                1  \n",
       "4                1  \n",
       "\n",
       "[5 rows x 27 columns]"
      ]
     },
     "execution_count": 15,
     "metadata": {},
     "output_type": "execute_result"
    }
   ],
   "source": [
    "df_merged.to_csv('../data/MERGED_DE_DEBB021.csv', index=False)\n",
    "df_merged.head()"
   ]
  },
  {
   "cell_type": "markdown",
   "metadata": {
    "pycharm": {
     "name": "#%% md\n"
    }
   },
   "source": [
    "## Missing data\n",
    "\n",
    "### KNN regression \n",
    "* KNN, or k-Nearest Neighbors, is a simple and intuitive supervised machine learning algorithm used for classification and regression tasks. It's a type of instance-based learning, where the model essentially memorizes the training instances and uses them for prediction without building an explicit underlying model.\n",
    "* For Regression: Given a new observation, the algorithm looks at the 'k' nearest training observations and returns the average of their output values as the prediction.\n",
    "\n",
    "* Don't remove invalid PM2.5 rows from the merged data set, run KNN to fill in missing data\n",
    "* Replace invalidated pollutants value is -999.0, replace -999.0 with nan for the KNN algorithm."
   ]
  },
  {
   "cell_type": "code",
   "execution_count": 16,
   "metadata": {
    "pycharm": {
     "name": "#%%\n"
    }
   },
   "outputs": [],
   "source": [
    "# df_merged = df_merged[df_merged['PM2.5-Validity'] >= 1]\n",
    "df_merged = eda.impute_missing_with_knn(df_merged, ['PM2.5-Value', 'PM10-Value', 'NO2-Value', 'O3-Value', 'SO2-Value'])"
   ]
  },
  {
   "cell_type": "code",
   "execution_count": 17,
   "metadata": {
    "tags": [],
    "pycharm": {
     "name": "#%%\n"
    }
   },
   "outputs": [
    {
     "data": {
      "text/html": [
       "<div>\n",
       "<style scoped>\n",
       "    .dataframe tbody tr th:only-of-type {\n",
       "        vertical-align: middle;\n",
       "    }\n",
       "\n",
       "    .dataframe tbody tr th {\n",
       "        vertical-align: top;\n",
       "    }\n",
       "\n",
       "    .dataframe thead th {\n",
       "        text-align: right;\n",
       "    }\n",
       "</style>\n",
       "<table border=\"1\" class=\"dataframe\">\n",
       "  <thead>\n",
       "    <tr style=\"text-align: right;\">\n",
       "      <th></th>\n",
       "      <th>Start_Timestamp</th>\n",
       "      <th>End_Timestamp</th>\n",
       "      <th>Start</th>\n",
       "      <th>End</th>\n",
       "      <th>PM2.5-Pollutant</th>\n",
       "      <th>PM2.5-Value</th>\n",
       "      <th>PM2.5-Unit</th>\n",
       "      <th>PM2.5-Validity</th>\n",
       "      <th>PM2.5-Verification</th>\n",
       "      <th>PM10-Pollutant</th>\n",
       "      <th>...</th>\n",
       "      <th>O3-Pollutant</th>\n",
       "      <th>O3-Value</th>\n",
       "      <th>O3-Unit</th>\n",
       "      <th>O3-Validity</th>\n",
       "      <th>O3-Verification</th>\n",
       "      <th>SO2-Pollutant</th>\n",
       "      <th>SO2-Value</th>\n",
       "      <th>SO2-Unit</th>\n",
       "      <th>SO2-Validity</th>\n",
       "      <th>SO2-Verification</th>\n",
       "    </tr>\n",
       "  </thead>\n",
       "  <tbody>\n",
       "    <tr>\n",
       "      <th>0</th>\n",
       "      <td>1356998400</td>\n",
       "      <td>1357002000</td>\n",
       "      <td>2013-01-01 00:00:00</td>\n",
       "      <td>2013-01-01 01:00:00</td>\n",
       "      <td>6001</td>\n",
       "      <td>71.04</td>\n",
       "      <td>ug.m-3</td>\n",
       "      <td>1</td>\n",
       "      <td>1</td>\n",
       "      <td>5</td>\n",
       "      <td>...</td>\n",
       "      <td>7</td>\n",
       "      <td>43.17</td>\n",
       "      <td>ug.m-3</td>\n",
       "      <td>1</td>\n",
       "      <td>1</td>\n",
       "      <td>1</td>\n",
       "      <td>12.18</td>\n",
       "      <td>ug.m-3</td>\n",
       "      <td>1</td>\n",
       "      <td>1</td>\n",
       "    </tr>\n",
       "    <tr>\n",
       "      <th>1</th>\n",
       "      <td>1357002000</td>\n",
       "      <td>1357005600</td>\n",
       "      <td>2013-01-01 01:00:00</td>\n",
       "      <td>2013-01-01 02:00:00</td>\n",
       "      <td>6001</td>\n",
       "      <td>20.52</td>\n",
       "      <td>ug.m-3</td>\n",
       "      <td>1</td>\n",
       "      <td>1</td>\n",
       "      <td>5</td>\n",
       "      <td>...</td>\n",
       "      <td>7</td>\n",
       "      <td>57.15</td>\n",
       "      <td>ug.m-3</td>\n",
       "      <td>1</td>\n",
       "      <td>1</td>\n",
       "      <td>1</td>\n",
       "      <td>4.65</td>\n",
       "      <td>ug.m-3</td>\n",
       "      <td>1</td>\n",
       "      <td>1</td>\n",
       "    </tr>\n",
       "    <tr>\n",
       "      <th>2</th>\n",
       "      <td>1357005600</td>\n",
       "      <td>1357009200</td>\n",
       "      <td>2013-01-01 02:00:00</td>\n",
       "      <td>2013-01-01 03:00:00</td>\n",
       "      <td>6001</td>\n",
       "      <td>9.56</td>\n",
       "      <td>ug.m-3</td>\n",
       "      <td>1</td>\n",
       "      <td>1</td>\n",
       "      <td>5</td>\n",
       "      <td>...</td>\n",
       "      <td>7</td>\n",
       "      <td>63.31</td>\n",
       "      <td>ug.m-3</td>\n",
       "      <td>1</td>\n",
       "      <td>1</td>\n",
       "      <td>1</td>\n",
       "      <td>1.33</td>\n",
       "      <td>ug.m-3</td>\n",
       "      <td>1</td>\n",
       "      <td>1</td>\n",
       "    </tr>\n",
       "    <tr>\n",
       "      <th>3</th>\n",
       "      <td>1357009200</td>\n",
       "      <td>1357012800</td>\n",
       "      <td>2013-01-01 03:00:00</td>\n",
       "      <td>2013-01-01 04:00:00</td>\n",
       "      <td>6001</td>\n",
       "      <td>9.45</td>\n",
       "      <td>ug.m-3</td>\n",
       "      <td>1</td>\n",
       "      <td>1</td>\n",
       "      <td>5</td>\n",
       "      <td>...</td>\n",
       "      <td>7</td>\n",
       "      <td>63.18</td>\n",
       "      <td>ug.m-3</td>\n",
       "      <td>1</td>\n",
       "      <td>1</td>\n",
       "      <td>1</td>\n",
       "      <td>1.33</td>\n",
       "      <td>ug.m-3</td>\n",
       "      <td>1</td>\n",
       "      <td>1</td>\n",
       "    </tr>\n",
       "    <tr>\n",
       "      <th>4</th>\n",
       "      <td>1357012800</td>\n",
       "      <td>1357016400</td>\n",
       "      <td>2013-01-01 04:00:00</td>\n",
       "      <td>2013-01-01 05:00:00</td>\n",
       "      <td>6001</td>\n",
       "      <td>13.02</td>\n",
       "      <td>ug.m-3</td>\n",
       "      <td>1</td>\n",
       "      <td>1</td>\n",
       "      <td>5</td>\n",
       "      <td>...</td>\n",
       "      <td>7</td>\n",
       "      <td>61.70</td>\n",
       "      <td>ug.m-3</td>\n",
       "      <td>1</td>\n",
       "      <td>1</td>\n",
       "      <td>1</td>\n",
       "      <td>1.33</td>\n",
       "      <td>ug.m-3</td>\n",
       "      <td>1</td>\n",
       "      <td>1</td>\n",
       "    </tr>\n",
       "  </tbody>\n",
       "</table>\n",
       "<p>5 rows × 29 columns</p>\n",
       "</div>"
      ],
      "text/plain": [
       "   Start_Timestamp  End_Timestamp               Start                 End  \\\n",
       "0       1356998400     1357002000 2013-01-01 00:00:00 2013-01-01 01:00:00   \n",
       "1       1357002000     1357005600 2013-01-01 01:00:00 2013-01-01 02:00:00   \n",
       "2       1357005600     1357009200 2013-01-01 02:00:00 2013-01-01 03:00:00   \n",
       "3       1357009200     1357012800 2013-01-01 03:00:00 2013-01-01 04:00:00   \n",
       "4       1357012800     1357016400 2013-01-01 04:00:00 2013-01-01 05:00:00   \n",
       "\n",
       "   PM2.5-Pollutant  PM2.5-Value PM2.5-Unit  PM2.5-Validity  \\\n",
       "0             6001        71.04     ug.m-3               1   \n",
       "1             6001        20.52     ug.m-3               1   \n",
       "2             6001         9.56     ug.m-3               1   \n",
       "3             6001         9.45     ug.m-3               1   \n",
       "4             6001        13.02     ug.m-3               1   \n",
       "\n",
       "   PM2.5-Verification  PM10-Pollutant  ...  O3-Pollutant O3-Value  O3-Unit  \\\n",
       "0                   1               5  ...             7    43.17   ug.m-3   \n",
       "1                   1               5  ...             7    57.15   ug.m-3   \n",
       "2                   1               5  ...             7    63.31   ug.m-3   \n",
       "3                   1               5  ...             7    63.18   ug.m-3   \n",
       "4                   1               5  ...             7    61.70   ug.m-3   \n",
       "\n",
       "   O3-Validity  O3-Verification  SO2-Pollutant SO2-Value  SO2-Unit  \\\n",
       "0            1                1              1     12.18    ug.m-3   \n",
       "1            1                1              1      4.65    ug.m-3   \n",
       "2            1                1              1      1.33    ug.m-3   \n",
       "3            1                1              1      1.33    ug.m-3   \n",
       "4            1                1              1      1.33    ug.m-3   \n",
       "\n",
       "   SO2-Validity  SO2-Verification  \n",
       "0             1                 1  \n",
       "1             1                 1  \n",
       "2             1                 1  \n",
       "3             1                 1  \n",
       "4             1                 1  \n",
       "\n",
       "[5 rows x 29 columns]"
      ]
     },
     "execution_count": 17,
     "metadata": {},
     "output_type": "execute_result"
    }
   ],
   "source": [
    "df_merged = eda.prepare_datetime_and_reorder(df_merged, ['Start', 'End'])\n",
    "df_merged.to_csv('../data/COMPLATED_MERGED_DE_DEBB021.csv', index=False)\n",
    "df_merged.head()"
   ]
  },
  {
   "cell_type": "markdown",
   "metadata": {
    "pycharm": {
     "name": "#%% md\n"
    }
   },
   "source": [
    "# Comprahensive Exploratory Data Analysis (EDA)\n",
    "\n",
    "* Correlation Analysis: Using correlation matrices or heatmaps to understand the linear relationship between features\n",
    "* Pair Plots: To visualize pairwise relationships in the dataset\n",
    "* Feature Importance with Simple Models: Train a simple Random Forest model and check the feature importances. "
   ]
  },
  {
   "cell_type": "code",
   "execution_count": null,
   "metadata": {
    "pycharm": {
     "name": "#%%\n"
    }
   },
   "outputs": [
    {
     "data": {
      "image/png": "[encoded data removed]",
      "text/plain": [
       "<Figure size 2000x800 with 2 Axes>"
      ]
     },
     "metadata": {},
     "output_type": "display_data"
    }
   ],
   "source": [
    "eda.comprehensive_eda(df_merged)"
   ]
  },
  {
   "cell_type": "markdown",
   "metadata": {
    "pycharm": {
     "name": "#%% md\n"
    }
   },
   "source": [
    "# Different Time Frequencies\n",
    "\n",
    "* Hourly\n",
    "* Daily\n",
    "* Weekly\n",
    "* Monthly"
   ]
  },
  {
   "cell_type": "code",
   "execution_count": null,
   "metadata": {
    "tags": [],
    "pycharm": {
     "name": "#%%\n"
    }
   },
   "outputs": [],
   "source": [
    "eda.process_date_freq_data(df_merged)"
   ]
  },
  {
   "cell_type": "code",
   "execution_count": null,
   "metadata": {
    "tags": [],
    "pycharm": {
     "name": "#%%\n"
    }
   },
   "outputs": [],
   "source": [
    "df_hourly_date, df_daily_date, df_weekly_date, df_monthly_date = eda.read_date_freq()\n",
    "\n",
    "# df_hourly_timestamp, df_daily_timestamp, df_weekly_timestamp, df_monthly_timestamp = eda.read_timestamp_freq()"
   ]
  },
  {
   "cell_type": "markdown",
   "metadata": {
    "pycharm": {
     "name": "#%% md\n"
    }
   },
   "source": [
    "## Time Series Decomposition Chart¶\n",
    "Plot to see the trends and seasonality of data\n",
    "Plot autocorrelation plot\n",
    "\n",
    "## Stationary of Data\n",
    "\n",
    "### ADF (Agumented Dicky Fuller) Test and Rolling Statistics\n",
    "There are two primary way to determine whether a given time series is stationary.\n",
    "\n",
    "* Rolling Statistics: Plot the rolling mean and rolling standard deviation. The time series is stationary if they remain constant with time (with the naked eye look to see if the lines are straight and parallel to the x-axis).\n",
    "* Augmented Dickey-Fuller Test: The time series is considered stationary if the p-value is low (according to the null hypothesis) and the critical values at 1%, 5%, 10% confidence intervals are as close as possible to the ADF Statistics The null hypothesis is data is not stationary. if p<0.05 means null hypothesis rejected. It means data is stationary. The intuition behind a unit root test is that it determines how strongly a time series is defined by a trend. p-value > 0.05: Fail to reject the null hypothesis (H0), the data has a unit root and is non-stationary. p-value <= 0.05: Reject the null hypothesis (H0), the data does not have a unit root and is stationary."
   ]
  },
  {
   "cell_type": "markdown",
   "metadata": {
    "pycharm": {
     "name": "#%% md\n"
    }
   },
   "source": [
    "## Hourly"
   ]
  },
  {
   "cell_type": "code",
   "execution_count": null,
   "metadata": {
    "pycharm": {
     "name": "#%%\n"
    }
   },
   "outputs": [],
   "source": [
    "\n",
    "eda.analyse_data_frame(df_hourly_date)"
   ]
  },
  {
   "cell_type": "markdown",
   "metadata": {
    "pycharm": {
     "name": "#%% md\n"
    }
   },
   "source": [
    "## Daily"
   ]
  },
  {
   "cell_type": "code",
   "execution_count": null,
   "metadata": {
    "tags": [],
    "pycharm": {
     "name": "#%%\n"
    }
   },
   "outputs": [],
   "source": [
    "eda.analyse_data_frame(df_daily_date)"
   ]
  },
  {
   "cell_type": "markdown",
   "metadata": {
    "pycharm": {
     "name": "#%% md\n"
    }
   },
   "source": [
    "## Weekly"
   ]
  },
  {
   "cell_type": "code",
   "execution_count": null,
   "metadata": {
    "tags": [],
    "pycharm": {
     "name": "#%%\n"
    }
   },
   "outputs": [],
   "source": [
    "eda.analyse_data_frame(df_weekly_date)"
   ]
  },
  {
   "cell_type": "code",
   "execution_count": null,
   "metadata": {
    "tags": [],
    "pycharm": {
     "name": "#%%\n"
    }
   },
   "outputs": [],
   "source": [
    "## Monthlty"
   ]
  },
  {
   "cell_type": "code",
   "execution_count": null,
   "metadata": {
    "tags": [],
    "pycharm": {
     "name": "#%%\n"
    }
   },
   "outputs": [],
   "source": [
    "eda.analyse_data_frame(df_monthly_date)"
   ]
  },
  {
   "cell_type": "code",
   "execution_count": null,
   "metadata": {
    "pycharm": {
     "name": "#%%\n"
    }
   },
   "outputs": [],
   "source": []
  }
 ],
 "metadata": {
  "availableInstances": [
   {
    "_defaultOrder": 0,
    "_isFastLaunch": true,
    "category": "General purpose",
    "gpuNum": 0,
    "hideHardwareSpecs": false,
    "memoryGiB": 4,
    "name": "ml.t3.medium",
    "vcpuNum": 2
   },
   {
    "_defaultOrder": 1,
    "_isFastLaunch": false,
    "category": "General purpose",
    "gpuNum": 0,
    "hideHardwareSpecs": false,
    "memoryGiB": 8,
    "name": "ml.t3.large",
    "vcpuNum": 2
   },
   {
    "_defaultOrder": 2,
    "_isFastLaunch": false,
    "category": "General purpose",
    "gpuNum": 0,
    "hideHardwareSpecs": false,
    "memoryGiB": 16,
    "name": "ml.t3.xlarge",
    "vcpuNum": 4
   },
   {
    "_defaultOrder": 3,
    "_isFastLaunch": false,
    "category": "General purpose",
    "gpuNum": 0,
    "hideHardwareSpecs": false,
    "memoryGiB": 32,
    "name": "ml.t3.2xlarge",
    "vcpuNum": 8
   },
   {
    "_defaultOrder": 4,
    "_isFastLaunch": true,
    "category": "General purpose",
    "gpuNum": 0,
    "hideHardwareSpecs": false,
    "memoryGiB": 8,
    "name": "ml.m5.large",
    "vcpuNum": 2
   },
   {
    "_defaultOrder": 5,
    "_isFastLaunch": false,
    "category": "General purpose",
    "gpuNum": 0,
    "hideHardwareSpecs": false,
    "memoryGiB": 16,
    "name": "ml.m5.xlarge",
    "vcpuNum": 4
   },
   {
    "_defaultOrder": 6,
    "_isFastLaunch": false,
    "category": "General purpose",
    "gpuNum": 0,
    "hideHardwareSpecs": false,
    "memoryGiB": 32,
    "name": "ml.m5.2xlarge",
    "vcpuNum": 8
   },
   {
    "_defaultOrder": 7,
    "_isFastLaunch": false,
    "category": "General purpose",
    "gpuNum": 0,
    "hideHardwareSpecs": false,
    "memoryGiB": 64,
    "name": "ml.m5.4xlarge",
    "vcpuNum": 16
   },
   {
    "_defaultOrder": 8,
    "_isFastLaunch": false,
    "category": "General purpose",
    "gpuNum": 0,
    "hideHardwareSpecs": false,
    "memoryGiB": 128,
    "name": "ml.m5.8xlarge",
    "vcpuNum": 32
   },
   {
    "_defaultOrder": 9,
    "_isFastLaunch": false,
    "category": "General purpose",
    "gpuNum": 0,
    "hideHardwareSpecs": false,
    "memoryGiB": 192,
    "name": "ml.m5.12xlarge",
    "vcpuNum": 48
   },
   {
    "_defaultOrder": 10,
    "_isFastLaunch": false,
    "category": "General purpose",
    "gpuNum": 0,
    "hideHardwareSpecs": false,
    "memoryGiB": 256,
    "name": "ml.m5.16xlarge",
    "vcpuNum": 64
   },
   {
    "_defaultOrder": 11,
    "_isFastLaunch": false,
    "category": "General purpose",
    "gpuNum": 0,
    "hideHardwareSpecs": false,
    "memoryGiB": 384,
    "name": "ml.m5.24xlarge",
    "vcpuNum": 96
   },
   {
    "_defaultOrder": 12,
    "_isFastLaunch": false,
    "category": "General purpose",
    "gpuNum": 0,
    "hideHardwareSpecs": false,
    "memoryGiB": 8,
    "name": "ml.m5d.large",
    "vcpuNum": 2
   },
   {
    "_defaultOrder": 13,
    "_isFastLaunch": false,
    "category": "General purpose",
    "gpuNum": 0,
    "hideHardwareSpecs": false,
    "memoryGiB": 16,
    "name": "ml.m5d.xlarge",
    "vcpuNum": 4
   },
   {
    "_defaultOrder": 14,
    "_isFastLaunch": false,
    "category": "General purpose",
    "gpuNum": 0,
    "hideHardwareSpecs": false,
    "memoryGiB": 32,
    "name": "ml.m5d.2xlarge",
    "vcpuNum": 8
   },
   {
    "_defaultOrder": 15,
    "_isFastLaunch": false,
    "category": "General purpose",
    "gpuNum": 0,
    "hideHardwareSpecs": false,
    "memoryGiB": 64,
    "name": "ml.m5d.4xlarge",
    "vcpuNum": 16
   },
   {
    "_defaultOrder": 16,
    "_isFastLaunch": false,
    "category": "General purpose",
    "gpuNum": 0,
    "hideHardwareSpecs": false,
    "memoryGiB": 128,
    "name": "ml.m5d.8xlarge",
    "vcpuNum": 32
   },
   {
    "_defaultOrder": 17,
    "_isFastLaunch": false,
    "category": "General purpose",
    "gpuNum": 0,
    "hideHardwareSpecs": false,
    "memoryGiB": 192,
    "name": "ml.m5d.12xlarge",
    "vcpuNum": 48
   },
   {
    "_defaultOrder": 18,
    "_isFastLaunch": false,
    "category": "General purpose",
    "gpuNum": 0,
    "hideHardwareSpecs": false,
    "memoryGiB": 256,
    "name": "ml.m5d.16xlarge",
    "vcpuNum": 64
   },
   {
    "_defaultOrder": 19,
    "_isFastLaunch": false,
    "category": "General purpose",
    "gpuNum": 0,
    "hideHardwareSpecs": false,
    "memoryGiB": 384,
    "name": "ml.m5d.24xlarge",
    "vcpuNum": 96
   },
   {
    "_defaultOrder": 20,
    "_isFastLaunch": false,
    "category": "General purpose",
    "gpuNum": 0,
    "hideHardwareSpecs": true,
    "memoryGiB": 0,
    "name": "ml.geospatial.interactive",
    "supportedImageNames": [
     "sagemaker-geospatial-v1-0"
    ],
    "vcpuNum": 0
   },
   {
    "_defaultOrder": 21,
    "_isFastLaunch": true,
    "category": "Compute optimized",
    "gpuNum": 0,
    "hideHardwareSpecs": false,
    "memoryGiB": 4,
    "name": "ml.c5.large",
    "vcpuNum": 2
   },
   {
    "_defaultOrder": 22,
    "_isFastLaunch": false,
    "category": "Compute optimized",
    "gpuNum": 0,
    "hideHardwareSpecs": false,
    "memoryGiB": 8,
    "name": "ml.c5.xlarge",
    "vcpuNum": 4
   },
   {
    "_defaultOrder": 23,
    "_isFastLaunch": false,
    "category": "Compute optimized",
    "gpuNum": 0,
    "hideHardwareSpecs": false,
    "memoryGiB": 16,
    "name": "ml.c5.2xlarge",
    "vcpuNum": 8
   },
   {
    "_defaultOrder": 24,
    "_isFastLaunch": false,
    "category": "Compute optimized",
    "gpuNum": 0,
    "hideHardwareSpecs": false,
    "memoryGiB": 32,
    "name": "ml.c5.4xlarge",
    "vcpuNum": 16
   },
   {
    "_defaultOrder": 25,
    "_isFastLaunch": false,
    "category": "Compute optimized",
    "gpuNum": 0,
    "hideHardwareSpecs": false,
    "memoryGiB": 72,
    "name": "ml.c5.9xlarge",
    "vcpuNum": 36
   },
   {
    "_defaultOrder": 26,
    "_isFastLaunch": false,
    "category": "Compute optimized",
    "gpuNum": 0,
    "hideHardwareSpecs": false,
    "memoryGiB": 96,
    "name": "ml.c5.12xlarge",
    "vcpuNum": 48
   },
   {
    "_defaultOrder": 27,
    "_isFastLaunch": false,
    "category": "Compute optimized",
    "gpuNum": 0,
    "hideHardwareSpecs": false,
    "memoryGiB": 144,
    "name": "ml.c5.18xlarge",
    "vcpuNum": 72
   },
   {
    "_defaultOrder": 28,
    "_isFastLaunch": false,
    "category": "Compute optimized",
    "gpuNum": 0,
    "hideHardwareSpecs": false,
    "memoryGiB": 192,
    "name": "ml.c5.24xlarge",
    "vcpuNum": 96
   },
   {
    "_defaultOrder": 29,
    "_isFastLaunch": true,
    "category": "Accelerated computing",
    "gpuNum": 1,
    "hideHardwareSpecs": false,
    "memoryGiB": 16,
    "name": "ml.g4dn.xlarge",
    "vcpuNum": 4
   },
   {
    "_defaultOrder": 30,
    "_isFastLaunch": false,
    "category": "Accelerated computing",
    "gpuNum": 1,
    "hideHardwareSpecs": false,
    "memoryGiB": 32,
    "name": "ml.g4dn.2xlarge",
    "vcpuNum": 8
   },
   {
    "_defaultOrder": 31,
    "_isFastLaunch": false,
    "category": "Accelerated computing",
    "gpuNum": 1,
    "hideHardwareSpecs": false,
    "memoryGiB": 64,
    "name": "ml.g4dn.4xlarge",
    "vcpuNum": 16
   },
   {
    "_defaultOrder": 32,
    "_isFastLaunch": false,
    "category": "Accelerated computing",
    "gpuNum": 1,
    "hideHardwareSpecs": false,
    "memoryGiB": 128,
    "name": "ml.g4dn.8xlarge",
    "vcpuNum": 32
   },
   {
    "_defaultOrder": 33,
    "_isFastLaunch": false,
    "category": "Accelerated computing",
    "gpuNum": 4,
    "hideHardwareSpecs": false,
    "memoryGiB": 192,
    "name": "ml.g4dn.12xlarge",
    "vcpuNum": 48
   },
   {
    "_defaultOrder": 34,
    "_isFastLaunch": false,
    "category": "Accelerated computing",
    "gpuNum": 1,
    "hideHardwareSpecs": false,
    "memoryGiB": 256,
    "name": "ml.g4dn.16xlarge",
    "vcpuNum": 64
   },
   {
    "_defaultOrder": 35,
    "_isFastLaunch": false,
    "category": "Accelerated computing",
    "gpuNum": 1,
    "hideHardwareSpecs": false,
    "memoryGiB": 61,
    "name": "ml.p3.2xlarge",
    "vcpuNum": 8
   },
   {
    "_defaultOrder": 36,
    "_isFastLaunch": false,
    "category": "Accelerated computing",
    "gpuNum": 4,
    "hideHardwareSpecs": false,
    "memoryGiB": 244,
    "name": "ml.p3.8xlarge",
    "vcpuNum": 32
   },
   {
    "_defaultOrder": 37,
    "_isFastLaunch": false,
    "category": "Accelerated computing",
    "gpuNum": 8,
    "hideHardwareSpecs": false,
    "memoryGiB": 488,
    "name": "ml.p3.16xlarge",
    "vcpuNum": 64
   },
   {
    "_defaultOrder": 38,
    "_isFastLaunch": false,
    "category": "Accelerated computing",
    "gpuNum": 8,
    "hideHardwareSpecs": false,
    "memoryGiB": 768,
    "name": "ml.p3dn.24xlarge",
    "vcpuNum": 96
   },
   {
    "_defaultOrder": 39,
    "_isFastLaunch": false,
    "category": "Memory Optimized",
    "gpuNum": 0,
    "hideHardwareSpecs": false,
    "memoryGiB": 16,
    "name": "ml.r5.large",
    "vcpuNum": 2
   },
   {
    "_defaultOrder": 40,
    "_isFastLaunch": false,
    "category": "Memory Optimized",
    "gpuNum": 0,
    "hideHardwareSpecs": false,
    "memoryGiB": 32,
    "name": "ml.r5.xlarge",
    "vcpuNum": 4
   },
   {
    "_defaultOrder": 41,
    "_isFastLaunch": false,
    "category": "Memory Optimized",
    "gpuNum": 0,
    "hideHardwareSpecs": false,
    "memoryGiB": 64,
    "name": "ml.r5.2xlarge",
    "vcpuNum": 8
   },
   {
    "_defaultOrder": 42,
    "_isFastLaunch": false,
    "category": "Memory Optimized",
    "gpuNum": 0,
    "hideHardwareSpecs": false,
    "memoryGiB": 128,
    "name": "ml.r5.4xlarge",
    "vcpuNum": 16
   },
   {
    "_defaultOrder": 43,
    "_isFastLaunch": false,
    "category": "Memory Optimized",
    "gpuNum": 0,
    "hideHardwareSpecs": false,
    "memoryGiB": 256,
    "name": "ml.r5.8xlarge",
    "vcpuNum": 32
   },
   {
    "_defaultOrder": 44,
    "_isFastLaunch": false,
    "category": "Memory Optimized",
    "gpuNum": 0,
    "hideHardwareSpecs": false,
    "memoryGiB": 384,
    "name": "ml.r5.12xlarge",
    "vcpuNum": 48
   },
   {
    "_defaultOrder": 45,
    "_isFastLaunch": false,
    "category": "Memory Optimized",
    "gpuNum": 0,
    "hideHardwareSpecs": false,
    "memoryGiB": 512,
    "name": "ml.r5.16xlarge",
    "vcpuNum": 64
   },
   {
    "_defaultOrder": 46,
    "_isFastLaunch": false,
    "category": "Memory Optimized",
    "gpuNum": 0,
    "hideHardwareSpecs": false,
    "memoryGiB": 768,
    "name": "ml.r5.24xlarge",
    "vcpuNum": 96
   },
   {
    "_defaultOrder": 47,
    "_isFastLaunch": false,
    "category": "Accelerated computing",
    "gpuNum": 1,
    "hideHardwareSpecs": false,
    "memoryGiB": 16,
    "name": "ml.g5.xlarge",
    "vcpuNum": 4
   },
   {
    "_defaultOrder": 48,
    "_isFastLaunch": false,
    "category": "Accelerated computing",
    "gpuNum": 1,
    "hideHardwareSpecs": false,
    "memoryGiB": 32,
    "name": "ml.g5.2xlarge",
    "vcpuNum": 8
   },
   {
    "_defaultOrder": 49,
    "_isFastLaunch": false,
    "category": "Accelerated computing",
    "gpuNum": 1,
    "hideHardwareSpecs": false,
    "memoryGiB": 64,
    "name": "ml.g5.4xlarge",
    "vcpuNum": 16
   },
   {
    "_defaultOrder": 50,
    "_isFastLaunch": false,
    "category": "Accelerated computing",
    "gpuNum": 1,
    "hideHardwareSpecs": false,
    "memoryGiB": 128,
    "name": "ml.g5.8xlarge",
    "vcpuNum": 32
   },
   {
    "_defaultOrder": 51,
    "_isFastLaunch": false,
    "category": "Accelerated computing",
    "gpuNum": 1,
    "hideHardwareSpecs": false,
    "memoryGiB": 256,
    "name": "ml.g5.16xlarge",
    "vcpuNum": 64
   },
   {
    "_defaultOrder": 52,
    "_isFastLaunch": false,
    "category": "Accelerated computing",
    "gpuNum": 4,
    "hideHardwareSpecs": false,
    "memoryGiB": 192,
    "name": "ml.g5.12xlarge",
    "vcpuNum": 48
   },
   {
    "_defaultOrder": 53,
    "_isFastLaunch": false,
    "category": "Accelerated computing",
    "gpuNum": 4,
    "hideHardwareSpecs": false,
    "memoryGiB": 384,
    "name": "ml.g5.24xlarge",
    "vcpuNum": 96
   },
   {
    "_defaultOrder": 54,
    "_isFastLaunch": false,
    "category": "Accelerated computing",
    "gpuNum": 8,
    "hideHardwareSpecs": false,
    "memoryGiB": 768,
    "name": "ml.g5.48xlarge",
    "vcpuNum": 192
   },
   {
    "_defaultOrder": 55,
    "_isFastLaunch": false,
    "category": "Accelerated computing",
    "gpuNum": 8,
    "hideHardwareSpecs": false,
    "memoryGiB": 1152,
    "name": "ml.p4d.24xlarge",
    "vcpuNum": 96
   },
   {
    "_defaultOrder": 56,
    "_isFastLaunch": false,
    "category": "Accelerated computing",
    "gpuNum": 8,
    "hideHardwareSpecs": false,
    "memoryGiB": 1152,
    "name": "ml.p4de.24xlarge",
    "vcpuNum": 96
   },
   {
    "_defaultOrder": 57,
    "_isFastLaunch": false,
    "category": "Accelerated computing",
    "gpuNum": 0,
    "hideHardwareSpecs": false,
    "memoryGiB": 32,
    "name": "ml.trn1.2xlarge",
    "vcpuNum": 8
   },
   {
    "_defaultOrder": 58,
    "_isFastLaunch": false,
    "category": "Accelerated computing",
    "gpuNum": 0,
    "hideHardwareSpecs": false,
    "memoryGiB": 512,
    "name": "ml.trn1.32xlarge",
    "vcpuNum": 128
   },
   {
    "_defaultOrder": 59,
    "_isFastLaunch": false,
    "category": "Accelerated computing",
    "gpuNum": 0,
    "hideHardwareSpecs": false,
    "memoryGiB": 512,
    "name": "ml.trn1n.32xlarge",
    "vcpuNum": 128
   }
  ],
  "instance_type": "ml.g4dn.xlarge",
  "kernelspec": {
   "display_name": "Python 3 (Data Science 3.0)",
   "language": "python",
   "name": "python3__SAGEMAKER_INTERNAL__arn:aws:sagemaker:eu-central-1:936697816551:image/sagemaker-data-science-310-v1"
  },
  "language_info": {
   "codemirror_mode": {
    "name": "ipython",
    "version": 3
   },
   "file_extension": ".py",
   "mimetype": "text/x-python",
   "name": "python",
   "nbconvert_exporter": "python",
   "pygments_lexer": "ipython3",
   "version": "3.10.6"
  }
 },
 "nbformat": 4,
 "nbformat_minor": 4
}