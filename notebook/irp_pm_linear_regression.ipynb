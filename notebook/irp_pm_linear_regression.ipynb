{
 "cells": [
  {
   "cell_type": "markdown",
   "metadata": {
    "collapsed": true,
    "jupyter": {
     "outputs_hidden": true
    },
    "pycharm": {
     "name": "#%%\n"
    }
   },
   "source": [
    "# Postdam PM2.5 Linear Regression Forcasting \n",
    "\n",
    "* With Ridge And Lasso Regression Models\n",
    "* Between 2013 and 2023, data collected by DEBB021 was used.\n",
    "* To increase the accuracy of PM2.5 data estimation, NO2, O3, SO2, PM10 pollutant gas data accepted by the EEA was added.\n"
   ]
  },
  {
   "cell_type": "markdown",
   "metadata": {
    "pycharm": {
     "name": "#%% md\n"
    }
   },
   "source": [
    "# TODO:\n",
    "* SKIP- decompose data maybe? But my data does not have trends etc.??? \n",
    "* Set index as Start_timestamp\n",
    "* Feature Engineering ?!?!?! PCA ?!?!?! \n",
    "* Separate train/val/test data 60-20-20, explain why?\n",
    "* Create Model\n",
    "* Train model\n",
    "* Evaluate with metrics\n",
    "* Test\n",
    "* Predict\n",
    "* Plot Visualise\n",
    "\n",
    "* Add Ringe and Lasso Alg\n",
    "* Evaluate them\n",
    "* HyperParamater Tune them\n",
    "\n",
    "\n",
    "\n",
    "**Decomposition:** ?!?!?!? ()\n",
    "Decompose the time series into trend, seasonal, and residual components. You could model the trend (which may be non-linear) separately and use linear regression to model the residuals or seasonal variations."
   ]
  },
  {
   "cell_type": "code",
   "execution_count": null,
   "outputs": [],
   "source": [
    "# imports\n",
    "import os\n",
    "import pandas as pd\n",
    "os.chdir('..')\n",
    "import matplotlib.pyplot as plt\n",
    "import numpy as np, pandas as pd\n",
    "from src.linear_regression import decompose_time_series\n",
    "from sklearn.model_selection import train_test_split\n",
    "from sklearn.decomposition import PCA\n",
    "from sklearn.preprocessing import StandardScaler\n",
    "from sklearn.linear_model import LinearRegression\n",
    "from sklearn.metrics import mean_absolute_error, mean_squared_error, mean_absolute_percentage_error\n",
    "from sklearn.linear_model import Ridge\n",
    "from sklearn.model_selection import RandomizedSearchCV\n",
    "from scipy.stats import uniform\n",
    "from sklearn.linear_model import Lasso\n",
    "from scipy.stats import loguniform"
   ],
   "metadata": {
    "collapsed": false,
    "pycharm": {
     "name": "#%%\n"
    }
   }
  },
  {
   "cell_type": "markdown",
   "source": [
    "## Data Exploration\n",
    "\n",
    "* Load Data\n"
   ],
   "metadata": {
    "collapsed": false,
    "pycharm": {
     "name": "#%% md\n"
    }
   }
  },
  {
   "cell_type": "code",
   "execution_count": null,
   "outputs": [],
   "source": [
    "df = pd.read_csv('data/CLEAN_MERGED_DE_DEBB021.csv')\n",
    "df.head()"
   ],
   "metadata": {
    "collapsed": false,
    "pycharm": {
     "name": "#%%\n"
    }
   }
  },
  {
   "cell_type": "code",
   "execution_count": null,
   "outputs": [],
   "source": [
    "df.describe().transpose()"
   ],
   "metadata": {
    "collapsed": false,
    "pycharm": {
     "name": "#%%\n"
    }
   }
  },
  {
   "cell_type": "code",
   "execution_count": null,
   "outputs": [],
   "source": [
    "df.set_index('Start_Timestamp', inplace=True)\n",
    "df.head()"
   ],
   "metadata": {
    "collapsed": false,
    "pycharm": {
     "name": "#%%\n"
    }
   }
  },
  {
   "cell_type": "markdown",
   "source": [
    "# Linear Regression \n",
    "\n",
    "* Defining Target and feature variables\n",
    "* Scale Features\n",
    "* Apply PCA\n",
    "* Split Data into Train, Validation, Test data\n",
    "* Train Linear Reg Model\n",
    "* Predict\n",
    "* Evaluate Validation and Test data\n",
    "* Hyperparameter Tuning ??\n"
   ],
   "metadata": {
    "collapsed": false,
    "pycharm": {
     "name": "#%% md\n"
    }
   }
  },
  {
   "cell_type": "code",
   "execution_count": null,
   "outputs": [],
   "source": [
    "# Defining Target and feature variables\n",
    "features = ['NO2-Value', 'O3-Value', 'SO2-Value', 'PM10-Value']\n",
    "target = 'PM2.5-Value'\n",
    "\n",
    "# Separate the features and target\n",
    "X = df[features]\n",
    "y = df[target]"
   ],
   "metadata": {
    "collapsed": false,
    "pycharm": {
     "name": "#%%\n"
    }
   }
  },
  {
   "cell_type": "markdown",
   "source": [
    "## Splitting Data \n",
    "\n",
    "Train, Validation and Test data"
   ],
   "metadata": {
    "collapsed": false,
    "pycharm": {
     "name": "#%% md\n"
    }
   }
  },
  {
   "cell_type": "code",
   "execution_count": null,
   "outputs": [],
   "source": [
    "train_ratio = 0.6\n",
    "validation_ratio = 0.2\n",
    "test_ratio = 0.2\n",
    "\n",
    "# Calculate the indices for the splits\n",
    "train_end = int(len(df) * train_ratio)\n",
    "validation_end = train_end + int(len(df) * validation_ratio)\n",
    "\n",
    "# Split the dataset\n",
    "train_data = df[:train_end]\n",
    "validation_data = df[train_end:validation_end]\n",
    "test_data = df[validation_end:]\n",
    "\n",
    "\n",
    "print(f\"Training set size: {train_data.shape[0]}\")\n",
    "print(f\"Validation set size: {validation_data.shape[0]}\")\n",
    "print(f\"Test set size: {test_data.shape[0]}\")\n"
   ],
   "metadata": {
    "collapsed": false,
    "pycharm": {
     "name": "#%%\n"
    }
   }
  },
  {
   "cell_type": "code",
   "execution_count": null,
   "outputs": [],
   "source": [
    "# Scale the features\n",
    "scaler = StandardScaler()\n",
    "scaler.fit(train_data[features])  # Fit only on training data\n",
    "\n",
    "# Scale the datasets\n",
    "X_train_scaled = scaler.transform(train_data[features])\n",
    "X_val_scaled = scaler.transform(validation_data[features])\n",
    "X_test_scaled = scaler.transform(test_data[features])"
   ],
   "metadata": {
    "collapsed": false,
    "pycharm": {
     "name": "#%%\n"
    }
   }
  },
  {
   "cell_type": "markdown",
   "source": [
    "## Principle Component Analysis (PCA)\n",
    "Principal Component Analysis (PCA) is a statistical procedure that uses an orthogonal transformation to convert a set of observations of possibly correlated variables into a set of values of linearly uncorrelated variables called principal components."
   ],
   "metadata": {
    "collapsed": false,
    "pycharm": {
     "name": "#%% md\n"
    }
   }
  },
  {
   "cell_type": "code",
   "execution_count": null,
   "outputs": [],
   "source": [
    "# Apply PCA on the scaled data\n",
    "pca = PCA(n_components=0.95)  # Adjust based on the explained variance\n",
    "pca.fit(X_train_scaled)  # Fit only on training data"
   ],
   "metadata": {
    "collapsed": false,
    "pycharm": {
     "name": "#%%\n"
    }
   }
  },
  {
   "cell_type": "code",
   "execution_count": null,
   "outputs": [],
   "source": [
    "# Transform the datasets using the fitted PCA\n",
    "X_train_pca = pca.transform(X_train_scaled)\n",
    "X_val_pca = pca.transform(X_val_scaled)\n",
    "X_test_pca = pca.transform(X_test_scaled)"
   ],
   "metadata": {
    "collapsed": false,
    "pycharm": {
     "name": "#%%\n"
    }
   }
  },
  {
   "cell_type": "code",
   "execution_count": null,
   "outputs": [],
   "source": [
    "# Extract the target variable\n",
    "y_train = train_data[target]\n",
    "y_val = validation_data[target]\n",
    "y_test = test_data[target]"
   ],
   "metadata": {
    "collapsed": false,
    "pycharm": {
     "name": "#%%\n"
    }
   }
  },
  {
   "cell_type": "markdown",
   "source": [
    "## Model Creation\n",
    "* Initialize Linear Regression Model\n",
    "* Train model"
   ],
   "metadata": {
    "collapsed": false,
    "pycharm": {
     "name": "#%% md\n"
    }
   }
  },
  {
   "cell_type": "code",
   "execution_count": null,
   "outputs": [],
   "source": [
    "# Initialize and train the linear regression model\n",
    "model = LinearRegression()\n",
    "model.fit(X_train_pca, y_train)"
   ],
   "metadata": {
    "collapsed": false,
    "pycharm": {
     "name": "#%%\n"
    }
   }
  },
  {
   "cell_type": "markdown",
   "source": [
    "# Evaluation \n",
    "\n",
    "## With Validation Data\n",
    "\n",
    "Error metrics MAE, MSE, RMSE, MASE, MAPE\n",
    "\n",
    "* Regarding the MASE metric, calculating it requires a baseline prediction model for the time series, which is typically done by using the last observed value to predict the next (in the simplest case) or using more complex methods like ARIMA for one-step ahead forecasting. This is not included in the above script as it would require additional steps to implement the naive forecasting method for a time series."
   ],
   "metadata": {
    "collapsed": false,
    "pycharm": {
     "name": "#%% md\n"
    }
   }
  },
  {
   "cell_type": "markdown",
   "source": [
    "### Predict Validation\n"
   ],
   "metadata": {
    "collapsed": false,
    "pycharm": {
     "name": "#%% md\n"
    }
   }
  },
  {
   "cell_type": "code",
   "execution_count": null,
   "outputs": [],
   "source": [
    "# Make predictions on the validation set\n",
    "y_val_pred = model.predict(X_val_pca)\n",
    "\n",
    "print(y_val_pred)\n"
   ],
   "metadata": {
    "collapsed": false,
    "pycharm": {
     "name": "#%%\n"
    }
   }
  },
  {
   "cell_type": "code",
   "execution_count": null,
   "outputs": [],
   "source": [
    "# Error Metric\n",
    "mae_val = mean_absolute_error(y_val, y_val_pred)\n",
    "mse_val = mean_squared_error(y_val, y_val_pred)\n",
    "rmse_val = mse_val ** 0.5\n",
    "mape_val = mean_absolute_percentage_error(y_val, y_val_pred)\n",
    "\n",
    "print(f\"Validation MAE: {mae_val}\")\n",
    "print(f\"Validation MSE: {mse_val}\")\n",
    "print(f\"Validation RMSE: {rmse_val}\")\n",
    "print(f\"Validation MAPE: {mape_val}\")"
   ],
   "metadata": {
    "collapsed": false,
    "pycharm": {
     "name": "#%%\n"
    }
   }
  },
  {
   "cell_type": "code",
   "execution_count": null,
   "outputs": [],
   "source": [
    "# MASE Calculation\n",
    "\n",
    "# Create naive forecasts for validation and test sets\n",
    "y_val_naive = np.roll(y_val, 1)\n",
    "\n",
    "# Calculate MAE for the naive forecasts\n",
    "mae_val_naive = mean_absolute_error(y_val[1:], y_val_naive[1:])\n",
    "\n",
    "# Calculate MASE for validation and test sets\n",
    "mase_val = mae_val / mae_val_naive\n",
    "\n",
    "print(f\"Validation MASE: {mase_val}\")"
   ],
   "metadata": {
    "collapsed": false,
    "pycharm": {
     "name": "#%%\n"
    }
   }
  },
  {
   "cell_type": "markdown",
   "source": [
    "## With Test Data\n"
   ],
   "metadata": {
    "collapsed": false,
    "pycharm": {
     "name": "#%% md\n"
    }
   }
  },
  {
   "cell_type": "code",
   "execution_count": null,
   "outputs": [],
   "source": [
    "# Predict on the test set\n",
    "y_test_pred = model.predict(X_test_pca)\n",
    "\n",
    "# Calculate and print the test metrics\n",
    "mae_test = mean_absolute_error(y_test, y_test_pred)\n",
    "mse_test = mean_squared_error(y_test, y_test_pred)\n",
    "rmse_test = mse_test ** 0.5\n",
    "mape_test = mean_absolute_percentage_error(y_test, y_test_pred)\n",
    "\n",
    "print(f\"\\nTest MAE: {mae_test}\")\n",
    "print(f\"Test MSE: {mse_test}\")\n",
    "print(f\"Test RMSE: {rmse_test}\")\n",
    "print(f\"Test MAPE: {mape_test}\")"
   ],
   "metadata": {
    "collapsed": false,
    "pycharm": {
     "name": "#%%\n"
    }
   }
  },
  {
   "cell_type": "code",
   "execution_count": null,
   "outputs": [],
   "source": [
    "# MASE Calculation\n",
    "\n",
    "# Create naive forecasts for validation and test sets\n",
    "y_test_naive = np.roll(y_test, 1)\n",
    "\n",
    "# Calculate MAE for the naive forecasts\n",
    "mae_test_naive = mean_absolute_error(y_test[1:], y_test_naive[1:])\n",
    "\n",
    "# Calculate MASE for validation and test sets\n",
    "mase_test = mae_test / mae_test_naive\n",
    "\n",
    "print(f\"Test MASE: {mase_test}\")"
   ],
   "metadata": {
    "collapsed": false,
    "pycharm": {
     "name": "#%%\n"
    }
   }
  },
  {
   "cell_type": "markdown",
   "source": [
    "## Plot Table \n"
   ],
   "metadata": {
    "collapsed": false,
    "pycharm": {
     "name": "#%% md\n"
    }
   }
  },
  {
   "cell_type": "code",
   "execution_count": null,
   "outputs": [],
   "source": [
    "\n",
    "# Let's assume y_val is your validation set actual values and y_val_pred are the predictions\n",
    "# Similarly, y_test and y_test_pred for the test set\n",
    "\n",
    "# Plotting the actual vs predicted values for validation set\n",
    "plt.figure(figsize=(15, 5))\n",
    "\n",
    "# Actual values - using blue color with a line marker\n",
    "plt.plot(validation_data.index, y_val, color='blue', marker='o', label='Actual', linestyle='-', linewidth=1)\n",
    "\n",
    "# Predicted values - using red color with a cross marker\n",
    "plt.plot(validation_data.index, y_val_pred, color='red', marker='x', label='Predicted', linestyle='None')\n",
    "\n",
    "plt.title('Validation Set - Actual vs Predicted PM2.5')\n",
    "plt.xlabel('Date')\n",
    "plt.ylabel('PM2.5')\n",
    "plt.legend()\n",
    "plt.show()\n",
    "\n",
    "# For the test set, do similarly\n",
    "plt.figure(figsize=(15, 5))\n",
    "\n",
    "# Actual values - using blue color with a line marker\n",
    "plt.plot(test_data.index, y_test, color='blue', marker='o', label='Actual', linestyle='-', linewidth=1)\n",
    "\n",
    "# Predicted values - using red color with a cross marker\n",
    "plt.plot(test_data.index, y_test_pred, color='red', marker='x', label='Predicted', linestyle='None')\n",
    "\n",
    "plt.title('Test Set - Actual vs Predicted PM2.5')\n",
    "plt.xlabel('Date')\n",
    "plt.ylabel('PM2.5')\n",
    "plt.legend()\n",
    "plt.show()"
   ],
   "metadata": {
    "collapsed": false,
    "pycharm": {
     "name": "#%%\n"
    }
   }
  },
  {
   "cell_type": "markdown",
   "source": [
    "# HyperPramater Tuning\n",
    "\n",
    "Linear Regression typically has fewer hyperparameters than other models like neural networks or ensemble models. However, there are still some aspects of the model that you can adjust. For instance, you can apply regularization, which can be considered a form of hyperparameter tuning. The most common types of regularized linear regression are Ridge Regression (L2 regularization) and Lasso Regression (L1 regularization)."
   ],
   "metadata": {
    "collapsed": false,
    "pycharm": {
     "name": "#%% md\n"
    }
   }
  },
  {
   "cell_type": "markdown",
   "source": [
    "## Ridge Regression (L2)\n",
    "Ridge regression, also known as Tikhonov regularization, is a method of estimating the coefficients of multiple-regression models in scenarios where linearly independent variables are highly correlated. In multicollinear data, least-squares estimates are unbiased, but their variances are large, so they may be far from the true value. Ridge regression adds a degree of bias to the regression estimates, which often results in a decrease in the standard errors.\n",
    "\n",
    "* RandomizedSearchCV is a useful alternative to GridSearchCV when the parameter space is large. It samples a fixed number of parameter combinations from the specified distributions, which can be much more efficient, especially when some hyperparameters do not influence the performance of the model significantly.\n",
    "\n",
    "\n",
    "### Model Creation"
   ],
   "metadata": {
    "collapsed": false,
    "pycharm": {
     "name": "#%% md\n"
    }
   }
  },
  {
   "cell_type": "code",
   "execution_count": null,
   "outputs": [],
   "source": [
    "# Define the model\n",
    "model = Ridge()\n"
   ],
   "metadata": {
    "collapsed": false,
    "pycharm": {
     "name": "#%%\n"
    }
   }
  },
  {
   "cell_type": "code",
   "execution_count": null,
   "outputs": [],
   "source": [
    "# Define the distribution of hyperparameters to sample from\n",
    "# Here, we define a uniform distribution over a log scale for the alpha parameter\n",
    "param_distributions = {'alpha': uniform(1e-4, 1e4)}\n",
    "\n",
    "# Set up the random search with cross-validation\n",
    "# n_iter sets the number of different combinations to try\n",
    "# cv is the number of folds for cross-validation\n",
    "# scoring determines the metric used to evaluate the models\n",
    "random_search = RandomizedSearchCV(estimator=model, param_distributions=param_distributions, n_iter=100, cv=5, scoring='neg_mean_absolute_error', verbose=1, random_state=42, n_jobs=-1)"
   ],
   "metadata": {
    "collapsed": false,
    "pycharm": {
     "name": "#%%\n"
    }
   }
  },
  {
   "cell_type": "markdown",
   "source": [
    "### Model Train"
   ],
   "metadata": {
    "collapsed": false,
    "pycharm": {
     "name": "#%% md\n"
    }
   }
  },
  {
   "cell_type": "code",
   "execution_count": null,
   "outputs": [],
   "source": [
    "# Fit the random search to the data (use the PCA-transformed data)\n",
    "random_search.fit(X_train_pca, y_train)\n",
    "\n",
    "# Print the best parameters\n",
    "print('Best parameters found: ', random_search.best_params_)"
   ],
   "metadata": {
    "collapsed": false,
    "pycharm": {
     "name": "#%%\n"
    }
   }
  },
  {
   "cell_type": "code",
   "execution_count": null,
   "outputs": [],
   "source": [
    "# Use the best estimator to make predictions\n",
    "y_val_pred = random_search.best_estimator_.predict(X_val_pca)\n",
    "y_test_pred = random_search.best_estimator_.predict(X_test_pca)"
   ],
   "metadata": {
    "collapsed": false,
    "pycharm": {
     "name": "#%%\n"
    }
   }
  },
  {
   "cell_type": "code",
   "execution_count": null,
   "outputs": [],
   "source": [
    "# Validation Set\n",
    "\n",
    "# Error Metric\n",
    "mae_val = mean_absolute_error(y_val, y_val_pred)\n",
    "mse_val = mean_squared_error(y_val, y_val_pred)\n",
    "rmse_val = mse_val ** 0.5\n",
    "mape_val = mean_absolute_percentage_error(y_val, y_val_pred)\n",
    "\n",
    "print(f\"Validation MAE: {mae_val}\")\n",
    "print(f\"Validation MSE: {mse_val}\")\n",
    "print(f\"Validation RMSE: {rmse_val}\")\n",
    "print(f\"Validation MAPE: {mape_val}\")\n",
    "\n",
    "# MASE Calculation\n",
    "\n",
    "# Create naive forecasts for validation and test sets\n",
    "y_val_naive = np.roll(y_val, 1)\n",
    "\n",
    "# Calculate MAE for the naive forecasts\n",
    "mae_val_naive = mean_absolute_error(y_val[1:], y_val_naive[1:])\n",
    "\n",
    "# Calculate MASE for validation and test sets\n",
    "mase_val = mae_val / mae_val_naive\n",
    "\n",
    "print(f\"Validation MASE: {mase_val}\")\n"
   ],
   "metadata": {
    "collapsed": false,
    "pycharm": {
     "name": "#%%\n"
    }
   }
  },
  {
   "cell_type": "code",
   "execution_count": null,
   "outputs": [],
   "source": [
    "# Test Set\n",
    "# Calculate and print the test metrics\n",
    "mae_test = mean_absolute_error(y_test, y_test_pred)\n",
    "mse_test = mean_squared_error(y_test, y_test_pred)\n",
    "rmse_test = mse_test ** 0.5\n",
    "mape_test = mean_absolute_percentage_error(y_test, y_test_pred)\n",
    "\n",
    "print(f\"\\nTest MAE: {mae_test}\")\n",
    "print(f\"Test MSE: {mse_test}\")\n",
    "print(f\"Test RMSE: {rmse_test}\")\n",
    "print(f\"Test MAPE: {mape_test}\")\n",
    "\n",
    "# MASE Calculation\n",
    "\n",
    "# Create naive forecasts for validation and test sets\n",
    "y_test_naive = np.roll(y_test, 1)\n",
    "\n",
    "# Calculate MAE for the naive forecasts\n",
    "mae_test_naive = mean_absolute_error(y_test[1:], y_test_naive[1:])\n",
    "\n",
    "# Calculate MASE for validation and test sets\n",
    "mase_test = mae_test / mae_test_naive\n",
    "\n",
    "print(f\"Test MASE: {mase_test}\")\n"
   ],
   "metadata": {
    "collapsed": false,
    "pycharm": {
     "name": "#%%\n"
    }
   }
  },
  {
   "cell_type": "code",
   "execution_count": null,
   "outputs": [],
   "source": [
    "\n",
    "# Let's assume y_val is your validation set actual values and y_val_pred are the predictions\n",
    "# Similarly, y_test and y_test_pred for the test set\n",
    "\n",
    "# Plotting the actual vs predicted values for validation set\n",
    "plt.figure(figsize=(15, 5))\n",
    "\n",
    "# Actual values - using blue color with a line marker\n",
    "plt.plot(validation_data.index, y_val, color='blue', marker='o', label='Actual', linestyle='-', linewidth=1)\n",
    "\n",
    "# Predicted values - using red color with a cross marker\n",
    "plt.plot(validation_data.index, y_val_pred, color='red', marker='x', label='Predicted', linestyle='None')\n",
    "\n",
    "plt.title('Validation Set - Actual vs Predicted PM2.5')\n",
    "plt.xlabel('Date')\n",
    "plt.ylabel('PM2.5')\n",
    "plt.legend()\n",
    "plt.show()\n",
    "\n",
    "# For the test set, do similarly\n",
    "plt.figure(figsize=(15, 5))\n",
    "\n",
    "# Actual values - using blue color with a line marker\n",
    "plt.plot(test_data.index, y_test, color='blue', marker='o', label='Actual', linestyle='-', linewidth=1)\n",
    "\n",
    "# Predicted values - using red color with a cross marker\n",
    "plt.plot(test_data.index, y_test_pred, color='red', marker='x', label='Predicted', linestyle='None')\n",
    "\n",
    "plt.title('Test Set - Actual vs Predicted PM2.5')\n",
    "plt.xlabel('Date')\n",
    "plt.ylabel('PM2.5')\n",
    "plt.legend()\n",
    "plt.show()"
   ],
   "metadata": {
    "collapsed": false,
    "pycharm": {
     "name": "#%%\n"
    }
   }
  },
  {
   "cell_type": "markdown",
   "source": [
    "## Lasso Regression (L1)\n",
    "\n",
    "Lasso regression, which stands for Least Absolute Shrinkage and Selection Operator, is a type of linear regression that uses shrinkage. Shrinkage is where data values are shrunk towards a central point, like the mean. The lasso procedure encourages simple, sparse models (i.e., models with fewer parameters). This is particularly useful when you have a large number of predictors because it automatically performs variable selection.\n",
    "\n",
    "The key difference between ridge regression and lasso regression lies in the penalty term added to the cost function. While ridge regression adds a squared magnitude of the coefficient as a penalty term to the cost function, lasso regression adds the absolute value of the magnitude of the coefficient as the penalty term.\n",
    "\n",
    "The advantages of lasso regression include:\n",
    "\n",
    "* It can produce simpler and more interpretable models due to feature selection.\n",
    "* It is less prone to overfitting as it penalizes the absolute size of the coefficients.\n",
    "* It can handle complex scenarios with many variables or features in the dataset.\n",
    "\n",
    "However, lasso regression can also have disadvantages, such as biasing estimates towards zero and sometimes underperforming when all variables are included in the true model. It can also struggle with grouped variables, where it tends to select only one variable from a group and ignore the others.\n",
    "\n",
    "### Model Creation\n"
   ],
   "metadata": {
    "collapsed": false,
    "pycharm": {
     "name": "#%% md\n"
    }
   }
  },
  {
   "cell_type": "code",
   "execution_count": null,
   "outputs": [],
   "source": [
    "# Define the model\n",
    "model = Lasso(max_iter=10000)  # Increased max_iter for convergence with high-dimensional data\n",
    "\n",
    "# Define the distribution of hyperparameters to sample from\n",
    "# loguniform is useful for alpha because it spans several orders of magnitude\n",
    "param_distributions = {'alpha': loguniform(1e-4, 1e0)}\n",
    "\n",
    "# Set up the random search with cross-validation\n",
    "random_search = RandomizedSearchCV(\n",
    "    estimator=model,\n",
    "    param_distributions=param_distributions,\n",
    "    n_iter=100,\n",
    "    cv=5,\n",
    "    scoring='neg_mean_absolute_error',\n",
    "    verbose=1,\n",
    "    random_state=42,\n",
    "    n_jobs=-1\n",
    ")"
   ],
   "metadata": {
    "collapsed": false,
    "pycharm": {
     "name": "#%%\n"
    }
   }
  },
  {
   "cell_type": "markdown",
   "source": [
    "### Model Training"
   ],
   "metadata": {
    "collapsed": false,
    "pycharm": {
     "name": "#%% md\n"
    }
   }
  },
  {
   "cell_type": "code",
   "execution_count": null,
   "outputs": [],
   "source": [
    "# Fit the random search to the data (use the PCA-transformed data)\n",
    "random_search.fit(X_train_pca, y_train)\n",
    "\n",
    "# Print the best parameters\n",
    "print('Best parameters found: ', random_search.best_params_)\n",
    "\n",
    "# Use the best estimator to make predictions\n",
    "y_val_pred = random_search.best_estimator_.predict(X_val_pca)\n",
    "y_test_pred = random_search.best_estimator_.predict(X_test_pca)\n"
   ],
   "metadata": {
    "collapsed": false,
    "pycharm": {
     "name": "#%%\n"
    }
   }
  },
  {
   "cell_type": "code",
   "execution_count": null,
   "outputs": [],
   "source": [
    "# Validation Set\n",
    "\n",
    "# Error Metric\n",
    "mae_val = mean_absolute_error(y_val, y_val_pred)\n",
    "mse_val = mean_squared_error(y_val, y_val_pred)\n",
    "rmse_val = mse_val ** 0.5\n",
    "mape_val = mean_absolute_percentage_error(y_val, y_val_pred)\n",
    "\n",
    "print(f\"Validation MAE: {mae_val}\")\n",
    "print(f\"Validation MSE: {mse_val}\")\n",
    "print(f\"Validation RMSE: {rmse_val}\")\n",
    "print(f\"Validation MAPE: {mape_val}\")\n",
    "\n",
    "# MASE Calculation\n",
    "\n",
    "# Create naive forecasts for validation and test sets\n",
    "y_val_naive = np.roll(y_val, 1)\n",
    "\n",
    "# Calculate MAE for the naive forecasts\n",
    "mae_val_naive = mean_absolute_error(y_val[1:], y_val_naive[1:])\n",
    "\n",
    "# Calculate MASE for validation and test sets\n",
    "mase_val = mae_val / mae_val_naive\n",
    "\n",
    "print(f\"Validation MASE: {mase_val}\")"
   ],
   "metadata": {
    "collapsed": false,
    "pycharm": {
     "name": "#%%\n"
    }
   }
  },
  {
   "cell_type": "code",
   "execution_count": null,
   "outputs": [],
   "source": [
    "# Test Set\n",
    "# Calculate and print the test metrics\n",
    "mae_test = mean_absolute_error(y_test, y_test_pred)\n",
    "mse_test = mean_squared_error(y_test, y_test_pred)\n",
    "rmse_test = mse_test ** 0.5\n",
    "mape_test = mean_absolute_percentage_error(y_test, y_test_pred)\n",
    "\n",
    "print(f\"\\nTest MAE: {mae_test}\")\n",
    "print(f\"Test MSE: {mse_test}\")\n",
    "print(f\"Test RMSE: {rmse_test}\")\n",
    "print(f\"Test MAPE: {mape_test}\")\n",
    "\n",
    "# MASE Calculation\n",
    "\n",
    "# Create naive forecasts for validation and test sets\n",
    "y_test_naive = np.roll(y_test, 1)\n",
    "\n",
    "# Calculate MAE for the naive forecasts\n",
    "mae_test_naive = mean_absolute_error(y_test[1:], y_test_naive[1:])\n",
    "\n",
    "# Calculate MASE for validation and test sets\n",
    "mase_test = mae_test / mae_test_naive\n",
    "\n",
    "print(f\"Test MASE: {mase_test}\")\n"
   ],
   "metadata": {
    "collapsed": false,
    "pycharm": {
     "name": "#%%\n"
    }
   }
  },
  {
   "cell_type": "code",
   "execution_count": null,
   "outputs": [],
   "source": [
    "# Let's assume y_val is your validation set actual values and y_val_pred are the predictions\n",
    "# Similarly, y_test and y_test_pred for the test set\n",
    "\n",
    "# Plotting the actual vs predicted values for validation set\n",
    "plt.figure(figsize=(15, 5))\n",
    "\n",
    "# Actual values - using blue color with a line marker\n",
    "plt.plot(validation_data.index, y_val, color='blue', marker='o', label='Actual', linestyle='-', linewidth=1)\n",
    "\n",
    "# Predicted values - using red color with a cross marker\n",
    "plt.plot(validation_data.index, y_val_pred, color='red', marker='x', label='Predicted', linestyle='None')\n",
    "\n",
    "plt.title('Validation Set - Actual vs Predicted PM2.5')\n",
    "plt.xlabel('Date')\n",
    "plt.ylabel('PM2.5')\n",
    "plt.legend()\n",
    "plt.show()\n",
    "\n",
    "# For the test set, do similarly\n",
    "plt.figure(figsize=(15, 5))\n",
    "\n",
    "# Actual values - using blue color with a line marker\n",
    "plt.plot(test_data.index, y_test, color='blue', marker='o', label='Actual', linestyle='-', linewidth=1)\n",
    "\n",
    "# Predicted values - using red color with a cross marker\n",
    "plt.plot(test_data.index, y_test_pred, color='red', marker='x', label='Predicted', linestyle='None')\n",
    "\n",
    "plt.title('Test Set - Actual vs Predicted PM2.5')\n",
    "plt.xlabel('Date')\n",
    "plt.ylabel('PM2.5')\n",
    "plt.legend()\n",
    "plt.show()"
   ],
   "metadata": {
    "collapsed": false,
    "pycharm": {
     "name": "#%%\n"
    }
   }
  },
  {
   "cell_type": "code",
   "execution_count": 25,
   "metadata": {},
   "outputs": [],
   "source": [
    "# Define the model\n",
    "model = Lasso(max_iter=10000)  # Increased max_iter for convergence with high-dimensional data\n",
    "\n",
    "# Define the distribution of hyperparameters to sample from\n",
    "# loguniform is useful for alpha because it spans several orders of magnitude\n",
    "param_distributions = {'alpha': loguniform(1e-4, 1e0)}\n",
    "\n",
    "# Set up the random search with cross-validation\n",
    "random_search = RandomizedSearchCV(\n",
    "    estimator=model,\n",
    "    param_distributions=param_distributions,\n",
    "    n_iter=100,\n",
    "    cv=5,\n",
    "    scoring='neg_mean_absolute_error',\n",
    "    verbose=1,\n",
    "    random_state=42,\n",
    "    n_jobs=-1\n",
    ")"
   ]
  },
  {
   "cell_type": "markdown",
   "metadata": {},
   "source": [
    "### Model Training"
   ]
  },
  {
   "cell_type": "code",
   "execution_count": 26,
   "metadata": {},
   "outputs": [
    {
     "name": "stdout",
     "output_type": "stream",
     "text": [
      "Fitting 5 folds for each of 100 candidates, totalling 500 fits\n",
      "Best parameters found:  {'alpha': 0.00010521761868451127}\n"
     ]
    }
   ],
   "source": [
    "# Fit the random search to the data (use the PCA-transformed data)\n",
    "random_search.fit(X_train_pca, y_train)\n",
    "\n",
    "# Print the best parameters\n",
    "print('Best parameters found: ', random_search.best_params_)\n",
    "\n",
    "# Use the best estimator to make predictions\n",
    "y_val_pred = random_search.best_estimator_.predict(X_val_pca)\n",
    "y_test_pred = random_search.best_estimator_.predict(X_test_pca)\n"
   ]
  },
  {
   "cell_type": "code",
   "execution_count": 27,
   "metadata": {},
   "outputs": [
    {
     "name": "stdout",
     "output_type": "stream",
     "text": [
      "Validation MAE: 2.2926922590133145\n",
      "Validation MSE: 12.682161316756021\n",
      "Validation RMSE: 3.561202229129374\n",
      "Validation MAPE: 0.3425817160270293\n",
      "Validation MASE: 2.212005202794269\n"
     ]
    }
   ],
   "source": [
    "# Validation Set\n",
    "\n",
    "# Error Metric\n",
    "mae_val = mean_absolute_error(y_val, y_val_pred)\n",
    "mse_val = mean_squared_error(y_val, y_val_pred)\n",
    "rmse_val = mse_val ** 0.5\n",
    "mape_val = mean_absolute_percentage_error(y_val, y_val_pred)\n",
    "\n",
    "print(f\"Validation MAE: {mae_val}\")\n",
    "print(f\"Validation MSE: {mse_val}\")\n",
    "print(f\"Validation RMSE: {rmse_val}\")\n",
    "print(f\"Validation MAPE: {mape_val}\")\n",
    "\n",
    "# MASE Calculation\n",
    "\n",
    "# Create naive forecasts for validation and test sets\n",
    "y_val_naive = np.roll(y_val, 1)\n",
    "\n",
    "# Calculate MAE for the naive forecasts\n",
    "mae_val_naive = mean_absolute_error(y_val[1:], y_val_naive[1:])\n",
    "\n",
    "# Calculate MASE for validation and test sets\n",
    "mase_val = mae_val / mae_val_naive\n",
    "\n",
    "print(f\"Validation MASE: {mase_val}\")"
   ]
  },
  {
   "cell_type": "code",
   "execution_count": 28,
   "metadata": {},
   "outputs": [
    {
     "name": "stdout",
     "output_type": "stream",
     "text": [
      "\n",
      "Test MAE: 2.3550875005151237\n",
      "Test MSE: 10.816381817380325\n",
      "Test RMSE: 3.2888268147441764\n",
      "Test MAPE: 0.3231071872444607\n",
      "Test MASE: 2.1803799549207787\n"
     ]
    }
   ],
   "source": [
    "# Test Set\n",
    "# Calculate and print the test metrics\n",
    "mae_test = mean_absolute_error(y_test, y_test_pred)\n",
    "mse_test = mean_squared_error(y_test, y_test_pred)\n",
    "rmse_test = mse_test ** 0.5\n",
    "mape_test = mean_absolute_percentage_error(y_test, y_test_pred)\n",
    "\n",
    "print(f\"\\nTest MAE: {mae_test}\")\n",
    "print(f\"Test MSE: {mse_test}\")\n",
    "print(f\"Test RMSE: {rmse_test}\")\n",
    "print(f\"Test MAPE: {mape_test}\")\n",
    "\n",
    "# MASE Calculation\n",
    "\n",
    "# Create naive forecasts for validation and test sets\n",
    "y_test_naive = np.roll(y_test, 1)\n",
    "\n",
    "# Calculate MAE for the naive forecasts\n",
    "mae_test_naive = mean_absolute_error(y_test[1:], y_test_naive[1:])\n",
    "\n",
    "# Calculate MASE for validation and test sets\n",
    "mase_test = mae_test / mae_test_naive\n",
    "\n",
    "print(f\"Test MASE: {mase_test}\")\n"
   ]
  },
  {
   "cell_type": "code",
   "execution_count": 29,
   "metadata": {},
   "outputs": [
    {
     "data": {
      "image/png": "[encoded data removed]",
      "text/plain": [
       "<Figure size 1080x360 with 1 Axes>"
      ]
     },
     "metadata": {
      "needs_background": "light"
     },
     "output_type": "display_data"
    },
    {
     "data": {
      "image/png": "[encoded data removed]",
      "text/plain": [
       "<Figure size 1080x360 with 1 Axes>"
      ]
     },
     "metadata": {
      "needs_background": "light"
     },
     "output_type": "display_data"
    }
   ],
   "source": [
    "# Let's assume y_val is your validation set actual values and y_val_pred are the predictions\n",
    "# Similarly, y_test and y_test_pred for the test set\n",
    "\n",
    "# Plotting the actual vs predicted values for validation set\n",
    "plt.figure(figsize=(15, 5))\n",
    "\n",
    "# Actual values - using blue color with a line marker\n",
    "plt.plot(validation_data.index, y_val, color='blue', marker='o', label='Actual', linestyle='-', linewidth=1)\n",
    "\n",
    "# Predicted values - using red color with a cross marker\n",
    "plt.plot(validation_data.index, y_val_pred, color='red', marker='x', label='Predicted', linestyle='None')\n",
    "\n",
    "plt.title('Validation Set - Actual vs Predicted PM2.5')\n",
    "plt.xlabel('Date')\n",
    "plt.ylabel('PM2.5')\n",
    "plt.legend()\n",
    "plt.show()\n",
    "\n",
    "# For the test set, do similarly\n",
    "plt.figure(figsize=(15, 5))\n",
    "\n",
    "# Actual values - using blue color with a line marker\n",
    "plt.plot(test_data.index, y_test, color='blue', marker='o', label='Actual', linestyle='-', linewidth=1)\n",
    "\n",
    "# Predicted values - using red color with a cross marker\n",
    "plt.plot(test_data.index, y_test_pred, color='red', marker='x', label='Predicted', linestyle='None')\n",
    "\n",
    "plt.title('Test Set - Actual vs Predicted PM2.5')\n",
    "plt.xlabel('Date')\n",
    "plt.ylabel('PM2.5')\n",
    "plt.legend()\n",
    "plt.show()"
   ]
  }
 ],
 "metadata": {
  "kernelspec": {
   "display_name": "Python 3 (ipykernel)",
   "language": "python",
   "name": "python3"
  },
  "language_info": {
   "codemirror_mode": {
    "name": "ipython",
    "version": 3
   },
   "file_extension": ".py",
   "mimetype": "text/x-python",
   "name": "python",
   "nbconvert_exporter": "python",
   "pygments_lexer": "ipython3",
   "version": "3.9.7"
  }
 },
 "nbformat": 4,
 "nbformat_minor": 4
}