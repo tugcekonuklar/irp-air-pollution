{
 "cells": [
  {
   "cell_type": "markdown",
   "metadata": {
    "pycharm": {
     "name": "#%%\n"
    }
   },
   "source": [
    "# Postdam PM2.5 Linear Regression Forcasting \n",
    "\n",
    "* With Ridge And Lasso Regression Models\n",
    "* Between 2013 and 2023, data collected by DEBB021 was used.\n",
    "* To increase the accuracy of PM2.5 data estimation, NO2, O3, SO2, PM10 pollutant gas data accepted by the EEA was added.\n"
   ]
  },
  {
   "cell_type": "code",
   "execution_count": 1,
   "metadata": {
    "pycharm": {
     "is_executing": true,
     "name": "#%%\n"
    }
   },
   "outputs": [],
   "source": [
    "# imports\n",
    "import sys\n",
    "import os\n",
    "sys.path.append(os.path.dirname(os.getcwd()))\n",
    "import pandas as pd\n",
    "import matplotlib.pyplot as plt\n",
    "import numpy as np, pandas as pd"
   ]
  },
  {
   "cell_type": "code",
   "execution_count": 2,
   "metadata": {},
   "outputs": [],
   "source": [
    "# import src\n",
    "import model_base as mb\n",
    "import linear_regression as lr"
   ]
  },
  {
   "cell_type": "markdown",
   "metadata": {
    "pycharm": {
     "name": "#%% md\n"
    }
   },
   "source": [
    "## Data Exploration\n",
    "\n",
    "* Load Data\n"
   ]
  },
  {
   "cell_type": "code",
   "execution_count": 3,
   "metadata": {
    "pycharm": {
     "name": "#%%\n"
    }
   },
   "outputs": [
    {
     "data": {
      "text/html": [
       "<div>\n",
       "<style scoped>\n",
       "    .dataframe tbody tr th:only-of-type {\n",
       "        vertical-align: middle;\n",
       "    }\n",
       "\n",
       "    .dataframe tbody tr th {\n",
       "        vertical-align: top;\n",
       "    }\n",
       "\n",
       "    .dataframe thead th {\n",
       "        text-align: right;\n",
       "    }\n",
       "</style>\n",
       "<table border=\"1\" class=\"dataframe\">\n",
       "  <thead>\n",
       "    <tr style=\"text-align: right;\">\n",
       "      <th></th>\n",
       "      <th>Start_Timestamp</th>\n",
       "      <th>End_Timestamp</th>\n",
       "      <th>PM2.5-Pollutant</th>\n",
       "      <th>PM2.5-Value</th>\n",
       "      <th>PM2.5-Unit</th>\n",
       "      <th>PM2.5-Validity</th>\n",
       "      <th>PM2.5-Verification</th>\n",
       "      <th>PM10-Pollutant</th>\n",
       "      <th>PM10-Value</th>\n",
       "      <th>PM10-Unit</th>\n",
       "      <th>...</th>\n",
       "      <th>O3-Pollutant</th>\n",
       "      <th>O3-Value</th>\n",
       "      <th>O3-Unit</th>\n",
       "      <th>O3-Validity</th>\n",
       "      <th>O3-Verification</th>\n",
       "      <th>SO2-Pollutant</th>\n",
       "      <th>SO2-Value</th>\n",
       "      <th>SO2-Unit</th>\n",
       "      <th>SO2-Validity</th>\n",
       "      <th>SO2-Verification</th>\n",
       "    </tr>\n",
       "  </thead>\n",
       "  <tbody>\n",
       "    <tr>\n",
       "      <th>0</th>\n",
       "      <td>1356998400</td>\n",
       "      <td>1357002000</td>\n",
       "      <td>6001</td>\n",
       "      <td>71.04</td>\n",
       "      <td>ug.m-3</td>\n",
       "      <td>1</td>\n",
       "      <td>1</td>\n",
       "      <td>5</td>\n",
       "      <td>88.96</td>\n",
       "      <td>ug.m-3</td>\n",
       "      <td>...</td>\n",
       "      <td>7</td>\n",
       "      <td>43.17</td>\n",
       "      <td>ug.m-3</td>\n",
       "      <td>1</td>\n",
       "      <td>1</td>\n",
       "      <td>1</td>\n",
       "      <td>12.18</td>\n",
       "      <td>ug.m-3</td>\n",
       "      <td>1</td>\n",
       "      <td>1</td>\n",
       "    </tr>\n",
       "    <tr>\n",
       "      <th>1</th>\n",
       "      <td>1357002000</td>\n",
       "      <td>1357005600</td>\n",
       "      <td>6001</td>\n",
       "      <td>20.52</td>\n",
       "      <td>ug.m-3</td>\n",
       "      <td>1</td>\n",
       "      <td>1</td>\n",
       "      <td>5</td>\n",
       "      <td>25.17</td>\n",
       "      <td>ug.m-3</td>\n",
       "      <td>...</td>\n",
       "      <td>7</td>\n",
       "      <td>57.15</td>\n",
       "      <td>ug.m-3</td>\n",
       "      <td>1</td>\n",
       "      <td>1</td>\n",
       "      <td>1</td>\n",
       "      <td>4.65</td>\n",
       "      <td>ug.m-3</td>\n",
       "      <td>1</td>\n",
       "      <td>1</td>\n",
       "    </tr>\n",
       "    <tr>\n",
       "      <th>2</th>\n",
       "      <td>1357005600</td>\n",
       "      <td>1357009200</td>\n",
       "      <td>6001</td>\n",
       "      <td>9.56</td>\n",
       "      <td>ug.m-3</td>\n",
       "      <td>1</td>\n",
       "      <td>1</td>\n",
       "      <td>5</td>\n",
       "      <td>11.97</td>\n",
       "      <td>ug.m-3</td>\n",
       "      <td>...</td>\n",
       "      <td>7</td>\n",
       "      <td>63.31</td>\n",
       "      <td>ug.m-3</td>\n",
       "      <td>1</td>\n",
       "      <td>1</td>\n",
       "      <td>1</td>\n",
       "      <td>1.33</td>\n",
       "      <td>ug.m-3</td>\n",
       "      <td>1</td>\n",
       "      <td>1</td>\n",
       "    </tr>\n",
       "    <tr>\n",
       "      <th>3</th>\n",
       "      <td>1357009200</td>\n",
       "      <td>1357012800</td>\n",
       "      <td>6001</td>\n",
       "      <td>9.45</td>\n",
       "      <td>ug.m-3</td>\n",
       "      <td>1</td>\n",
       "      <td>1</td>\n",
       "      <td>5</td>\n",
       "      <td>11.73</td>\n",
       "      <td>ug.m-3</td>\n",
       "      <td>...</td>\n",
       "      <td>7</td>\n",
       "      <td>63.18</td>\n",
       "      <td>ug.m-3</td>\n",
       "      <td>1</td>\n",
       "      <td>1</td>\n",
       "      <td>1</td>\n",
       "      <td>1.33</td>\n",
       "      <td>ug.m-3</td>\n",
       "      <td>1</td>\n",
       "      <td>1</td>\n",
       "    </tr>\n",
       "    <tr>\n",
       "      <th>4</th>\n",
       "      <td>1357012800</td>\n",
       "      <td>1357016400</td>\n",
       "      <td>6001</td>\n",
       "      <td>13.02</td>\n",
       "      <td>ug.m-3</td>\n",
       "      <td>1</td>\n",
       "      <td>1</td>\n",
       "      <td>5</td>\n",
       "      <td>15.88</td>\n",
       "      <td>ug.m-3</td>\n",
       "      <td>...</td>\n",
       "      <td>7</td>\n",
       "      <td>61.70</td>\n",
       "      <td>ug.m-3</td>\n",
       "      <td>1</td>\n",
       "      <td>1</td>\n",
       "      <td>1</td>\n",
       "      <td>1.33</td>\n",
       "      <td>ug.m-3</td>\n",
       "      <td>1</td>\n",
       "      <td>1</td>\n",
       "    </tr>\n",
       "  </tbody>\n",
       "</table>\n",
       "<p>5 rows × 27 columns</p>\n",
       "</div>"
      ],
      "text/plain": [
       "   Start_Timestamp  End_Timestamp  PM2.5-Pollutant  PM2.5-Value PM2.5-Unit  \\\n",
       "0       1356998400     1357002000             6001        71.04     ug.m-3   \n",
       "1       1357002000     1357005600             6001        20.52     ug.m-3   \n",
       "2       1357005600     1357009200             6001         9.56     ug.m-3   \n",
       "3       1357009200     1357012800             6001         9.45     ug.m-3   \n",
       "4       1357012800     1357016400             6001        13.02     ug.m-3   \n",
       "\n",
       "   PM2.5-Validity  PM2.5-Verification  PM10-Pollutant  PM10-Value PM10-Unit  \\\n",
       "0               1                   1               5       88.96    ug.m-3   \n",
       "1               1                   1               5       25.17    ug.m-3   \n",
       "2               1                   1               5       11.97    ug.m-3   \n",
       "3               1                   1               5       11.73    ug.m-3   \n",
       "4               1                   1               5       15.88    ug.m-3   \n",
       "\n",
       "   ...  O3-Pollutant  O3-Value  O3-Unit  O3-Validity O3-Verification  \\\n",
       "0  ...             7     43.17   ug.m-3            1               1   \n",
       "1  ...             7     57.15   ug.m-3            1               1   \n",
       "2  ...             7     63.31   ug.m-3            1               1   \n",
       "3  ...             7     63.18   ug.m-3            1               1   \n",
       "4  ...             7     61.70   ug.m-3            1               1   \n",
       "\n",
       "   SO2-Pollutant  SO2-Value  SO2-Unit  SO2-Validity SO2-Verification  \n",
       "0              1      12.18    ug.m-3             1                1  \n",
       "1              1       4.65    ug.m-3             1                1  \n",
       "2              1       1.33    ug.m-3             1                1  \n",
       "3              1       1.33    ug.m-3             1                1  \n",
       "4              1       1.33    ug.m-3             1                1  \n",
       "\n",
       "[5 rows x 27 columns]"
      ]
     },
     "execution_count": 3,
     "metadata": {},
     "output_type": "execute_result"
    }
   ],
   "source": [
    "df = mb.get_cleaned_df()\n",
    "df.head()"
   ]
  },
  {
   "cell_type": "code",
   "execution_count": 4,
   "metadata": {
    "pycharm": {
     "name": "#%%\n"
    }
   },
   "outputs": [
    {
     "data": {
      "text/html": [
       "<div>\n",
       "<style scoped>\n",
       "    .dataframe tbody tr th:only-of-type {\n",
       "        vertical-align: middle;\n",
       "    }\n",
       "\n",
       "    .dataframe tbody tr th {\n",
       "        vertical-align: top;\n",
       "    }\n",
       "\n",
       "    .dataframe thead th {\n",
       "        text-align: right;\n",
       "    }\n",
       "</style>\n",
       "<table border=\"1\" class=\"dataframe\">\n",
       "  <thead>\n",
       "    <tr style=\"text-align: right;\">\n",
       "      <th></th>\n",
       "      <th>End_Timestamp</th>\n",
       "      <th>PM2.5-Pollutant</th>\n",
       "      <th>PM2.5-Value</th>\n",
       "      <th>PM2.5-Unit</th>\n",
       "      <th>PM2.5-Validity</th>\n",
       "      <th>PM2.5-Verification</th>\n",
       "      <th>PM10-Pollutant</th>\n",
       "      <th>PM10-Value</th>\n",
       "      <th>PM10-Unit</th>\n",
       "      <th>PM10-Validity</th>\n",
       "      <th>...</th>\n",
       "      <th>O3-Pollutant</th>\n",
       "      <th>O3-Value</th>\n",
       "      <th>O3-Unit</th>\n",
       "      <th>O3-Validity</th>\n",
       "      <th>O3-Verification</th>\n",
       "      <th>SO2-Pollutant</th>\n",
       "      <th>SO2-Value</th>\n",
       "      <th>SO2-Unit</th>\n",
       "      <th>SO2-Validity</th>\n",
       "      <th>SO2-Verification</th>\n",
       "    </tr>\n",
       "    <tr>\n",
       "      <th>Start_Timestamp</th>\n",
       "      <th></th>\n",
       "      <th></th>\n",
       "      <th></th>\n",
       "      <th></th>\n",
       "      <th></th>\n",
       "      <th></th>\n",
       "      <th></th>\n",
       "      <th></th>\n",
       "      <th></th>\n",
       "      <th></th>\n",
       "      <th></th>\n",
       "      <th></th>\n",
       "      <th></th>\n",
       "      <th></th>\n",
       "      <th></th>\n",
       "      <th></th>\n",
       "      <th></th>\n",
       "      <th></th>\n",
       "      <th></th>\n",
       "      <th></th>\n",
       "      <th></th>\n",
       "    </tr>\n",
       "  </thead>\n",
       "  <tbody>\n",
       "    <tr>\n",
       "      <th>1356998400</th>\n",
       "      <td>1357002000</td>\n",
       "      <td>6001</td>\n",
       "      <td>71.04</td>\n",
       "      <td>ug.m-3</td>\n",
       "      <td>1</td>\n",
       "      <td>1</td>\n",
       "      <td>5</td>\n",
       "      <td>88.96</td>\n",
       "      <td>ug.m-3</td>\n",
       "      <td>1</td>\n",
       "      <td>...</td>\n",
       "      <td>7</td>\n",
       "      <td>43.17</td>\n",
       "      <td>ug.m-3</td>\n",
       "      <td>1</td>\n",
       "      <td>1</td>\n",
       "      <td>1</td>\n",
       "      <td>12.18</td>\n",
       "      <td>ug.m-3</td>\n",
       "      <td>1</td>\n",
       "      <td>1</td>\n",
       "    </tr>\n",
       "    <tr>\n",
       "      <th>1357002000</th>\n",
       "      <td>1357005600</td>\n",
       "      <td>6001</td>\n",
       "      <td>20.52</td>\n",
       "      <td>ug.m-3</td>\n",
       "      <td>1</td>\n",
       "      <td>1</td>\n",
       "      <td>5</td>\n",
       "      <td>25.17</td>\n",
       "      <td>ug.m-3</td>\n",
       "      <td>1</td>\n",
       "      <td>...</td>\n",
       "      <td>7</td>\n",
       "      <td>57.15</td>\n",
       "      <td>ug.m-3</td>\n",
       "      <td>1</td>\n",
       "      <td>1</td>\n",
       "      <td>1</td>\n",
       "      <td>4.65</td>\n",
       "      <td>ug.m-3</td>\n",
       "      <td>1</td>\n",
       "      <td>1</td>\n",
       "    </tr>\n",
       "    <tr>\n",
       "      <th>1357005600</th>\n",
       "      <td>1357009200</td>\n",
       "      <td>6001</td>\n",
       "      <td>9.56</td>\n",
       "      <td>ug.m-3</td>\n",
       "      <td>1</td>\n",
       "      <td>1</td>\n",
       "      <td>5</td>\n",
       "      <td>11.97</td>\n",
       "      <td>ug.m-3</td>\n",
       "      <td>1</td>\n",
       "      <td>...</td>\n",
       "      <td>7</td>\n",
       "      <td>63.31</td>\n",
       "      <td>ug.m-3</td>\n",
       "      <td>1</td>\n",
       "      <td>1</td>\n",
       "      <td>1</td>\n",
       "      <td>1.33</td>\n",
       "      <td>ug.m-3</td>\n",
       "      <td>1</td>\n",
       "      <td>1</td>\n",
       "    </tr>\n",
       "    <tr>\n",
       "      <th>1357009200</th>\n",
       "      <td>1357012800</td>\n",
       "      <td>6001</td>\n",
       "      <td>9.45</td>\n",
       "      <td>ug.m-3</td>\n",
       "      <td>1</td>\n",
       "      <td>1</td>\n",
       "      <td>5</td>\n",
       "      <td>11.73</td>\n",
       "      <td>ug.m-3</td>\n",
       "      <td>1</td>\n",
       "      <td>...</td>\n",
       "      <td>7</td>\n",
       "      <td>63.18</td>\n",
       "      <td>ug.m-3</td>\n",
       "      <td>1</td>\n",
       "      <td>1</td>\n",
       "      <td>1</td>\n",
       "      <td>1.33</td>\n",
       "      <td>ug.m-3</td>\n",
       "      <td>1</td>\n",
       "      <td>1</td>\n",
       "    </tr>\n",
       "    <tr>\n",
       "      <th>1357012800</th>\n",
       "      <td>1357016400</td>\n",
       "      <td>6001</td>\n",
       "      <td>13.02</td>\n",
       "      <td>ug.m-3</td>\n",
       "      <td>1</td>\n",
       "      <td>1</td>\n",
       "      <td>5</td>\n",
       "      <td>15.88</td>\n",
       "      <td>ug.m-3</td>\n",
       "      <td>1</td>\n",
       "      <td>...</td>\n",
       "      <td>7</td>\n",
       "      <td>61.70</td>\n",
       "      <td>ug.m-3</td>\n",
       "      <td>1</td>\n",
       "      <td>1</td>\n",
       "      <td>1</td>\n",
       "      <td>1.33</td>\n",
       "      <td>ug.m-3</td>\n",
       "      <td>1</td>\n",
       "      <td>1</td>\n",
       "    </tr>\n",
       "  </tbody>\n",
       "</table>\n",
       "<p>5 rows × 26 columns</p>\n",
       "</div>"
      ],
      "text/plain": [
       "                 End_Timestamp  PM2.5-Pollutant  PM2.5-Value PM2.5-Unit  \\\n",
       "Start_Timestamp                                                           \n",
       "1356998400          1357002000             6001        71.04     ug.m-3   \n",
       "1357002000          1357005600             6001        20.52     ug.m-3   \n",
       "1357005600          1357009200             6001         9.56     ug.m-3   \n",
       "1357009200          1357012800             6001         9.45     ug.m-3   \n",
       "1357012800          1357016400             6001        13.02     ug.m-3   \n",
       "\n",
       "                 PM2.5-Validity  PM2.5-Verification  PM10-Pollutant  \\\n",
       "Start_Timestamp                                                       \n",
       "1356998400                    1                   1               5   \n",
       "1357002000                    1                   1               5   \n",
       "1357005600                    1                   1               5   \n",
       "1357009200                    1                   1               5   \n",
       "1357012800                    1                   1               5   \n",
       "\n",
       "                 PM10-Value PM10-Unit  PM10-Validity  ...  O3-Pollutant  \\\n",
       "Start_Timestamp                                       ...                 \n",
       "1356998400            88.96    ug.m-3              1  ...             7   \n",
       "1357002000            25.17    ug.m-3              1  ...             7   \n",
       "1357005600            11.97    ug.m-3              1  ...             7   \n",
       "1357009200            11.73    ug.m-3              1  ...             7   \n",
       "1357012800            15.88    ug.m-3              1  ...             7   \n",
       "\n",
       "                 O3-Value  O3-Unit O3-Validity  O3-Verification  \\\n",
       "Start_Timestamp                                                   \n",
       "1356998400          43.17   ug.m-3           1                1   \n",
       "1357002000          57.15   ug.m-3           1                1   \n",
       "1357005600          63.31   ug.m-3           1                1   \n",
       "1357009200          63.18   ug.m-3           1                1   \n",
       "1357012800          61.70   ug.m-3           1                1   \n",
       "\n",
       "                 SO2-Pollutant  SO2-Value  SO2-Unit SO2-Validity  \\\n",
       "Start_Timestamp                                                    \n",
       "1356998400                   1      12.18    ug.m-3            1   \n",
       "1357002000                   1       4.65    ug.m-3            1   \n",
       "1357005600                   1       1.33    ug.m-3            1   \n",
       "1357009200                   1       1.33    ug.m-3            1   \n",
       "1357012800                   1       1.33    ug.m-3            1   \n",
       "\n",
       "                 SO2-Verification  \n",
       "Start_Timestamp                    \n",
       "1356998400                      1  \n",
       "1357002000                      1  \n",
       "1357005600                      1  \n",
       "1357009200                      1  \n",
       "1357012800                      1  \n",
       "\n",
       "[5 rows x 26 columns]"
      ]
     },
     "execution_count": 4,
     "metadata": {},
     "output_type": "execute_result"
    }
   ],
   "source": [
    "mb.set_start_index(df, 'Start_Timestamp')\n",
    "df.head()"
   ]
  },
  {
   "cell_type": "markdown",
   "metadata": {
    "pycharm": {
     "name": "#%% md\n"
    }
   },
   "source": [
    "# Linear Regression \n",
    "\n",
    "\n",
    "Linear regression is a statistical method used to model the relationship between a dependent variable and one or more independent variables by fitting a linear equation to observed data. When applied to time series data, linear regression can help analyze and forecast trends over time."
   ]
  },
  {
   "cell_type": "code",
   "execution_count": 5,
   "metadata": {
    "pycharm": {
     "name": "#%%\n"
    }
   },
   "outputs": [],
   "source": [
    "# Defining Target and feature variables\n",
    "X,y = mb.define_target_features(df)"
   ]
  },
  {
   "cell_type": "markdown",
   "metadata": {
    "pycharm": {
     "name": "#%% md\n"
    }
   },
   "source": [
    "## Splitting Data \n",
    "\n",
    "Train, Validation and Test data"
   ]
  },
  {
   "cell_type": "code",
   "execution_count": 6,
   "metadata": {
    "pycharm": {
     "name": "#%%\n"
    }
   },
   "outputs": [
    {
     "name": "stdout",
     "output_type": "stream",
     "text": [
      "Training set size: 52588\n",
      "Validation set size: 17529\n",
      "Test set size: 17531\n"
     ]
    }
   ],
   "source": [
    "train_data, validation_data, test_data = mb.split_data(df)"
   ]
  },
  {
   "cell_type": "code",
   "execution_count": 7,
   "metadata": {
    "pycharm": {
     "name": "#%%\n"
    }
   },
   "outputs": [],
   "source": [
    "# Scale the features\n",
    "X_train_scaled, X_val_scaled, X_test_scaled = lr.scale_features(train_data, validation_data, test_data)"
   ]
  },
  {
   "cell_type": "markdown",
   "metadata": {
    "pycharm": {
     "name": "#%% md\n"
    }
   },
   "source": [
    "## Principle Component Analysis (PCA)\n",
    "Principal Component Analysis (PCA) is a statistical procedure that uses an orthogonal transformation to convert a set of observations of possibly correlated variables into a set of values of linearly uncorrelated variables called principal components."
   ]
  },
  {
   "cell_type": "code",
   "execution_count": 8,
   "metadata": {
    "pycharm": {
     "name": "#%%\n"
    }
   },
   "outputs": [
    {
     "data": {
      "text/plain": [
       "PCA(n_components=0.95)"
      ]
     },
     "execution_count": 8,
     "metadata": {},
     "output_type": "execute_result"
    }
   ],
   "source": [
    "# Apply PCA on the scaled data\n",
    "pca = mb.init_pca()\n",
    "pca.fit(X_train_scaled) "
   ]
  },
  {
   "cell_type": "code",
   "execution_count": 9,
   "metadata": {
    "pycharm": {
     "name": "#%%\n"
    }
   },
   "outputs": [],
   "source": [
    "# Transform the datasets using the fitted PCA\n",
    "X_train_pca = pca.transform(X_train_scaled)\n",
    "X_val_pca = pca.transform(X_val_scaled)\n",
    "X_test_pca = pca.transform(X_test_scaled)"
   ]
  },
  {
   "cell_type": "code",
   "execution_count": 10,
   "metadata": {
    "pycharm": {
     "name": "#%%\n"
    }
   },
   "outputs": [],
   "source": [
    "# Extract the target variable\n",
    "y_train, y_val, y_test = mb.extract_target(train_data, validation_data, test_data)"
   ]
  },
  {
   "cell_type": "markdown",
   "metadata": {
    "pycharm": {
     "name": "#%% md\n"
    }
   },
   "source": [
    "## Model Creation\n",
    "* Initialize Linear Regression Model\n",
    "* Train model"
   ]
  },
  {
   "cell_type": "code",
   "execution_count": 11,
   "metadata": {
    "pycharm": {
     "name": "#%%\n"
    }
   },
   "outputs": [
    {
     "data": {
      "text/plain": [
       "LinearRegression()"
      ]
     },
     "execution_count": 11,
     "metadata": {},
     "output_type": "execute_result"
    }
   ],
   "source": [
    "# Initialize and train the linear regression model\n",
    "model = lr.init_linear_model()\n",
    "model.fit(X_train_pca, y_train)"
   ]
  },
  {
   "cell_type": "markdown",
   "metadata": {
    "pycharm": {
     "name": "#%% md\n"
    }
   },
   "source": [
    "# Evaluation \n",
    "\n",
    "## With Validation Data\n",
    "\n",
    "Error metrics MAE, MSE, RMSE, MASE, MAPE\n",
    "\n",
    "* Regarding the MASE metric, calculating it requires a baseline prediction model for the time series, which is typically done by using the last observed value to predict the next (in the simplest case) or using more complex methods like ARIMA for one-step ahead forecasting. This is not included in the above script as it would require additional steps to implement the naive forecasting method for a time series."
   ]
  },
  {
   "cell_type": "markdown",
   "metadata": {
    "pycharm": {
     "name": "#%% md\n"
    }
   },
   "source": [
    "### Predict Validation\n"
   ]
  },
  {
   "cell_type": "code",
   "execution_count": 12,
   "metadata": {
    "pycharm": {
     "name": "#%%\n"
    }
   },
   "outputs": [
    {
     "name": "stdout",
     "output_type": "stream",
     "text": [
      "[10.65613175  9.00218368  8.49414407 ...  9.74688202 10.15845453\n",
      " 10.05854868]\n"
     ]
    }
   ],
   "source": [
    "# Make predictions on the validation set\n",
    "y_val_pred = model.predict(X_val_pca)\n",
    "\n",
    "print(y_val_pred)\n"
   ]
  },
  {
   "cell_type": "code",
   "execution_count": 13,
   "metadata": {
    "pycharm": {
     "name": "#%%\n"
    }
   },
   "outputs": [
    {
     "name": "stdout",
     "output_type": "stream",
     "text": [
      "MAE: 2.2927\n",
      "MSE: 12.6822\n",
      "RMSE: 3.5612\n",
      "MAPE: 0.3426\n",
      "MASE: 2.2119725489718594\n"
     ]
    },
    {
     "data": {
      "text/plain": [
       "2.2119725489718594"
      ]
     },
     "execution_count": 13,
     "metadata": {},
     "output_type": "execute_result"
    }
   ],
   "source": [
    "# Error Metric\n",
    "mb.evolve_error_metrics(y_val,y_val_pred)\n",
    "mb.naive_mean_absolute_scaled_error(y_val,y_val_pred)"
   ]
  },
  {
   "cell_type": "markdown",
   "metadata": {
    "pycharm": {
     "name": "#%% md\n"
    }
   },
   "source": [
    "## With Test Data\n"
   ]
  },
  {
   "cell_type": "code",
   "execution_count": 14,
   "metadata": {
    "pycharm": {
     "name": "#%%\n"
    }
   },
   "outputs": [
    {
     "name": "stdout",
     "output_type": "stream",
     "text": [
      "MAE: 2.3551\n",
      "MSE: 10.8163\n",
      "RMSE: 3.2888\n",
      "MAPE: 0.3231\n",
      "MASE: 2.1803572595098566\n"
     ]
    },
    {
     "data": {
      "text/plain": [
       "2.1803572595098566"
      ]
     },
     "execution_count": 14,
     "metadata": {},
     "output_type": "execute_result"
    }
   ],
   "source": [
    "# Predict on the test set\n",
    "y_test_pred = model.predict(X_test_pca)\n",
    "\n",
    "# Error Metric\n",
    "mb.evolve_error_metrics(y_test,y_test_pred)\n",
    "mb.naive_mean_absolute_scaled_error(y_test,y_test_pred)"
   ]
  },
  {
   "cell_type": "markdown",
   "metadata": {
    "pycharm": {
     "name": "#%% md\n"
    }
   },
   "source": [
    "## Plot Table \n"
   ]
  },
  {
   "cell_type": "code",
   "execution_count": 15,
   "metadata": {
    "pycharm": {
     "name": "#%%\n"
    }
   },
   "outputs": [
    {
     "data": {
      "image/png": "[encoded data removed]",
      "text/plain": [
       "<Figure size 1080x360 with 1 Axes>"
      ]
     },
     "metadata": {
      "needs_background": "light"
     },
     "output_type": "display_data"
    },
    {
     "data": {
      "image/png": "[encoded data removed]",
      "text/plain": [
       "<Figure size 1080x360 with 1 Axes>"
      ]
     },
     "metadata": {
      "needs_background": "light"
     },
     "output_type": "display_data"
    }
   ],
   "source": [
    "mb.plot_pm_true_predict(validation_data, y_val_pred, 'Validation')\n",
    "mb.plot_pm_true_predict(test_data, y_test_pred, 'Test')"
   ]
  },
  {
   "cell_type": "markdown",
   "metadata": {
    "pycharm": {
     "name": "#%% md\n"
    }
   },
   "source": [
    "# HyperPramater Tuning\n",
    "\n",
    "Linear Regression typically has fewer hyperparameters than other models like neural networks or ensemble models. However, there are still some aspects of the model that you can adjust. For instance, you can apply regularization, which can be considered a form of hyperparameter tuning. The most common types of regularized linear regression are Ridge Regression (L2 regularization) and Lasso Regression (L1 regularization)."
   ]
  },
  {
   "cell_type": "markdown",
   "metadata": {
    "pycharm": {
     "name": "#%% md\n"
    }
   },
   "source": [
    "## Ridge Regression (L2)\n",
    "Ridge regression, also known as Tikhonov regularization, is a method of estimating the coefficients of multiple-regression models in scenarios where linearly independent variables are highly correlated. In multicollinear data, least-squares estimates are unbiased, but their variances are large, so they may be far from the true value. Ridge regression adds a degree of bias to the regression estimates, which often results in a decrease in the standard errors.\n",
    "\n",
    "* RandomizedSearchCV is a useful alternative to GridSearchCV when the parameter space is large. It samples a fixed number of parameter combinations from the specified distributions, which can be much more efficient, especially when some hyperparameters do not influence the performance of the model significantly.\n",
    "\n",
    "\n",
    "### Model Creation"
   ]
  },
  {
   "cell_type": "code",
   "execution_count": null,
   "outputs": [],
   "source": [
    "# Define the model\n",
    "ridge_random_search = lr.init_ridge_model_with_random()\n"
   ],
   "metadata": {
    "collapsed": false,
    "pycharm": {
     "name": "#%%\n"
    }
   }
  },
  {
   "cell_type": "markdown",
   "source": [
    "### Model Train"
   ],
   "metadata": {
    "collapsed": false,
    "pycharm": {
     "name": "#%% md\n"
    }
   }
  },
  {
   "cell_type": "code",
   "execution_count": null,
   "outputs": [],
   "source": [
    "# Fit the random search to the data (use the PCA-transformed data)\n",
    "ridge_random_search.fit(X_train_pca, y_train)\n",
    "\n",
    "# Print the best parameters\n",
    "print('Best parameters found: ', ridge_random_search.best_params_)"
   ],
   "metadata": {
    "collapsed": false,
    "pycharm": {
     "name": "#%%\n"
    }
   }
  },
  {
   "cell_type": "code",
   "execution_count": null,
   "outputs": [],
   "source": [
    "# Use the best estimator to make predictions\n",
    "y_val_pred = ridge_random_search.best_estimator_.predict(X_val_pca)\n",
    "y_test_pred = ridge_random_search.best_estimator_.predict(X_test_pca)"
   ],
   "metadata": {
    "collapsed": false,
    "pycharm": {
     "name": "#%%\n"
    }
   }
  },
  {
   "cell_type": "code",
   "execution_count": null,
   "outputs": [],
   "source": [
    "# Validation Set\n",
    "\n",
    "# Error Metric\n",
    "mb.evolve_error_metrics(y_val,y_val_pred)\n",
    "mb.naive_mean_absolute_scaled_error(y_val,y_val_pred)"
   ],
   "metadata": {
    "collapsed": false,
    "pycharm": {
     "name": "#%%\n"
    }
   }
  },
  {
   "cell_type": "code",
   "execution_count": null,
   "outputs": [],
   "source": [
    "# Test Set\n",
    "\n",
    "# Error Metric\n",
    "mb.evolve_error_metrics(y_test,y_test_pred)\n",
    "mb.naive_mean_absolute_scaled_error(y_test,y_test_pred)\n"
   ],
   "metadata": {
    "collapsed": false,
    "pycharm": {
     "name": "#%%\n"
    }
   }
  },
  {
   "cell_type": "code",
   "execution_count": null,
   "outputs": [],
   "source": [
    "mb.plot_pm_true_predict(validation_data, y_val_pred, 'Validation')\n",
    "mb.plot_pm_true_predict(test_data, y_test_pred, 'Test')"
   ],
   "metadata": {
    "collapsed": false,
    "pycharm": {
     "name": "#%%\n"
    }
   }
  },
  {
   "cell_type": "markdown",
   "source": [
    "## Lasso Regression (L1)\n",
    "\n",
    "Lasso regression, which stands for Least Absolute Shrinkage and Selection Operator, is a type of linear regression that uses shrinkage. Shrinkage is where data values are shrunk towards a central point, like the mean. The lasso procedure encourages simple, sparse models (i.e., models with fewer parameters). This is particularly useful when you have a large number of predictors because it automatically performs variable selection.\n",
    "\n",
    "The key difference between ridge regression and lasso regression lies in the penalty term added to the cost function. While ridge regression adds a squared magnitude of the coefficient as a penalty term to the cost function, lasso regression adds the absolute value of the magnitude of the coefficient as the penalty term.\n",
    "\n",
    "The advantages of lasso regression include:\n",
    "\n",
    "* It can produce simpler and more interpretable models due to feature selection.\n",
    "* It is less prone to overfitting as it penalizes the absolute size of the coefficients.\n",
    "* It can handle complex scenarios with many variables or features in the dataset.\n",
    "\n",
    "However, lasso regression can also have disadvantages, such as biasing estimates towards zero and sometimes underperforming when all variables are included in the true model. It can also struggle with grouped variables, where it tends to select only one variable from a group and ignore the others.\n",
    "\n",
    "### Model Creation\n"
   ],
   "metadata": {
    "collapsed": false,
    "pycharm": {
     "name": "#%% md\n"
    }
   }
  },
  {
   "cell_type": "code",
   "execution_count": null,
   "outputs": [],
   "source": [
    "# Define the model\n",
    "lasso_rando_search= lr.init_lasso_model_with_random()"
   ],
   "metadata": {
    "collapsed": false,
    "pycharm": {
     "name": "#%%\n"
    }
   }
  },
  {
   "cell_type": "markdown",
   "source": [
    "### Model Training"
   ],
   "metadata": {
    "collapsed": false,
    "pycharm": {
     "name": "#%% md\n"
    }
   }
  },
  {
   "cell_type": "code",
   "execution_count": null,
   "outputs": [],
   "source": [
    "# Fit the random search to the data (use the PCA-transformed data)\n",
    "lasso_rando_search.fit(X_train_pca, y_train)\n",
    "\n",
    "# Print the best parameters\n",
    "print('Best parameters found: ', lasso_rando_search.best_params_)\n",
    "\n",
    "# Use the best estimator to make predictions\n",
    "y_val_pred = lasso_rando_search.best_estimator_.predict(X_val_pca)\n",
    "y_test_pred = lasso_rando_search.best_estimator_.predict(X_test_pca)\n"
   ],
   "metadata": {
    "collapsed": false,
    "pycharm": {
     "name": "#%%\n"
    }
   }
  },
  {
   "cell_type": "code",
   "execution_count": null,
   "outputs": [],
   "source": [
    "# Validation Set\n",
    "\n",
    "# Error Metric\n",
    "mb.evolve_error_metrics(y_val,y_val_pred)\n",
    "mb.naive_mean_absolute_scaled_error(y_val,y_val_pred)"
   ],
   "metadata": {
    "collapsed": false,
    "pycharm": {
     "name": "#%%\n"
    }
   }
  },
  {
   "cell_type": "code",
   "execution_count": null,
   "outputs": [],
   "source": [
    "# Test Set\n",
    "\n",
    "# Error Metric\n",
    "mb.evolve_error_metrics(y_test,y_test_pred)\n",
    "mb.naive_mean_absolute_scaled_error(y_test,y_test_pred)\n"
   ],
   "metadata": {
    "collapsed": false,
    "pycharm": {
     "name": "#%%\n"
    }
   }
  },
  {
   "cell_type": "code",
   "execution_count": null,
   "outputs": [],
   "source": [
    "mb.plot_pm_true_predict(validation_data, y_val_pred, 'Validation')\n",
    "mb.plot_pm_true_predict(test_data, y_test_pred, 'Test')"
   ],
   "metadata": {
    "collapsed": false,
    "pycharm": {
     "name": "#%%\n"
    }
   }
  },
  {
   "cell_type": "markdown",
   "source": [
    "# Result :\n",
    "\n",
    "Linear Regression showed best MASE result.\n",
    "NOTE: COmpaire with other metrics"
   ],
   "metadata": {
    "collapsed": false,
    "pycharm": {
     "name": "#%% md\n"
    }
   }
  },
  {
   "cell_type": "code",
   "execution_count": null,
   "outputs": [],
   "source": [],
   "metadata": {
    "collapsed": false,
    "pycharm": {
     "name": "#%%\n"
    }
   }
  },
  {
   "cell_type": "code",
   "execution_count": null,
   "metadata": {},
   "outputs": [],
   "source": []
  }
 ],
 "metadata": {
  "kernelspec": {
   "display_name": "Python 3 (ipykernel)",
   "language": "python",
   "name": "python3"
  },
  "language_info": {
   "codemirror_mode": {
    "name": "ipython",
    "version": 3
   },
   "file_extension": ".py",
   "mimetype": "text/x-python",
   "name": "python",
   "nbconvert_exporter": "python",
   "pygments_lexer": "ipython3",
   "version": "3.9.7"
  }
 },
 "nbformat": 4,
 "nbformat_minor": 4
}