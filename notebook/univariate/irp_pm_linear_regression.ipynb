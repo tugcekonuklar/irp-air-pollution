{
 "cells": [
  {
   "cell_type": "markdown",
   "metadata": {
    "collapsed": true,
    "jupyter": {
     "outputs_hidden": true
    },
    "pycharm": {
     "name": "#%%\n"
    }
   },
   "source": [
    "# Postdam PM2.5 Linear Regression Forcasting \n",
    "\n",
    "* With Ridge And Lasso Regression Models\n",
    "* Between 2013 and 2023, data collected by DEBB021 was used.\n",
    "* To increase the accuracy of PM2.5 data estimation, NO2, O3, SO2, PM10 pollutant gas data accepted by the EEA was added.\n"
   ]
  },
  {
   "cell_type": "markdown",
   "source": [
    "# TODO:\n",
    "* decompose data maybe? But my data does not have trends etc.???\n",
    "* Set index as Start_timestamp\n",
    "* Feature Engineering ?!?!?! PCA ?!?!?! \n",
    "* Separate train/val/test data 60-20-20, explain why?\n",
    "* Create Model\n",
    "* Train model\n",
    "* Evaluate with metrics\n",
    "* Test\n",
    "* Predict\n",
    "* Plot Visualise\n",
    "\n",
    "* Add Ringe and Lasso Alg\n",
    "* Evaluate them\n",
    "* HyperParamater Tune them\n",
    "\n",
    "\n",
    "\n",
    "**Decomposition:** ?!?!?!? ()\n",
    "Decompose the time series into trend, seasonal, and residual components. You could model the trend (which may be non-linear) separately and use linear regression to model the residuals or seasonal variations."
   ],
   "metadata": {
    "collapsed": false,
    "pycharm": {
     "name": "#%% md\n"
    }
   }
  },
  {
   "cell_type": "code",
   "execution_count": null,
   "outputs": [],
   "source": [
    "# imports\n",
    "import os\n",
    "import pandas as pd\n",
    "#os.chdir('..')\n",
    "import matplotlib.pyplot as plt\n",
    "import numpy as np, pandas as pd\n",
    "from src.linear_regression import decompose_time_series"
   ],
   "metadata": {
    "collapsed": false,
    "pycharm": {
     "name": "#%%\n"
    }
   }
  },
  {
   "cell_type": "markdown",
   "source": [
    "## Data Exploration\n",
    "\n",
    "* Load Data\n"
   ],
   "metadata": {
    "collapsed": false,
    "pycharm": {
     "name": "#%% md\n"
    }
   }
  },
  {
   "cell_type": "code",
   "execution_count": null,
   "outputs": [],
   "source": [
    "df_clean = pd.read_csv('../../data/CLEAN_MERGED_DE_DEBB021.csv')\n",
    "df_clean.head()"
   ],
   "metadata": {
    "collapsed": false,
    "pycharm": {
     "name": "#%%\n"
    }
   }
  },
  {
   "cell_type": "code",
   "execution_count": null,
   "outputs": [],
   "source": [
    "df.describe().transpose()"
   ],
   "metadata": {
    "collapsed": false,
    "pycharm": {
     "name": "#%%\n"
    }
   }
  },
  {
   "cell_type": "code",
   "execution_count": null,
   "outputs": [],
   "source": [
    "\n",
    "\n",
    "\n",
    "\n",
    "\n"
   ],
   "metadata": {
    "collapsed": false,
    "pycharm": {
     "name": "#%%\n"
    }
   }
  }
 ],
 "metadata": {
  "kernelspec": {
   "display_name": "Python 3 (ipykernel)",
   "language": "python",
   "name": "python3"
  },
  "language_info": {
   "codemirror_mode": {
    "name": "ipython",
    "version": 3
   },
   "file_extension": ".py",
   "mimetype": "text/x-python",
   "name": "python",
   "nbconvert_exporter": "python",
   "pygments_lexer": "ipython3",
   "version": "3.8.9"
  }
 },
 "nbformat": 4,
 "nbformat_minor": 4
}