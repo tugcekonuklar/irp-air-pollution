{
 "cells": [
  {
   "cell_type": "markdown",
   "metadata": {
    "pycharm": {
     "name": "#%%\n"
    }
   },
   "source": [
    "# Postdam PM2.5 Support Vector Regression (SVR) Forcasting \n",
    "\n",
    "* Between 2013 and 2023, data collected by DEBB021 was used.\n",
    "* To increase the accuracy of PM2.5 data estimation, NO2, O3, SO2, PM10 pollutant gas data accepted by the EEA was added.\n"
   ]
  },
  {
   "cell_type": "code",
   "execution_count": 1,
   "metadata": {
    "pycharm": {
     "name": "#%%\n"
    }
   },
   "outputs": [],
   "source": [
    "# imports\n",
    "import sys\n",
    "import os\n",
    "sys.path.append(os.path.dirname(os.getcwd()))\n",
    "import pandas as pd\n",
    "import matplotlib.pyplot as plt\n",
    "import numpy as np, pandas as pd"
   ]
  },
  {
   "cell_type": "code",
   "execution_count": 2,
   "metadata": {
    "pycharm": {
     "name": "#%%\n"
    }
   },
   "outputs": [],
   "source": [
    "# import src\n",
    "import model_base as mb\n",
    "import svr as svr"
   ]
  },
  {
   "cell_type": "markdown",
   "metadata": {
    "pycharm": {
     "name": "#%% md\n"
    }
   },
   "source": [
    "## Data Exploration\n",
    "\n",
    "* Load Data\n"
   ]
  },
  {
   "cell_type": "code",
   "execution_count": 3,
   "metadata": {
    "pycharm": {
     "name": "#%%\n"
    }
   },
   "outputs": [],
   "source": [
    "df= mb.get_cleaned_datetime_df()"
   ]
  },
  {
   "cell_type": "code",
   "execution_count": 4,
   "metadata": {
    "pycharm": {
     "name": "#%%\n"
    }
   },
   "outputs": [
    {
     "data": {
      "text/html": [
       "<div>\n",
       "<style scoped>\n",
       "    .dataframe tbody tr th:only-of-type {\n",
       "        vertical-align: middle;\n",
       "    }\n",
       "\n",
       "    .dataframe tbody tr th {\n",
       "        vertical-align: top;\n",
       "    }\n",
       "\n",
       "    .dataframe thead th {\n",
       "        text-align: right;\n",
       "    }\n",
       "</style>\n",
       "<table border=\"1\" class=\"dataframe\">\n",
       "  <thead>\n",
       "    <tr style=\"text-align: right;\">\n",
       "      <th></th>\n",
       "      <th>Start_Timestamp</th>\n",
       "      <th>End_Timestamp</th>\n",
       "      <th>End</th>\n",
       "      <th>PM2.5-Pollutant</th>\n",
       "      <th>PM2.5-Value</th>\n",
       "      <th>PM2.5-Unit</th>\n",
       "      <th>PM2.5-Validity</th>\n",
       "      <th>PM2.5-Verification</th>\n",
       "      <th>PM10-Pollutant</th>\n",
       "      <th>PM10-Value</th>\n",
       "      <th>...</th>\n",
       "      <th>O3-Pollutant</th>\n",
       "      <th>O3-Value</th>\n",
       "      <th>O3-Unit</th>\n",
       "      <th>O3-Validity</th>\n",
       "      <th>O3-Verification</th>\n",
       "      <th>SO2-Pollutant</th>\n",
       "      <th>SO2-Value</th>\n",
       "      <th>SO2-Unit</th>\n",
       "      <th>SO2-Validity</th>\n",
       "      <th>SO2-Verification</th>\n",
       "    </tr>\n",
       "    <tr>\n",
       "      <th>Start</th>\n",
       "      <th></th>\n",
       "      <th></th>\n",
       "      <th></th>\n",
       "      <th></th>\n",
       "      <th></th>\n",
       "      <th></th>\n",
       "      <th></th>\n",
       "      <th></th>\n",
       "      <th></th>\n",
       "      <th></th>\n",
       "      <th></th>\n",
       "      <th></th>\n",
       "      <th></th>\n",
       "      <th></th>\n",
       "      <th></th>\n",
       "      <th></th>\n",
       "      <th></th>\n",
       "      <th></th>\n",
       "      <th></th>\n",
       "      <th></th>\n",
       "      <th></th>\n",
       "    </tr>\n",
       "  </thead>\n",
       "  <tbody>\n",
       "    <tr>\n",
       "      <th>2013-01-01 00:00:00</th>\n",
       "      <td>1356998400</td>\n",
       "      <td>1357002000</td>\n",
       "      <td>2013-01-01 01:00:00</td>\n",
       "      <td>6001</td>\n",
       "      <td>71.04</td>\n",
       "      <td>ug.m-3</td>\n",
       "      <td>1</td>\n",
       "      <td>1</td>\n",
       "      <td>5</td>\n",
       "      <td>88.96</td>\n",
       "      <td>...</td>\n",
       "      <td>7</td>\n",
       "      <td>43.17</td>\n",
       "      <td>ug.m-3</td>\n",
       "      <td>1</td>\n",
       "      <td>1</td>\n",
       "      <td>1</td>\n",
       "      <td>12.18</td>\n",
       "      <td>ug.m-3</td>\n",
       "      <td>1</td>\n",
       "      <td>1</td>\n",
       "    </tr>\n",
       "    <tr>\n",
       "      <th>2013-01-01 01:00:00</th>\n",
       "      <td>1357002000</td>\n",
       "      <td>1357005600</td>\n",
       "      <td>2013-01-01 02:00:00</td>\n",
       "      <td>6001</td>\n",
       "      <td>20.52</td>\n",
       "      <td>ug.m-3</td>\n",
       "      <td>1</td>\n",
       "      <td>1</td>\n",
       "      <td>5</td>\n",
       "      <td>25.17</td>\n",
       "      <td>...</td>\n",
       "      <td>7</td>\n",
       "      <td>57.15</td>\n",
       "      <td>ug.m-3</td>\n",
       "      <td>1</td>\n",
       "      <td>1</td>\n",
       "      <td>1</td>\n",
       "      <td>4.65</td>\n",
       "      <td>ug.m-3</td>\n",
       "      <td>1</td>\n",
       "      <td>1</td>\n",
       "    </tr>\n",
       "    <tr>\n",
       "      <th>2013-01-01 02:00:00</th>\n",
       "      <td>1357005600</td>\n",
       "      <td>1357009200</td>\n",
       "      <td>2013-01-01 03:00:00</td>\n",
       "      <td>6001</td>\n",
       "      <td>9.56</td>\n",
       "      <td>ug.m-3</td>\n",
       "      <td>1</td>\n",
       "      <td>1</td>\n",
       "      <td>5</td>\n",
       "      <td>11.97</td>\n",
       "      <td>...</td>\n",
       "      <td>7</td>\n",
       "      <td>63.31</td>\n",
       "      <td>ug.m-3</td>\n",
       "      <td>1</td>\n",
       "      <td>1</td>\n",
       "      <td>1</td>\n",
       "      <td>1.33</td>\n",
       "      <td>ug.m-3</td>\n",
       "      <td>1</td>\n",
       "      <td>1</td>\n",
       "    </tr>\n",
       "    <tr>\n",
       "      <th>2013-01-01 03:00:00</th>\n",
       "      <td>1357009200</td>\n",
       "      <td>1357012800</td>\n",
       "      <td>2013-01-01 04:00:00</td>\n",
       "      <td>6001</td>\n",
       "      <td>9.45</td>\n",
       "      <td>ug.m-3</td>\n",
       "      <td>1</td>\n",
       "      <td>1</td>\n",
       "      <td>5</td>\n",
       "      <td>11.73</td>\n",
       "      <td>...</td>\n",
       "      <td>7</td>\n",
       "      <td>63.18</td>\n",
       "      <td>ug.m-3</td>\n",
       "      <td>1</td>\n",
       "      <td>1</td>\n",
       "      <td>1</td>\n",
       "      <td>1.33</td>\n",
       "      <td>ug.m-3</td>\n",
       "      <td>1</td>\n",
       "      <td>1</td>\n",
       "    </tr>\n",
       "    <tr>\n",
       "      <th>2013-01-01 04:00:00</th>\n",
       "      <td>1357012800</td>\n",
       "      <td>1357016400</td>\n",
       "      <td>2013-01-01 05:00:00</td>\n",
       "      <td>6001</td>\n",
       "      <td>13.02</td>\n",
       "      <td>ug.m-3</td>\n",
       "      <td>1</td>\n",
       "      <td>1</td>\n",
       "      <td>5</td>\n",
       "      <td>15.88</td>\n",
       "      <td>...</td>\n",
       "      <td>7</td>\n",
       "      <td>61.70</td>\n",
       "      <td>ug.m-3</td>\n",
       "      <td>1</td>\n",
       "      <td>1</td>\n",
       "      <td>1</td>\n",
       "      <td>1.33</td>\n",
       "      <td>ug.m-3</td>\n",
       "      <td>1</td>\n",
       "      <td>1</td>\n",
       "    </tr>\n",
       "  </tbody>\n",
       "</table>\n",
       "<p>5 rows × 28 columns</p>\n",
       "</div>"
      ],
      "text/plain": [
       "                     Start_Timestamp  End_Timestamp                  End  \\\n",
       "Start                                                                      \n",
       "2013-01-01 00:00:00       1356998400     1357002000  2013-01-01 01:00:00   \n",
       "2013-01-01 01:00:00       1357002000     1357005600  2013-01-01 02:00:00   \n",
       "2013-01-01 02:00:00       1357005600     1357009200  2013-01-01 03:00:00   \n",
       "2013-01-01 03:00:00       1357009200     1357012800  2013-01-01 04:00:00   \n",
       "2013-01-01 04:00:00       1357012800     1357016400  2013-01-01 05:00:00   \n",
       "\n",
       "                     PM2.5-Pollutant  PM2.5-Value PM2.5-Unit  PM2.5-Validity  \\\n",
       "Start                                                                          \n",
       "2013-01-01 00:00:00             6001        71.04     ug.m-3               1   \n",
       "2013-01-01 01:00:00             6001        20.52     ug.m-3               1   \n",
       "2013-01-01 02:00:00             6001         9.56     ug.m-3               1   \n",
       "2013-01-01 03:00:00             6001         9.45     ug.m-3               1   \n",
       "2013-01-01 04:00:00             6001        13.02     ug.m-3               1   \n",
       "\n",
       "                     PM2.5-Verification  PM10-Pollutant  PM10-Value  ...  \\\n",
       "Start                                                                ...   \n",
       "2013-01-01 00:00:00                   1               5       88.96  ...   \n",
       "2013-01-01 01:00:00                   1               5       25.17  ...   \n",
       "2013-01-01 02:00:00                   1               5       11.97  ...   \n",
       "2013-01-01 03:00:00                   1               5       11.73  ...   \n",
       "2013-01-01 04:00:00                   1               5       15.88  ...   \n",
       "\n",
       "                    O3-Pollutant  O3-Value  O3-Unit  O3-Validity  \\\n",
       "Start                                                              \n",
       "2013-01-01 00:00:00            7     43.17   ug.m-3            1   \n",
       "2013-01-01 01:00:00            7     57.15   ug.m-3            1   \n",
       "2013-01-01 02:00:00            7     63.31   ug.m-3            1   \n",
       "2013-01-01 03:00:00            7     63.18   ug.m-3            1   \n",
       "2013-01-01 04:00:00            7     61.70   ug.m-3            1   \n",
       "\n",
       "                     O3-Verification SO2-Pollutant  SO2-Value  SO2-Unit  \\\n",
       "Start                                                                     \n",
       "2013-01-01 00:00:00                1             1      12.18    ug.m-3   \n",
       "2013-01-01 01:00:00                1             1       4.65    ug.m-3   \n",
       "2013-01-01 02:00:00                1             1       1.33    ug.m-3   \n",
       "2013-01-01 03:00:00                1             1       1.33    ug.m-3   \n",
       "2013-01-01 04:00:00                1             1       1.33    ug.m-3   \n",
       "\n",
       "                     SO2-Validity  SO2-Verification  \n",
       "Start                                                \n",
       "2013-01-01 00:00:00             1                 1  \n",
       "2013-01-01 01:00:00             1                 1  \n",
       "2013-01-01 02:00:00             1                 1  \n",
       "2013-01-01 03:00:00             1                 1  \n",
       "2013-01-01 04:00:00             1                 1  \n",
       "\n",
       "[5 rows x 28 columns]"
      ]
     },
     "execution_count": 4,
     "metadata": {},
     "output_type": "execute_result"
    }
   ],
   "source": [
    "mb.set_start_date_time_index(df)\n",
    "df.head()"
   ]
  },
  {
   "cell_type": "markdown",
   "metadata": {
    "pycharm": {
     "name": "#%% md\n"
    }
   },
   "source": [
    "# Support Vector Regression (SVR) \n",
    "\n",
    "\n",
    "\n",
    "Support Vector Regression (SVR) is an application of the Support Vector Machine (SVM) algorithm for regression problems. SVM is a supervised learning algorithm commonly used for classification tasks, but it can also be adapted for regression, resulting in the SVR model. SVR attempts to find the best fit line (in a higher-dimensional space) that has the maximum number of points within a certain threshold distance from the line. The main idea is to minimize error, individualizing the hyperplane that maximizes the margin.\n",
    "\n",
    "In SVR:\n",
    "\n",
    "* The goal is to find a function that has at most an epsilon deviation from the actually obtained targets y for all the training data, and at the same time is as flat as possible.\n",
    "* SVR uses the same principles as SVM for classification, with only a few minor differences. First, because output is a real number it becomes very hard to predict the information at hand, which has infinite possibilities. In the case of regression, a margin of tolerance (epsilon) is set in approximation to the SVM."
   ]
  },
  {
   "cell_type": "markdown",
   "metadata": {
    "pycharm": {
     "name": "#%% md\n"
    }
   },
   "source": [
    "## Splitting Data \n",
    "\n",
    "Train, Validation and Test data"
   ]
  },
  {
   "cell_type": "code",
   "execution_count": 5,
   "metadata": {
    "pycharm": {
     "name": "#%%\n"
    }
   },
   "outputs": [
    {
     "name": "stdout",
     "output_type": "stream",
     "text": [
      "Training set size: 52588\n",
      "Validation set size: 17529\n",
      "Test set size: 17531\n"
     ]
    }
   ],
   "source": [
    "train_data, validation_data, test_data = mb.split_data(df)"
   ]
  },
  {
   "cell_type": "code",
   "execution_count": 6,
   "metadata": {
    "pycharm": {
     "name": "#%%\n"
    }
   },
   "outputs": [],
   "source": [
    "# Extract the features\n",
    "X_train, X_val, X_test = mb.extract_features(train_data, validation_data, test_data)\n",
    "# Extract the target variable\n",
    "y_train, y_val, y_test = mb.extract_target(train_data, validation_data, test_data)"
   ]
  },
  {
   "cell_type": "markdown",
   "metadata": {
    "pycharm": {
     "name": "#%% md\n"
    }
   },
   "source": [
    "## Principle Component Analysis (PCA)\n",
    "Principal Component Analysis (PCA) is a statistical procedure that uses an orthogonal transformation to convert a set of observations of possibly correlated variables into a set of values of linearly uncorrelated variables called principal components.\n",
    "\n",
    "The scaling step is important because PCA is sensitive to the variances of the initial variables. Therefore, scaling features before applying PCA ensures that each feature contributes equally to the analysis."
   ]
  },
  {
   "cell_type": "markdown",
   "metadata": {
    "pycharm": {
     "name": "#%% md\n"
    }
   },
   "source": [
    "## Model Creation\n",
    "* Initialize Linear Regression Model\n",
    "* Train model"
   ]
  },
  {
   "cell_type": "code",
   "execution_count": 7,
   "metadata": {
    "pycharm": {
     "name": "#%%\n"
    }
   },
   "outputs": [],
   "source": [
    "# Initialize and train the linear regression model\n",
    "# pipeline = svr.init_svr_pipeline()\n",
    "# pipeline.fit(X_train, y_train)"
   ]
  },
  {
   "cell_type": "markdown",
   "metadata": {
    "pycharm": {
     "name": "#%% md\n"
    }
   },
   "source": [
    "# Evaluation \n",
    "\n",
    "## With Validation Data\n",
    "\n",
    "Error metrics MAE, MSE, RMSE, MASE, MAPE\n",
    "\n",
    "* Regarding the MASE metric, calculating it requires a baseline prediction model for the time series, which is typically done by using the last observed value to predict the next (in the simplest case) or using more complex methods like ARIMA for one-step ahead forecasting. This is not included in the above script as it would require additional steps to implement the naive forecasting method for a time series."
   ]
  },
  {
   "cell_type": "markdown",
   "metadata": {
    "pycharm": {
     "name": "#%% md\n"
    }
   },
   "source": [
    "### Predict Validation\n"
   ]
  },
  {
   "cell_type": "code",
   "execution_count": 8,
   "metadata": {
    "pycharm": {
     "name": "#%%\n"
    }
   },
   "outputs": [],
   "source": [
    "# # Make predictions on the validation set\n",
    "# y_val_pred = pipeline.predict(X_val)\n",
    "\n",
    "# print(y_val_pred)\n",
    "\n",
    "# # Error Metric\n",
    "# mb.evolve_error_metrics(y_val,y_val_pred)\n",
    "# mb.naive_mean_absolute_scaled_error(y_val,y_val_pred)"
   ]
  },
  {
   "cell_type": "markdown",
   "metadata": {
    "pycharm": {
     "name": "#%% md\n"
    }
   },
   "source": [
    "## With Test Data\n"
   ]
  },
  {
   "cell_type": "code",
   "execution_count": 9,
   "metadata": {
    "pycharm": {
     "name": "#%%\n"
    }
   },
   "outputs": [],
   "source": [
    "# # Predict on the test set\n",
    "# y_test_pred = pipeline.predict(X_test)\n",
    "\n",
    "# # Error Metric\n",
    "# mb.evolve_error_metrics(y_test,y_test_pred)\n",
    "# mb.naive_mean_absolute_scaled_error(y_test,y_test_pred)"
   ]
  },
  {
   "cell_type": "markdown",
   "metadata": {
    "pycharm": {
     "name": "#%% md\n"
    }
   },
   "source": [
    "## Plot Table \n"
   ]
  },
  {
   "cell_type": "code",
   "execution_count": 10,
   "metadata": {
    "pycharm": {
     "name": "#%%\n"
    }
   },
   "outputs": [],
   "source": [
    "# mb.plot_pm_true_predict(validation_data, y_val_pred, 'Validation')\n",
    "# mb.plot_pm_true_predict(test_data, y_test_pred, 'Test')"
   ]
  },
  {
   "cell_type": "markdown",
   "metadata": {
    "pycharm": {
     "name": "#%% md\n"
    }
   },
   "source": [
    "# HyperPramater Tuning\n",
    "\n",
    "Linear Regression typically has fewer hyperparameters than other models like neural networks or ensemble models. However, there are still some aspects of the model that you can adjust. For instance, you can apply regularization, which can be considered a form of hyperparameter tuning. The most common types of regularized linear regression are Ridge Regression (L2 regularization) and Lasso Regression (L1 regularization)."
   ]
  },
  {
   "cell_type": "code",
   "execution_count": null,
   "metadata": {},
   "outputs": [
    {
     "name": "stdout",
     "output_type": "stream",
     "text": [
      "Training set size: 52588\n",
      "Validation set size: 17529\n",
      "Test set size: 17531\n",
      "Started 2023-11-07 23:48:41\n",
      "Fitted 2023-11-07 23:48:41\n"
     ]
    }
   ],
   "source": [
    "best_svr_estimater_model = svr.tune_and_evaluate_svr(df)"
   ]
  }
 ],
 "metadata": {
  "kernelspec": {
   "display_name": "Python 3 (ipykernel)",
   "language": "python",
   "name": "python3"
  },
  "language_info": {
   "codemirror_mode": {
    "name": "ipython",
    "version": 3
   },
   "file_extension": ".py",
   "mimetype": "text/x-python",
   "name": "python",
   "nbconvert_exporter": "python",
   "pygments_lexer": "ipython3",
   "version": "3.9.7"
  }
 },
 "nbformat": 4,
 "nbformat_minor": 4
}