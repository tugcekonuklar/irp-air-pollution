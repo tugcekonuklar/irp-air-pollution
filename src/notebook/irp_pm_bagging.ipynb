{
 "cells": [
  {
   "cell_type": "markdown",
   "metadata": {
    "pycharm": {
     "name": "#%% md\n"
    }
   },
   "source": [
    "# Postdam PM2.5 {MODEL_BASE} Forcasting \n",
    "\n",
    "* Between 2013 and 2023, data collected by DEBB021 was used.\n",
    "* To increase the accuracy of PM2.5 data estimation, NO2, O3, SO2, PM10 pollutant gas data accepted by the EEA was added.\n"
   ]
  },
  {
   "cell_type": "code",
   "execution_count": 1,
   "metadata": {
    "pycharm": {
     "name": "#%%\n"
    }
   },
   "outputs": [],
   "source": [
    "# imports\n",
    "import sys\n",
    "import os\n",
    "sys.path.append(os.path.dirname(os.getcwd()))\n",
    "import pandas as pd\n",
    "import matplotlib.pyplot as plt\n",
    "import numpy as np, pandas as pd"
   ]
  },
  {
   "cell_type": "code",
   "execution_count": 2,
   "metadata": {
    "pycharm": {
     "name": "#%%\n"
    }
   },
   "outputs": [],
   "source": [
    "# import src\n",
    "import model_base as mb\n",
    "import bagging as bag"
   ]
  },
  {
   "cell_type": "markdown",
   "metadata": {
    "pycharm": {
     "name": "#%% md\n"
    }
   },
   "source": [
    "## Data Exploration\n",
    "\n",
    "* Load Data\n"
   ]
  },
  {
   "cell_type": "code",
   "execution_count": 3,
   "metadata": {
    "pycharm": {
     "name": "#%%\n"
    }
   },
   "outputs": [
    {
     "data": {
      "text/html": [
       "<div>\n",
       "<style scoped>\n",
       "    .dataframe tbody tr th:only-of-type {\n",
       "        vertical-align: middle;\n",
       "    }\n",
       "\n",
       "    .dataframe tbody tr th {\n",
       "        vertical-align: top;\n",
       "    }\n",
       "\n",
       "    .dataframe thead th {\n",
       "        text-align: right;\n",
       "    }\n",
       "</style>\n",
       "<table border=\"1\" class=\"dataframe\">\n",
       "  <thead>\n",
       "    <tr style=\"text-align: right;\">\n",
       "      <th></th>\n",
       "      <th>Start_Timestamp</th>\n",
       "      <th>End_Timestamp</th>\n",
       "      <th>End</th>\n",
       "      <th>PM2.5-Pollutant</th>\n",
       "      <th>PM2.5-Value</th>\n",
       "      <th>PM2.5-Unit</th>\n",
       "      <th>PM2.5-Validity</th>\n",
       "      <th>PM2.5-Verification</th>\n",
       "      <th>PM10-Pollutant</th>\n",
       "      <th>PM10-Value</th>\n",
       "      <th>...</th>\n",
       "      <th>O3-Pollutant</th>\n",
       "      <th>O3-Value</th>\n",
       "      <th>O3-Unit</th>\n",
       "      <th>O3-Validity</th>\n",
       "      <th>O3-Verification</th>\n",
       "      <th>SO2-Pollutant</th>\n",
       "      <th>SO2-Value</th>\n",
       "      <th>SO2-Unit</th>\n",
       "      <th>SO2-Validity</th>\n",
       "      <th>SO2-Verification</th>\n",
       "    </tr>\n",
       "    <tr>\n",
       "      <th>Start</th>\n",
       "      <th></th>\n",
       "      <th></th>\n",
       "      <th></th>\n",
       "      <th></th>\n",
       "      <th></th>\n",
       "      <th></th>\n",
       "      <th></th>\n",
       "      <th></th>\n",
       "      <th></th>\n",
       "      <th></th>\n",
       "      <th></th>\n",
       "      <th></th>\n",
       "      <th></th>\n",
       "      <th></th>\n",
       "      <th></th>\n",
       "      <th></th>\n",
       "      <th></th>\n",
       "      <th></th>\n",
       "      <th></th>\n",
       "      <th></th>\n",
       "      <th></th>\n",
       "    </tr>\n",
       "  </thead>\n",
       "  <tbody>\n",
       "    <tr>\n",
       "      <th>2013-01-01 00:00:00</th>\n",
       "      <td>1356998400</td>\n",
       "      <td>1357002000</td>\n",
       "      <td>2013-01-01 01:00:00</td>\n",
       "      <td>6001</td>\n",
       "      <td>71.04</td>\n",
       "      <td>ug.m-3</td>\n",
       "      <td>1</td>\n",
       "      <td>1</td>\n",
       "      <td>5</td>\n",
       "      <td>88.96</td>\n",
       "      <td>...</td>\n",
       "      <td>7</td>\n",
       "      <td>43.17</td>\n",
       "      <td>ug.m-3</td>\n",
       "      <td>1</td>\n",
       "      <td>1</td>\n",
       "      <td>1</td>\n",
       "      <td>12.18</td>\n",
       "      <td>ug.m-3</td>\n",
       "      <td>1</td>\n",
       "      <td>1</td>\n",
       "    </tr>\n",
       "    <tr>\n",
       "      <th>2013-01-01 01:00:00</th>\n",
       "      <td>1357002000</td>\n",
       "      <td>1357005600</td>\n",
       "      <td>2013-01-01 02:00:00</td>\n",
       "      <td>6001</td>\n",
       "      <td>20.52</td>\n",
       "      <td>ug.m-3</td>\n",
       "      <td>1</td>\n",
       "      <td>1</td>\n",
       "      <td>5</td>\n",
       "      <td>25.17</td>\n",
       "      <td>...</td>\n",
       "      <td>7</td>\n",
       "      <td>57.15</td>\n",
       "      <td>ug.m-3</td>\n",
       "      <td>1</td>\n",
       "      <td>1</td>\n",
       "      <td>1</td>\n",
       "      <td>4.65</td>\n",
       "      <td>ug.m-3</td>\n",
       "      <td>1</td>\n",
       "      <td>1</td>\n",
       "    </tr>\n",
       "    <tr>\n",
       "      <th>2013-01-01 02:00:00</th>\n",
       "      <td>1357005600</td>\n",
       "      <td>1357009200</td>\n",
       "      <td>2013-01-01 03:00:00</td>\n",
       "      <td>6001</td>\n",
       "      <td>9.56</td>\n",
       "      <td>ug.m-3</td>\n",
       "      <td>1</td>\n",
       "      <td>1</td>\n",
       "      <td>5</td>\n",
       "      <td>11.97</td>\n",
       "      <td>...</td>\n",
       "      <td>7</td>\n",
       "      <td>63.31</td>\n",
       "      <td>ug.m-3</td>\n",
       "      <td>1</td>\n",
       "      <td>1</td>\n",
       "      <td>1</td>\n",
       "      <td>1.33</td>\n",
       "      <td>ug.m-3</td>\n",
       "      <td>1</td>\n",
       "      <td>1</td>\n",
       "    </tr>\n",
       "    <tr>\n",
       "      <th>2013-01-01 03:00:00</th>\n",
       "      <td>1357009200</td>\n",
       "      <td>1357012800</td>\n",
       "      <td>2013-01-01 04:00:00</td>\n",
       "      <td>6001</td>\n",
       "      <td>9.45</td>\n",
       "      <td>ug.m-3</td>\n",
       "      <td>1</td>\n",
       "      <td>1</td>\n",
       "      <td>5</td>\n",
       "      <td>11.73</td>\n",
       "      <td>...</td>\n",
       "      <td>7</td>\n",
       "      <td>63.18</td>\n",
       "      <td>ug.m-3</td>\n",
       "      <td>1</td>\n",
       "      <td>1</td>\n",
       "      <td>1</td>\n",
       "      <td>1.33</td>\n",
       "      <td>ug.m-3</td>\n",
       "      <td>1</td>\n",
       "      <td>1</td>\n",
       "    </tr>\n",
       "    <tr>\n",
       "      <th>2013-01-01 04:00:00</th>\n",
       "      <td>1357012800</td>\n",
       "      <td>1357016400</td>\n",
       "      <td>2013-01-01 05:00:00</td>\n",
       "      <td>6001</td>\n",
       "      <td>13.02</td>\n",
       "      <td>ug.m-3</td>\n",
       "      <td>1</td>\n",
       "      <td>1</td>\n",
       "      <td>5</td>\n",
       "      <td>15.88</td>\n",
       "      <td>...</td>\n",
       "      <td>7</td>\n",
       "      <td>61.70</td>\n",
       "      <td>ug.m-3</td>\n",
       "      <td>1</td>\n",
       "      <td>1</td>\n",
       "      <td>1</td>\n",
       "      <td>1.33</td>\n",
       "      <td>ug.m-3</td>\n",
       "      <td>1</td>\n",
       "      <td>1</td>\n",
       "    </tr>\n",
       "  </tbody>\n",
       "</table>\n",
       "<p>5 rows × 28 columns</p>\n",
       "</div>"
      ],
      "text/plain": [
       "                     Start_Timestamp  End_Timestamp                  End  \\\n",
       "Start                                                                      \n",
       "2013-01-01 00:00:00       1356998400     1357002000  2013-01-01 01:00:00   \n",
       "2013-01-01 01:00:00       1357002000     1357005600  2013-01-01 02:00:00   \n",
       "2013-01-01 02:00:00       1357005600     1357009200  2013-01-01 03:00:00   \n",
       "2013-01-01 03:00:00       1357009200     1357012800  2013-01-01 04:00:00   \n",
       "2013-01-01 04:00:00       1357012800     1357016400  2013-01-01 05:00:00   \n",
       "\n",
       "                     PM2.5-Pollutant  PM2.5-Value PM2.5-Unit  PM2.5-Validity  \\\n",
       "Start                                                                          \n",
       "2013-01-01 00:00:00             6001        71.04     ug.m-3               1   \n",
       "2013-01-01 01:00:00             6001        20.52     ug.m-3               1   \n",
       "2013-01-01 02:00:00             6001         9.56     ug.m-3               1   \n",
       "2013-01-01 03:00:00             6001         9.45     ug.m-3               1   \n",
       "2013-01-01 04:00:00             6001        13.02     ug.m-3               1   \n",
       "\n",
       "                     PM2.5-Verification  PM10-Pollutant  PM10-Value  ...  \\\n",
       "Start                                                                ...   \n",
       "2013-01-01 00:00:00                   1               5       88.96  ...   \n",
       "2013-01-01 01:00:00                   1               5       25.17  ...   \n",
       "2013-01-01 02:00:00                   1               5       11.97  ...   \n",
       "2013-01-01 03:00:00                   1               5       11.73  ...   \n",
       "2013-01-01 04:00:00                   1               5       15.88  ...   \n",
       "\n",
       "                    O3-Pollutant  O3-Value  O3-Unit  O3-Validity  \\\n",
       "Start                                                              \n",
       "2013-01-01 00:00:00            7     43.17   ug.m-3            1   \n",
       "2013-01-01 01:00:00            7     57.15   ug.m-3            1   \n",
       "2013-01-01 02:00:00            7     63.31   ug.m-3            1   \n",
       "2013-01-01 03:00:00            7     63.18   ug.m-3            1   \n",
       "2013-01-01 04:00:00            7     61.70   ug.m-3            1   \n",
       "\n",
       "                     O3-Verification SO2-Pollutant  SO2-Value  SO2-Unit  \\\n",
       "Start                                                                     \n",
       "2013-01-01 00:00:00                1             1      12.18    ug.m-3   \n",
       "2013-01-01 01:00:00                1             1       4.65    ug.m-3   \n",
       "2013-01-01 02:00:00                1             1       1.33    ug.m-3   \n",
       "2013-01-01 03:00:00                1             1       1.33    ug.m-3   \n",
       "2013-01-01 04:00:00                1             1       1.33    ug.m-3   \n",
       "\n",
       "                     SO2-Validity  SO2-Verification  \n",
       "Start                                                \n",
       "2013-01-01 00:00:00             1                 1  \n",
       "2013-01-01 01:00:00             1                 1  \n",
       "2013-01-01 02:00:00             1                 1  \n",
       "2013-01-01 03:00:00             1                 1  \n",
       "2013-01-01 04:00:00             1                 1  \n",
       "\n",
       "[5 rows x 28 columns]"
      ]
     },
     "execution_count": 3,
     "metadata": {},
     "output_type": "execute_result"
    }
   ],
   "source": [
    "df= mb.get_cleaned_datetime_df()\n",
    "mb.set_start_date_time_index(df)\n",
    "df.head()"
   ]
  },
  {
   "cell_type": "markdown",
   "metadata": {
    "pycharm": {
     "name": "#%% md\n"
    }
   },
   "source": [
    "# Random Forest\n",
    "\n",
    "\n",
    "A Random Forest grows many decision trees from random subsets of the data. Each tree is built from a sample drawn with replacement (bootstrap sample) from the training set. When splitting a node during the construction of the tree, the split that is chosen is no longer the best split among all features. Instead, it is the best split among a random subset of the features. This process of random feature selection when building trees introduces more diversity among the trees in the model and is the key to the Random Forest's robustness.\n",
    "\n",
    "The algorithm is inherently suited for parallel processing, and it is one of its key strengths, enabling it to efficiently handle large datasets with higher dimensionality. It requires very little input preparation, and the default settings often produce a good prediction result. One of the biggest advantages of Random Forest is that it can provide a reliable feature importance estimate, offering insights into the underlying structure of the data.\n",
    "\n",
    "A major benefit of the Random Forest algorithm is its robustness to overfitting, which it achieves through the averaging of less correlated trees. Despite its simplicity, Random Forest has proven to be a highly effective and versatile algorithm that can be applied to a wide range of problems, from customer segmentation to the prediction of stock prices."
   ]
  },
  {
   "cell_type": "markdown",
   "source": [
    "## Principle Component Analysis (PCA)\n",
    "Principal Component Analysis (PCA) is a statistical procedure that uses an orthogonal transformation to convert a set of observations of possibly correlated variables into a set of values of linearly uncorrelated variables called principal components.\n",
    "\n",
    "No big benefit in RF "
   ],
   "metadata": {
    "collapsed": false,
    "pycharm": {
     "name": "#%% md\n"
    }
   }
  },
  {
   "cell_type": "code",
   "execution_count": null,
   "outputs": [],
   "source": [
    "bag.train_and_evolve(df)"
   ],
   "metadata": {
    "collapsed": false,
    "pycharm": {
     "name": "#%%\n"
    }
   }
  },
  {
   "cell_type": "markdown",
   "source": [
    "# HyperPramater Tuning\n",
    "\n",
    "{Some Data}"
   ],
   "metadata": {
    "collapsed": false,
    "pycharm": {
     "name": "#%% md\n"
    }
   }
  },
  {
   "cell_type": "code",
   "execution_count": null,
   "outputs": [],
   "source": [
    "# best_rf_estimater_model = bag.tune_and_evaluate(df)"
   ],
   "metadata": {
    "collapsed": false,
    "pycharm": {
     "name": "#%%\n"
    }
   }
  }
 ],
 "metadata": {
  "kernelspec": {
   "display_name": "Python 3 (ipykernel)",
   "language": "python",
   "name": "python3"
  },
  "language_info": {
   "codemirror_mode": {
    "name": "ipython",
    "version": 3
   },
   "file_extension": ".py",
   "mimetype": "text/x-python",
   "name": "python",
   "nbconvert_exporter": "python",
   "pygments_lexer": "ipython3",
   "version": "3.9.7"
  }
 },
 "nbformat": 4,
 "nbformat_minor": 4
}